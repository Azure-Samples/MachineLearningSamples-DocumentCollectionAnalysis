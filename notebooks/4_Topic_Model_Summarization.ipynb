{
 "cells": [
  {
   "cell_type": "markdown",
   "metadata": {
    "nbpresent": {
     "id": "31b17f54-6bfd-48da-ade1-d08773cc47f1"
    }
   },
   "source": [
    "# Automatic Learning of Key Phrases and Topics in Document Collections\n",
    "\n",
    "## Part 4: Topic Model Summarization\n",
    "\n",
    "### Overview\n",
    "\n",
    "This notebook is Part 4 of 5 in a series providing a step-by-step description of how to process and analyze the contents of a large collection of text documents in an unsupervised manner. Using Python packages and custom code examples, we have implemented the basic framework that combines key phrase learning and latent topic modeling as described in the paper entitled [\"Modeling Multiword Phrases with Constrained Phrases Tree for Improved Topic Modeling of Conversational Speech\"](http://people.csail.mit.edu/hazen/publications/Hazen-SLT-2012.pdf) which was originally presented in the 2012 IEEE Workshop on Spoken Language Technology.\n",
    "\n",
    "Although the paper examines the use of the technology for analyzing human-to-human conversations, the techniques are quite general and can be applied to a wide range natural language data including news stories, legal documents, research publications, social media forum discussion, customer feedback forms, product reviews, and many more.\n",
    "\n",
    "Part 4 of the series shows how to summarize the contents of the document based on a trained LDA topic model. The summarization is applied to an LDA topic model learned in Part 3.  \n"
   ]
  },
  {
   "cell_type": "markdown",
   "metadata": {
    "nbpresent": {
     "id": "21d8d7fd-501d-4eec-abd4-a827100e5406"
    }
   },
   "source": [
    "### Import Relevant Python Packages\n",
    "\n",
    "Most significantly, Part 3 relies on the use of the [Gensim Python library](http://radimrehurek.com/gensim/)  for generating a sparse bag-of-words representation of each document and then training a [Latent Dirichlet Allocation (LDA)](https://en.wikipedia.org/wiki/Latent_Dirichlet_allocation) model on the data. LDA produces a collection of latent topics learned in a completely unsupervised fashion from the text data. Each document can then be represented with a distribution of the learned topics."
   ]
  },
  {
   "cell_type": "code",
   "execution_count": 1,
   "metadata": {
    "collapsed": true,
    "nbpresent": {
     "id": "23d9b7ef-11db-419b-9f97-7bb07a1e3ca5"
    }
   },
   "outputs": [],
   "source": [
    "import numpy\n",
    "import pandas \n",
    "import re\n",
    "import math\n",
    "import warnings\n",
    "warnings.filterwarnings(action='ignore', category=UserWarning, module='gensim')\n",
    "import gensim\n",
    "from gensim import corpora\n",
    "from gensim import models\n",
    "from operator import itemgetter\n",
    "from collections import namedtuple\n",
    "import time\n",
    "import gc\n",
    "import sys\n",
    "import multiprocessing\n",
    "import os\n",
    "from __future__ import print_function"
   ]
  },
  {
   "cell_type": "markdown",
   "metadata": {},
   "source": [
    "### Load the Trained LDA Model Learned in Part 3 "
   ]
  },
  {
   "cell_type": "code",
   "execution_count": 2,
   "metadata": {
    "collapsed": true
   },
   "outputs": [],
   "source": [
    "# Load pretrained LDA topic model\n",
    "ldaFile = os.path.join(os.environ['AZUREML_NATIVE_SHARE_DIRECTORY'], \"CongressionalDocsLDA.pickle\")\n",
    "lda = gensim.models.ldamodel.LdaModel.load(ldaFile)\n"
   ]
  },
  {
   "cell_type": "code",
   "execution_count": 3,
   "metadata": {},
   "outputs": [
    {
     "name": "stdout",
     "output_type": "stream",
     "text": [
      "concurrent_resolution\n"
     ]
    }
   ],
   "source": [
    "# Get the mapping from token ID to token string\n",
    "id2token = lda.id2word\n",
    "print(id2token[1])"
   ]
  },
  {
   "cell_type": "markdown",
   "metadata": {
    "nbpresent": {
     "id": "c3593bde-7eee-4a9d-8565-7d9774947404"
    }
   },
   "source": [
    "### Load the Mapping of Lower-Cased Vocabulary Items to Their Most Common Surface Form"
   ]
  },
  {
   "cell_type": "code",
   "execution_count": 4,
   "metadata": {
    "collapsed": true,
    "nbpresent": {
     "id": "21678e5f-ad6c-46d1-8a71-f64bd9483c42"
    }
   },
   "outputs": [],
   "source": [
    "# Load surface form mappings here\n",
    "fp = open(os.path.join(os.environ['AZUREML_NATIVE_SHARE_DIRECTORY'], \"Vocab2SurfaceFormMapping.tsv\"))\n",
    "\n",
    "vocabToSurfaceFormHash = {}\n",
    "\n",
    "# Each line in the file has two tab separated fields;\n",
    "# the first is the vocabulary item used during modeling\n",
    "# and the second is its most common surface form in the \n",
    "# original data\n",
    "for stringIn in fp.readlines():\n",
    "    fields = stringIn.strip().split(\"\\t\")\n",
    "    if len(fields) != 2:\n",
    "        print (\"Warning: Bad line in surface form mapping file: %s\" % stringIn)\n",
    "    elif fields[0] == \"\" or fields[1] == \"\":\n",
    "        print (\"Warning: Bad line in surface form mapping file: %s\" % stringIn)\n",
    "    else:\n",
    "        vocabToSurfaceFormHash[fields[0]] = fields[1]\n",
    "fp.close()\n"
   ]
  },
  {
   "cell_type": "code",
   "execution_count": 5,
   "metadata": {
    "collapsed": true
   },
   "outputs": [],
   "source": [
    "def CreateTermIDToSurfaceFormMapping(id2token, token2surfaceform):\n",
    "    termIDToSurfaceFormMap = []\n",
    "    for i in range(0, len(id2token)):\n",
    "        if id2token[i] in token2surfaceform:\n",
    "            termIDToSurfaceFormMap.append(token2surfaceform[id2token[i]])\n",
    "    return termIDToSurfaceFormMap;\n",
    "\n",
    "termIDToSurfaceFormMap = CreateTermIDToSurfaceFormMapping(id2token, vocabToSurfaceFormHash);"
   ]
  },
  {
   "cell_type": "code",
   "execution_count": 6,
   "metadata": {},
   "outputs": [
    {
     "name": "stdout",
     "output_type": "stream",
     "text": [
      "Term index: 20\n",
      "Modeled form: continued\n",
      "Surface form: continued\n"
     ]
    }
   ],
   "source": [
    "# print out the modeled token form and the best matching surface for the token with the index value of 20\n",
    "i = 20\n",
    "print('Term index:', i)\n",
    "print('Modeled form:', id2token[i])\n",
    "print('Surface form:', termIDToSurfaceFormMap[i])"
   ]
  },
  {
   "cell_type": "markdown",
   "metadata": {},
   "source": [
    "### Use the Build-in <i> print_topics </i> Method to Summarize a Random Sample of 10 Topics"
   ]
  },
  {
   "cell_type": "code",
   "execution_count": 7,
   "metadata": {},
   "outputs": [
    {
     "name": "stdout",
     "output_type": "stream",
     "text": [
      "Number of topics: 200\n"
     ]
    },
    {
     "data": {
      "text/plain": [
       "[(153,\n",
       "  '0.044*\"chemical\" + 0.035*\"risks\" + 0.031*\"exposure\" + 0.030*\"substance\" + 0.029*\"online\" + 0.029*\"conference\" + 0.026*\"substances\" + 0.024*\"advisory_committee\" + 0.024*\"chemicals\" + 0.019*\"hazard\"'),\n",
       " (147,\n",
       "  '0.022*\"water\" + 0.018*\"monitoring\" + 0.017*\"plan\" + 0.016*\"species\" + 0.015*\"great_lakes\" + 0.012*\"conservation\" + 0.012*\"impacts\" + 0.011*\"protection\" + 0.010*\"water_rights\" + 0.010*\"basin\"'),\n",
       " (35,\n",
       "  '0.086*\"director\" + 0.056*\"institute\" + 0.044*\"qualifying\" + 0.037*\"human\" + 0.034*\"bureau\" + 0.034*\"initiative\" + 0.023*\"alcohol\" + 0.020*\"authorizes_the_director\" + 0.019*\"amendments_act\" + 0.015*\"cia\"'),\n",
       " (71,\n",
       "  '0.047*\"price\" + 0.038*\"production\" + 0.038*\"products\" + 0.038*\"agricultural\" + 0.027*\"sales\" + 0.026*\"market\" + 0.026*\"product\" + 0.023*\"marketing\" + 0.022*\"sale\" + 0.017*\"commodities\"'),\n",
       " (57,\n",
       "  '0.049*\"team\" + 0.035*\"september_11\" + 0.028*\"protocol\" + 0.026*\"v.\" + 0.026*\"cancellation\" + 0.025*\"franchise\" + 0.022*\"save\" + 0.020*\"parcels\" + 0.017*\"league\" + 0.017*\"case\"'),\n",
       " (158,\n",
       "  '0.196*\"day\" + 0.105*\"year\" + 0.036*\"september\" + 0.035*\"second\" + 0.029*\"october\" + 0.026*\"scheduled\" + 0.021*\"third\" + 0.019*\"modification\" + 0.015*\"august_1\" + 0.014*\"suspends\"'),\n",
       " (62,\n",
       "  '0.033*\"collection\" + 0.025*\"evidence\" + 0.017*\"investigation\" + 0.016*\"disclose\" + 0.015*\"information\" + 0.014*\"disclosure\" + 0.013*\"investigative\" + 0.013*\"testimony\" + 0.011*\"challenge\" + 0.010*\"witness\"'),\n",
       " (24,\n",
       "  '0.101*\"ensure\" + 0.079*\"facility\" + 0.065*\"community\" + 0.027*\"facilities\" + 0.023*\"response\" + 0.021*\"integrated\" + 0.019*\"strategies\" + 0.017*\"access\" + 0.016*\"residents\" + 0.015*\"enhance\"'),\n",
       " (32,\n",
       "  '0.051*\"oil\" + 0.030*\"noaa\" + 0.029*\"management_plan\" + 0.026*\"coastal\" + 0.020*\"production\" + 0.018*\"literacy\" + 0.017*\"crude_oil\" + 0.016*\"oil_and_gas\" + 0.016*\"offshore\" + 0.016*\"petroleum\"'),\n",
       " (177,\n",
       "  '0.046*\"hours\" + 0.032*\"puerto_rico\" + 0.031*\"fewer\" + 0.028*\"performed\" + 0.026*\"inclusion\" + 0.022*\"hour\" + 0.019*\"miles\" + 0.018*\"wage\" + 0.018*\"unused\" + 0.015*\"waivers\"')]"
      ]
     },
     "execution_count": 7,
     "metadata": {},
     "output_type": "execute_result"
    }
   ],
   "source": [
    "numTopics = lda.num_topics\n",
    "print (\"Number of topics:\", numTopics)\n",
    "lda.print_topics(10)"
   ]
  },
  {
   "cell_type": "markdown",
   "metadata": {},
   "source": [
    "### Use Word Cloud to Visualize a Topic"
   ]
  },
  {
   "cell_type": "markdown",
   "metadata": {},
   "source": [
    "Install WordCloud Python package:"
   ]
  },
  {
   "cell_type": "code",
   "execution_count": 8,
   "metadata": {},
   "outputs": [
    {
     "name": "stdout",
     "output_type": "stream",
     "text": [
      "Requirement already satisfied: wordcloud in c:\\users\\kehuan\\appdata\\local\\amlworkbench\\python\\lib\\site-packages\n",
      "Requirement already satisfied: pillow in c:\\users\\kehuan\\appdata\\local\\amlworkbench\\python\\lib\\site-packages (from wordcloud)\n",
      "Requirement already satisfied: matplotlib in c:\\users\\kehuan\\appdata\\local\\amlworkbench\\python\\lib\\site-packages (from wordcloud)\n",
      "Requirement already satisfied: numpy>=1.6.1 in c:\\users\\kehuan\\appdata\\local\\amlworkbench\\python\\lib\\site-packages (from wordcloud)\n",
      "Requirement already satisfied: olefile in c:\\users\\kehuan\\appdata\\local\\amlworkbench\\python\\lib\\site-packages (from pillow->wordcloud)\n",
      "Requirement already satisfied: pyparsing!=2.0.4,!=2.1.2,!=2.1.6,>=1.5.6 in c:\\users\\kehuan\\appdata\\local\\amlworkbench\\python\\lib\\site-packages (from matplotlib->wordcloud)\n",
      "Requirement already satisfied: six>=1.10 in c:\\users\\kehuan\\appdata\\local\\amlworkbench\\python\\lib\\site-packages (from matplotlib->wordcloud)\n",
      "Requirement already satisfied: python-dateutil in c:\\users\\kehuan\\appdata\\local\\amlworkbench\\python\\lib\\site-packages (from matplotlib->wordcloud)\n",
      "Requirement already satisfied: pytz in c:\\users\\kehuan\\appdata\\local\\amlworkbench\\python\\lib\\site-packages (from matplotlib->wordcloud)\n",
      "Requirement already satisfied: cycler>=0.10 in c:\\users\\kehuan\\appdata\\local\\amlworkbench\\python\\lib\\site-packages (from matplotlib->wordcloud)\n"
     ]
    }
   ],
   "source": [
    "!pip install wordcloud"
   ]
  },
  {
   "cell_type": "code",
   "execution_count": 9,
   "metadata": {
    "collapsed": true
   },
   "outputs": [],
   "source": [
    "import matplotlib.pyplot as plt\n",
    "from wordcloud import WordCloud\n",
    "\n",
    "def _terms_to_counts(terms, multiplier=1000):\n",
    "    return ' '.join([' '.join(int(multiplier * x[1]) * [x[0]]) for x in terms])\n",
    "\n",
    "\n",
    "def visualizeTopic(lda, topicID=0, topn=500, multiplier=1000):\n",
    "    terms = []\n",
    "    tmp = lda.show_topic(topicID, topn)\n",
    "    for term in tmp:\n",
    "        terms.append(term)\n",
    "    \n",
    "    wordcloud = WordCloud(max_words=10000, collocations=False).generate(_terms_to_counts(terms, multiplier))\n",
    "    fig = plt.figure(figsize=(12, 16))\n",
    "    plt.imshow(wordcloud)\n",
    "    plt.axis(\"off\")\n",
    "    plt.title(\"Topic %d\" % topicID)\n",
    "    plt.show()\n",
    "    "
   ]
  },
  {
   "cell_type": "code",
   "execution_count": 10,
   "metadata": {
    "collapsed": true
   },
   "outputs": [],
   "source": [
    "%matplotlib inline"
   ]
  },
  {
   "cell_type": "code",
   "execution_count": 11,
   "metadata": {},
   "outputs": [
    {
     "data": {
      "image/png": "[encoded data removed]",
      "text/plain": [
       "<matplotlib.figure.Figure at 0x2ab56c55e80>"
      ]
     },
     "metadata": {},
     "output_type": "display_data"
    }
   ],
   "source": [
    "visualizeTopic(lda, topicID=0, topn=1000)"
   ]
  },
  {
   "cell_type": "code",
   "execution_count": 12,
   "metadata": {},
   "outputs": [
    {
     "data": {
      "image/png": "[encoded data removed]",
      "text/plain": [
       "<matplotlib.figure.Figure at 0x2ab58ddae80>"
      ]
     },
     "metadata": {},
     "output_type": "display_data"
    }
   ],
   "source": [
    "visualizeTopic(lda, topicID=50, topn=1000)"
   ]
  },
  {
   "cell_type": "markdown",
   "metadata": {
    "nbpresent": {
     "id": "6975bd59-2a7c-466c-b248-7dbff82dea79"
    }
   },
   "source": [
    "### Load the Document Probability Score P(topic|doc) Computed by the LDA Model from File\n",
    "\n",
    "In this section, each document from the corpus is passed into the LDA model which then infers the topic distribution for each document. The topic distributions are collected into a single numpy array."
   ]
  },
  {
   "cell_type": "code",
   "execution_count": 13,
   "metadata": {},
   "outputs": [
    {
     "data": {
      "text/plain": [
       "(297462, 200)"
      ]
     },
     "execution_count": 13,
     "metadata": {},
     "output_type": "execute_result"
    }
   ],
   "source": [
    "docTopicProbsFile = os.path.join(os.environ['AZUREML_NATIVE_SHARE_DIRECTORY'], \"CongressionalDocTopicProbs.npy\")\n",
    "\n",
    "# docTopicProbs[docID,TopicID] --> P(topic|doc)\n",
    "docTopicProbs = numpy.load(docTopicProbsFile)\n",
    "\n",
    "# The docTopicProbs shape should be (# of docs, # of topics)\n",
    "docTopicProbs.shape"
   ]
  },
  {
   "cell_type": "markdown",
   "metadata": {
    "nbpresent": {
     "id": "65904084-4721-4b58-8ea5-711b7b6388fa"
    }
   },
   "source": [
    "### Compute the Global Topic Likelihood Scores P(topic)"
   ]
  },
  {
   "cell_type": "code",
   "execution_count": 14,
   "metadata": {
    "collapsed": true,
    "nbpresent": {
     "id": "b43ca7bd-75e7-4d17-9f77-80ce05375dad"
    },
    "scrolled": true
   },
   "outputs": [],
   "source": [
    "# Computing the global topic likelihoods by aggregating topic probabilities over all documents\n",
    "# topicProbs[topicID] --> P(topic)\n",
    "def ComputeTopicProbs(docTopicProbs):\n",
    "    topicProbs = docTopicProbs.sum(axis=0) \n",
    "    topicProbs = topicProbs/sum(topicProbs)\n",
    "    return topicProbs\n",
    "\n",
    "topicProbs = ComputeTopicProbs(docTopicProbs)"
   ]
  },
  {
   "cell_type": "markdown",
   "metadata": {
    "nbpresent": {
     "id": "82e2d906-b067-419d-9532-378c6f36fd69"
    }
   },
   "source": [
    "#### Convert the Topic Language Model Information P(term|topic) from the LDA Model into a NumPy Representation"
   ]
  },
  {
   "cell_type": "code",
   "execution_count": 15,
   "metadata": {
    "collapsed": true,
    "nbpresent": {
     "id": "7fd9e75d-7abf-4dca-b173-23405ebdfbf6"
    }
   },
   "outputs": [],
   "source": [
    "def ExtractTopicLMMatrix(lda):\n",
    "    # Initialize the matrix\n",
    "    docTopicProbs = numpy.zeros((lda.num_topics,lda.num_terms))\n",
    "    for topicID in range(0,lda.num_topics):\n",
    "        termProbsList = lda.get_topic_terms(topicID,lda.num_terms)\n",
    "        for termProb in termProbsList:\n",
    "            docTopicProbs[topicID,termProb[0]]=termProb[1]\n",
    "    return docTopicProbs\n",
    "    \n",
    "# topicTermProbs[topicID,termID] --> P(term|topic)\n",
    "topicTermProbs = ExtractTopicLMMatrix(lda)"
   ]
  },
  {
   "cell_type": "code",
   "execution_count": 16,
   "metadata": {
    "collapsed": true
   },
   "outputs": [],
   "source": [
    "# Set this to true if you want to save the Topic LMs for a newly trained LDA model to file\n",
    "if True:\n",
    "    numpy.save(os.path.join(os.environ['AZUREML_NATIVE_SHARE_DIRECTORY'], \"CongressionalDocTopicLM.npy\"), topicTermProbs)"
   ]
  },
  {
   "cell_type": "markdown",
   "metadata": {
    "nbpresent": {
     "id": "688b7bd8-bb00-442d-a195-dd1310424d82"
    }
   },
   "source": [
    "#### Compute P(topic,term), P(term), and P(topic|term)"
   ]
  },
  {
   "cell_type": "code",
   "execution_count": 17,
   "metadata": {
    "collapsed": true,
    "nbpresent": {
     "id": "ac3b8bc5-6733-46cf-9451-10b7c9ef8d88"
    }
   },
   "outputs": [],
   "source": [
    "# Compute the joint likelihoods of topics and terms\n",
    "# jointTopicTermProbs[topicID,termID] --> P(topic,term) = P(term|topic)*P(topic)\n",
    "jointTopicTermProbs = numpy.diag(topicProbs).dot(topicTermProbs) \n",
    "\n",
    "# termProbs[termID] --> P(term)\n",
    "termProbs = jointTopicTermProbs.sum(axis=0)\n",
    "\n",
    "# topicProbsPermTerm[topicID,termID] --> P(topic|term)\n",
    "topicProbsPerTerm = jointTopicTermProbs / termProbs"
   ]
  },
  {
   "cell_type": "code",
   "execution_count": 18,
   "metadata": {
    "nbpresent": {
     "id": "e45a357e-ab67-4d85-80e9-d433714f9798"
    }
   },
   "outputs": [
    {
     "name": "stdout",
     "output_type": "stream",
     "text": [
      "1: amends --> 0.008112\n",
      "2: national --> 0.004253\n",
      "3: requires --> 0.004209\n",
      "4: provides --> 0.003575\n",
      "5: united_states --> 0.003225\n",
      "6: certain --> 0.003165\n",
      "7: state --> 0.003042\n",
      "8: including --> 0.002815\n",
      "9: provide --> 0.002588\n",
      "10: program --> 0.002580\n",
      "11: harmonized_tariff_schedule_of_the_united_states --> 0.002478\n",
      "12: all --> 0.002148\n",
      "13: december_31 --> 0.002073\n",
      "14: prohibits --> 0.002059\n",
      "15: specified --> 0.002052\n",
      "16: states --> 0.001976\n",
      "17: individual --> 0.001885\n",
      "18: authorizes --> 0.001797\n",
      "19: increase --> 0.001713\n",
      "20: programs --> 0.001695\n",
      "21: extend --> 0.001684\n",
      "22: u.s. --> 0.001655\n",
      "23: federal --> 0.001648\n",
      "24: respect --> 0.001645\n",
      "25: services --> 0.001554\n"
     ]
    }
   ],
   "source": [
    "# Print most frequent words in LDA vocab\n",
    "mostFrequentTermIDs = (-termProbs).argsort()\n",
    "for i in range(0,25):\n",
    "    print (\"%d: %s --> %f\" % (i+1, id2token[mostFrequentTermIDs[i]], termProbs[mostFrequentTermIDs[i]]))"
   ]
  },
  {
   "cell_type": "markdown",
   "metadata": {
    "nbpresent": {
     "id": "9c6d2ec8-2fd6-43ac-89e7-293228019bb2"
    }
   },
   "source": [
    "#### Compute WPMI\n",
    "\n",
    "To determine which vocabulary terms are most representative of a topic, systems typically just choose a set of terms that are most likely for the topic, i.e., terms that maximize the languauge model expression <i>P(term|topic)</i> for the given topic. This approach is adequate for many data sets. However, for some data sets there may be common words in the corpus that are frequent terms within multiple topics, and hence not a distinguishing term for any of these topics. In this case, selecting words which have the largest weighted pointwise mutual information (WPMI) with a given topic is more appropriate. \n",
    "\n",
    "The expression for WPMI between a word and token is given as:\n",
    "\n",
    "\n",
    "$WPMI(term,topic) = P(term,topic)\\log\\frac{P(term,topic)}{P(term)P(topic)} = P(term,topic)\\log\\frac{P(topic|term)}{P(topic)}$\n"
   ]
  },
  {
   "cell_type": "code",
   "execution_count": 19,
   "metadata": {},
   "outputs": [
    {
     "data": {
      "text/plain": [
       "(200, 68145)"
      ]
     },
     "execution_count": 19,
     "metadata": {},
     "output_type": "execute_result"
    }
   ],
   "source": [
    "topicTermWPMI =(jointTopicTermProbs.transpose()*numpy.log(topicProbsPerTerm.transpose()/topicProbs)).transpose()\n",
    "topicTermWPMI.shape"
   ]
  },
  {
   "cell_type": "markdown",
   "metadata": {
    "nbpresent": {
     "id": "fd3d5300-60a1-4873-a52d-a9d5b89b3463"
    }
   },
   "source": [
    "#### Compute Topic to Document Purity measure for Each Topic\n",
    "\n",
    "One measure of the importance or quality of a topic is its topic to document purity measure. This purity measure assumes latent topics that dominate the documents in which they appear are more semantically important than latent topics that are weakly spread across many documents. This concept was introduced in the paper [\"Latent Topic Modeling for Audio Corpus Summarization](http://people.csail.mit.edu/hazen/publications/Hazen-Interspeech11.pdf). The purity measure is expressed by the following equation:\n",
    "\n",
    "$Purity(topic) = \\exp\\left (\n",
    "                 \\frac{\\sum_{\\forall doc}P(topic|doc)\\log P(topic|doc)}{\\sum_{\\forall doc}P(topic|doc)}\n",
    "                \\right )$"
   ]
  },
  {
   "cell_type": "code",
   "execution_count": 20,
   "metadata": {
    "collapsed": true,
    "nbpresent": {
     "id": "f2b0a490-a67d-47fc-872f-1e4696886ecb"
    }
   },
   "outputs": [],
   "source": [
    "topicPurity = numpy.exp(((docTopicProbs * numpy.log(docTopicProbs)).sum(axis=0))/(docTopicProbs).sum(axis=0))"
   ]
  },
  {
   "cell_type": "markdown",
   "metadata": {
    "nbpresent": {
     "id": "61921e49-660e-4d97-a4c8-feec4804e2ce"
    }
   },
   "source": [
    "#### Create Topic Summaries "
   ]
  },
  {
   "cell_type": "markdown",
   "metadata": {},
   "source": [
    "In the code snippet below we demonstrate how the WPMI measure lowers to score of some common tokens that do not provide value in a topic summary in comparison to the standard word likely measure P(token|topic). For topic 2 below notice how the generic words <i>person</i>, <i>United States</i>, and <i>Provides</i> have their position in the summaries lowered by the WPMI measure relative to the straight P(token|topic) measure, while the WMPI measure improves the ranking for the content bearing tokens <i>felony</i>, <i>sentencing</i> and <i>forfeiture</i>.  "
   ]
  },
  {
   "cell_type": "code",
   "execution_count": 21,
   "metadata": {
    "nbpresent": {
     "id": "902f0953-1cc3-465a-a93b-aa08daf2b18b"
    }
   },
   "outputs": [
    {
     "name": "stdout",
     "output_type": "stream",
     "text": [
      "                                        WPMI                                                 Prob\n",
      " 1:                                fees ---> 0.001144                                   fees ---> 0.049032\n",
      " 2:                            receipts ---> 0.000628                               receipts ---> 0.023822\n",
      " 3:                               OASDI ---> 0.000597                               revenues ---> 0.023587\n",
      " 4:                            revenues ---> 0.000576                                  OASDI ---> 0.022434\n",
      " 5:                         Mississippi ---> 0.000544                            Mississippi ---> 0.020428\n",
      " 6:                          reductions ---> 0.000428                                  total ---> 0.019655\n",
      " 7:                               total ---> 0.000371                              Prohibits ---> 0.019272\n",
      " 8:                    Preservation Act ---> 0.000335                             reductions ---> 0.018895\n",
      " 9:                              exceed ---> 0.000313                                 exceed ---> 0.017399\n",
      "10:                               debts ---> 0.000309                               Requires ---> 0.016151\n",
      "11:                     direct spending ---> 0.000280                               increase ---> 0.013910\n",
      "12:                           revisions ---> 0.000274                             Authorizes ---> 0.013005\n",
      "13:                                lien ---> 0.000256                                 excess ---> 0.012701\n",
      "14: Amends the Congressional Budget Act ---> 0.000255                            fiscal year ---> 0.012654\n",
      "15:                         trust funds ---> 0.000239                       Preservation Act ---> 0.012582\n"
     ]
    }
   ],
   "source": [
    "topicID = 2\n",
    "highestWPMITermIDs = (-topicTermWPMI[topicID]).argsort()\n",
    "highestProbTermIDs = (-topicTermProbs[topicID]).argsort()\n",
    "print (\"                                        WPMI                                                 Prob\")\n",
    "for i in range(0,15):\n",
    "    print (\"%2d: %35s ---> %8.6f    %35s ---> %8.6f\" % (i+1, \n",
    "                                                        termIDToSurfaceFormMap[highestWPMITermIDs[i]], \n",
    "                                                        topicTermWPMI[topicID,highestWPMITermIDs[i]],\n",
    "                                                        termIDToSurfaceFormMap[highestProbTermIDs[i]], \n",
    "                                                        topicTermProbs[topicID,highestProbTermIDs[i]]))                "
   ]
  },
  {
   "cell_type": "code",
   "execution_count": 22,
   "metadata": {
    "collapsed": true,
    "nbpresent": {
     "id": "5fef2737-5cde-43e2-8c05-04320722da93"
    }
   },
   "outputs": [],
   "source": [
    "def CreateTopicSummaries(topicTermScores, id2token, tokenid2surfaceform, maxStringLen):\n",
    "    reIgnore = re.compile('^[a-z]\\.$')\n",
    "    reAcronym = re.compile('^[A-Z]+$')\n",
    "    topicSummaries = []\n",
    "    for topicID in range(0,len(topicTermScores)):\n",
    "        rankedTermIDs = (-topicTermScores[topicID]).argsort()\n",
    "        maxNumTerms = len(rankedTermIDs)\n",
    "        termIndex = 0\n",
    "        stop = 0\n",
    "        outputTokens = []\n",
    "        prevAcronyms = []\n",
    "        topicSummary = \"\"\n",
    "        while not stop:\n",
    "            # If we've run out of tokens then stop...\n",
    "            if (termIndex>=maxNumTerms):\n",
    "                stop=1\n",
    "            # ...otherwise consider adding next token to summary\n",
    "            else:\n",
    "                nextToken = id2token[rankedTermIDs[termIndex]]\n",
    "                nextTokenOut = tokenid2surfaceform[rankedTermIDs[termIndex]]\n",
    "                keepToken = 1\n",
    "                \n",
    "                # Prepare to test current word as an acronym or a string that reduces to an acronym\n",
    "                nextTokenIsAcronym = 0\n",
    "                nextTokenAbbrev = \"\"\n",
    "                if reAcronym.match(nextTokenOut) != None:\n",
    "                    nextTokenIsAcronym = 1\n",
    "                else:\n",
    "                    subTokens = nextToken.split('_')\n",
    "                    if (len(subTokens)>1):\n",
    "                        for subToken in subTokens:\n",
    "                            nextTokenAbbrev += subToken[0]                        \n",
    "\n",
    "                # See if we should ignore this token because it matches the regex for tokens to ignore\n",
    "                if ( reIgnore.match(nextToken) != None ):\n",
    "                    keepToken = 0;\n",
    "\n",
    "                # Otherwise see if we should ignore this token because\n",
    "                # it is a close match to a previously selected token\n",
    "                elif len(outputTokens) > 0:          \n",
    "                    for prevToken in outputTokens:\n",
    "                        # Ignore token if it is a substring of a previous token\n",
    "                        if nextToken in prevToken:\n",
    "                            keepToken = 0\n",
    "                        # Ignore token if it is a superstring of a previous token\n",
    "                        elif prevToken in nextToken:\n",
    "                            keepToken = 0\n",
    "                        # Ignore token if it is an acronym of a previous token\n",
    "                        elif nextTokenIsAcronym:\n",
    "                            subTokens = prevToken.split('_')\n",
    "                            if (len(subTokens)>1):\n",
    "                                prevTokenAbbrev = \"\"\n",
    "                                for subToken in subTokens:\n",
    "                                    prevTokenAbbrev += subToken[0]\n",
    "                                if prevTokenAbbrev == nextToken:\n",
    "                                    keepToken = 0                                  \n",
    "                    for prevAcronym in prevAcronyms:\n",
    "                        # Ignore token if it is the long form of an earlier acronym\n",
    "                        if nextTokenAbbrev == prevAcronym:\n",
    "                                keepToken = 0\n",
    "\n",
    "                # Add tokens to the summary for this topic                \n",
    "                if keepToken:\n",
    "                    # Always add at least one token to the summary\n",
    "                    if len(topicSummary) == 0 or ( len(topicSummary) + len(nextTokenOut) + 1 < maxStringLen):\n",
    "                        if len(topicSummary) == 0:\n",
    "                            topicSummary = nextTokenOut\n",
    "                        else: \n",
    "                            topicSummary += \", \" + nextTokenOut\n",
    "                        outputTokens.append(nextToken)\n",
    "                        if nextTokenIsAcronym:\n",
    "                            prevAcronyms.append(nextToken)\n",
    "                    # If we didn't add the previous word and we're within 10 characters of \n",
    "                    # the max string length then we'll just stop here\n",
    "                    elif maxStringLen - len(topicSummary) < 10 :\n",
    "                        stop = 1\n",
    "                    # Otherwise if the current token is too long, but we still have more than\n",
    "                    # 10 characters of space left we'll just skip this one and add the next token\n",
    "                    # one if it's short enough\n",
    "                termIndex += 1         \n",
    "        topicSummaries.append(topicSummary)\n",
    "    return topicSummaries   \n",
    "    \n",
    "topicSummaries = CreateTopicSummaries(topicTermWPMI, id2token, termIDToSurfaceFormMap, 85)"
   ]
  },
  {
   "cell_type": "code",
   "execution_count": 23,
   "metadata": {
    "collapsed": true,
    "nbpresent": {
     "id": "bbe5cc20-ad4f-482c-8f94-09de87752d30"
    }
   },
   "outputs": [],
   "source": [
    "# Rank the topics by their prominence score in the corpus\n",
    "# The topic score combines the total weight of each a topic in the corpus \n",
    "# with a topic document purity score for topic \n",
    "# Topics with topicScore > 1 are generally very strong strong topics\n",
    "\n",
    "topicScore = (numTopics * topicProbs) * (2 * topicPurity)\n",
    "topicRanking = (-topicScore).argsort()"
   ]
  },
  {
   "cell_type": "markdown",
   "metadata": {},
   "source": [
    "### Print Out Topical Summary of the Entire Corpus "
   ]
  },
  {
   "cell_type": "code",
   "execution_count": 24,
   "metadata": {
    "nbpresent": {
     "id": "dacd12f0-444b-4759-af58-27d4ba1c4fe5"
    },
    "scrolled": false
   },
   "outputs": [
    {
     "name": "stdout",
     "output_type": "stream",
     "text": [
      "Rank  ID  Score  Prob  Purity  Summary\n",
      "   1 190  2.645 (2.158, 0.306) Amends, Harmonized Tariff Schedule of the United States, December 31, extend, duty\n",
      "   2  14  2.564 (2.517, 0.255) tax, qualified, credit, Amends the Internal Revenue Code, DOE, income, property\n",
      "   3 136  1.957 (1.230, 0.398) alien, accountability, Amends the Immigration and Nationality Act, visa, removal\n",
      "   4 160  1.176 (1.141, 0.258) benefits, Social Security, Old Age, Survivors and Disability Insurance, disabled\n",
      "   5   9  0.861 (1.019, 0.211) Medicaid, health care, Medicare, services, providers, payment, Social Security Act\n",
      "   6 108  0.658 (0.989, 0.166) land, water, conveyance, County, BLM, Directs the Secretary of the Interior, exchange\n",
      "   7 164  0.628 (0.997, 0.158) National, Week, month, America, freedom, restore, Soviet Union, rule of law, June\n",
      "   8  61  0.597 (0.811, 0.184) Modifies, Provides for the relief, associated, John, withdrawal, James, derivatives\n",
      "   9 127  0.584 (0.915, 0.160) committee, Senate, House, resolution, Congress, Chairman, elects, AOC, Amends rule\n",
      "  10 119  0.529 (1.135, 0.117) Board, Provides, States, provisions of this Act, necessary, Secretary, Stipulates\n",
      "  11 187  0.492 (0.773, 0.159) veterans, veteran's, disability, disease, medical services, benefits, licensure\n",
      "  12  79  0.483 (0.721, 0.168) drug, product, FDA, testing, manufacturer, labeling, Amends the Federal Food\n",
      "  13   3  0.479 (0.837, 0.143) offense, crime, victim, DOJ, criminal, Directs the Attorney General, sexual assault\n",
      "  14 191  0.478 (0.712, 0.168) trade, country, imports, countries, USTR, multilateral, U.S., negotiations, ITC\n",
      "  15  42  0.474 (0.671, 0.176) plan, distributions, ERISA, account, contributions, pension, participant, IRC\n",
      "  16  65  0.464 (0.784, 0.148) budget, legislation, fiscal year, Congress, Appropriates funds, enacted, estimate\n",
      "  17 109  0.438 (0.808, 0.135) suspend, Designates, March, January, suspension, named individual, El Salvador\n",
      "  18  75  0.430 (0.733, 0.147) Medicare, medical, Amends title XVIII, physician, patient, hospitals, pediatric\n",
      "  19 192  0.421 (0.730, 0.144) position, pay, Federal employees, service, retirement, OPM, SSI, annuity, AFDC\n",
      "  20  89  0.400 (0.607, 0.165) H.R, consideration, open, inapplicable, adopted, Waives points of order, debt limit\n",
      "  21  29  0.399 (0.815, 0.122) River, California, Park, Washington, Museum, New Mexico, Arizona, Louisiana, Street\n",
      "  22 193  0.397 (0.946, 0.105) person, violation, knowingly, prohibited, possession, fine, individual, engaging\n",
      "  23  49  0.393 (0.832, 0.118) Government, United Nations, support, efforts, Expresses the sense of the Senate\n",
      "  24 135  0.381 (0.777, 0.123) health, training, programs, grants, clinical, outcomes, education, scholarship\n",
      "  25  73  0.378 (0.688, 0.137) education, students, LEAs, schools, teachers, programs, ESEA, awareness, learning\n",
      "  26 116  0.367 (0.702, 0.131) Wilderness, National Forest, counties, ED, North Carolina, timber, adjacent, Missouri\n",
      "  27 155  0.351 (0.843, 0.104) action, court, order, proceeding, notice, party, pending, complaint, appeal, decision\n",
      "  28 173  0.304 (0.571, 0.133) securities, transactions, financial, i.e, issuer, banking, registered, trading, CFTC\n",
      "  29 144  0.304 (0.651, 0.117) military, defense, armed forces, Coast Guard, active duty, matters, civilian, member\n",
      "  30   7  0.301 (0.704, 0.107) increase, rates, Relief Act, percentage, exception, deficit, reduce, Act to revise\n",
      "  31   0  0.301 (0.665, 0.113) countries, assistance, country, Israel, U.S., aid, Afghanistan, Pakistan, refugees\n",
      "  32 168  0.300 (0.678, 0.111) project, Texas, Lake, Florida, New York, restoration, Pennsylvania, Island, city\n",
      "  33  90  0.297 (0.764, 0.097) project, construction, Tribe, Indian, funds, Prohibits, repair, salaries and expenses\n",
      "  34  80  0.296 (0.730, 0.101) research, Center, prevention, HHS, establish, public health, NIH, disease, develop\n",
      "  35 102  0.291 (0.679, 0.107) introduced, President, Congress, enactment, joint resolution, attacks, session\n",
      "  36 105  0.286 (0.701, 0.102) amendment, proposed, Constitution, adoption, Congress, Convention, law, States, bills\n",
      "  37 103  0.282 (0.574, 0.123) building, located, Postal Service, U.S, mail, Designates, currency, delivery\n",
      "  38 158  0.282 (0.632, 0.112) day, year, September, second, October, scheduled, third, modification, August 1\n",
      "  39  85  0.281 (0.677, 0.104) employee, employer, employment, leave, wages, work, employed, hire, OSHA, Withdraws\n",
      "  40 120  0.274 (0.705, 0.097) grant program, fiscal year, programs, services, innovation, telecommunications\n",
      "  41  21  0.269 (0.535, 0.126) safety, aircraft, airport, FAA, flight, passenger, aviation, air carrier, TSA\n",
      "  42 139  0.269 (0.668, 0.101) spouse, allowance, dependent, death, U.S. citizen, deceased, individual, married\n",
      "  43  95  0.263 (0.713, 0.092) information, access, disclosure, fraud, records, privacy, protections, enforcement\n",
      "  44 117  0.260 (0.840, 0.077) State, local, Federal, navigable waters, approved, Arctic, Indian lands, laws\n",
      "  45  97  0.255 (0.724, 0.088) people, Calls, supports, nation, governments, political, continue, leadership\n",
      "  46  70  0.251 (0.542, 0.116) contributions, election, candidate, travel, campaign, expenditure, personal, FEC\n",
      "  47  11  0.241 (0.503, 0.120) housing, FEMA, flood insurance, rental, properties, assistance, PHA, multifamily\n",
      "  48 172  0.238 (0.772, 0.077) promote, coordinate, develop, improve, address, resources, issues, coordination\n",
      "  49  71  0.234 (0.645, 0.091) price, agricultural, production, products, sales, market, commodities, sold, producer\n",
      "  50 146  0.233 (0.637, 0.091) loan, guarantee, financing, bonds, obligations, outstanding, purchase, finance\n",
      "  51  43  0.232 (0.768, 0.076) Revises, provisions, currently, certain, Repeals, Eliminates, requirement, child care\n",
      "  52 198  0.227 (0.596, 0.095) American, anniversary, offset, honor, history, war, educational assistance, recognize\n",
      "  53  40  0.225 (0.744, 0.075) plan, review, goals, Requires, requirements, guidelines, implementation, performance\n",
      "  54  44  0.220 (0.607, 0.091) individual, SSA, unemployment compensation, State, adult, program, spouses, period\n",
      "  55 114  0.215 (0.710, 0.076) program, projects, Directs the Secretary, funding, Authorizes appropriations, urban\n",
      "  56 145  0.215 (0.523, 0.103) coverage, insurance, premium, group, benefits, PPACA, policy, health, catastrophic\n",
      "  57 137  0.213 (0.721, 0.074) data, information, strategy, assessment, guidance, report, identify, website, list\n",
      "  58 157  0.209 (0.501, 0.104) transportation, highway, interstate, transit, route, pesticide, program requirements\n",
      "  59  31  0.208 (0.449, 0.116) farm, producers, crop, program, Related Agencies, dairy, conservation, acreage\n",
      "  60  63  0.206 (0.561, 0.092) lease, best practices, Forest Service, leasing, boundaries, permit, acres, mining\n",
      "  61  91  0.203 (0.609, 0.083) Office, Department, functions, administration, personnel, Inspector General, Affairs\n",
      "  62   4  0.193 (0.624, 0.077) international, Urges, nuclear, Expresses the sense of the Congress, threat, U.S.\n",
      "  63 128  0.191 (0.625, 0.076) agency, agencies, Requires the Director, Federal, review, information, oversight\n",
      "  64   6  0.188 (0.596, 0.079) application, date, patent, period, filed, extension, petition, filing, expedited\n",
      "  65 159  0.187 (0.694, 0.067) United States, U.S., foreign, domestic, abroad, goods, international, country, origin\n",
      "  66 195  0.181 (0.508, 0.089) materials, recycling, Sets forth the rule, climate, hazardous substances, paper\n",
      "  67 176  0.179 (0.536, 0.084) mortgage, adjustment, interest rate, default, foreclosure, net, July 1, lenders\n",
      "  68 121  0.175 (0.556, 0.079) prohibition, Directs the President, Requires the President, controls, controlled\n",
      "  69  52  0.174 (0.543, 0.080) member, official, congressional, salary, matter, legislative branch, mailing\n",
      "  70 112  0.174 (0.502, 0.087) Administrator, EPA, standard, compliance, source, U.N., remediation, emission\n",
      "  71  60  0.172 (0.556, 0.077) transaction, statement, reports, Requires, reporting, file, financial institution\n",
      "  72 131  0.167 (0.454, 0.092) Cuba, Colorado, Directs the Secretary of the Treasury, abortion, Monument, medicine\n",
      "  73 169  0.164 (0.441, 0.093) Army, Air Force, Navy, Provides appropriations, members of the Armed Forces, aircraft\n",
      "  74  68  0.161 (0.488, 0.083) management, Interior, forest, recreational, STEM, public lands, Creek, Trail\n",
      "  75   2  0.157 (0.503, 0.078) fees, receipts, OASDI, revenues, Mississippi, reductions, total, Preservation Act\n",
      "  76  78  0.156 (0.496, 0.079) award, relief, jurisdiction, damages, Bars, actions, specified provisions, brought\n",
      "  77 166  0.154 (0.485, 0.079) Commission, study, recommendations, Establishes, final report, voice, coast, protest\n",
      "  78  25  0.152 (0.582, 0.065) rate, class, offer, two, terms, three, settlement, period, final, lower, four\n",
      "  79  18  0.149 (0.495, 0.075) families, family, home, disaster, foster care, Assistance Act, placement, services\n",
      "  80  93  0.148 (0.416, 0.089) small business, SBA, IRS, businesses, partnership, Treats, enterprise, gross receipts\n",
      "  81  27  0.147 (0.469, 0.078) court, Division, judicial, judge, counsel, challenges, hearing, trial, video, cases\n",
      "  82  55  0.146 (0.561, 0.065) payment, paid, Treasury, cash, Amends the Internal Revenue Code to extend, early\n",
      "  83 167  0.145 (0.439, 0.083) energy, utility, efficiency, buildings, biomass, carbon, European, East, wind\n",
      "  84  69  0.144 (0.491, 0.073) expenses, lead, percent, Fairness Act, institution of higher education, meat\n",
      "  85 163  0.143 (0.392, 0.091) firearms, livestock, handgun, ammunition, approximately, sale, purchaser, theft\n",
      "  86 147  0.140 (0.457, 0.077) monitoring, water, species, Great Lakes, impacts, Basin, GSA, plan, habitat, dated\n",
      "  87  19  0.138 (0.486, 0.071) development, systems, commercial, technology, installation, research, equipment\n",
      "  88 196  0.136 (0.445, 0.077) license, service, tobacco, licensing, applicant, station, broadband, operator\n",
      "  89 118  0.135 (0.444, 0.076) space, Congratulates, acting through the Director, Act to require, Inc, Expansion Act\n",
      "  90  51  0.135 (0.480, 0.070) technology, science, partnerships, engineering, assessments, awards, transition\n",
      "  91 149  0.134 (0.472, 0.071) FY, funds, appropriations, available, specified, programs, Appropriates, appropriated\n",
      "  92 124  0.133 (0.436, 0.076) eligibility, income, recipient, household, ineligible, Americans, TANF, poverty, work\n",
      "  93 125  0.132 (0.482, 0.068) claims, injury, liability, claimant, loss, damage, caused, customer, temporarily\n",
      "  94 134  0.124 (0.413, 0.075) vehicle, Oregon, Sets forth provisions regarding, Idaho, rating, clean, Connecticut\n",
      "  95   5  0.124 (0.451, 0.069) Improvement Act, Century, refund, health insurance coverage, penalty, taxes, assessed\n",
      "  96 130  0.124 (0.448, 0.069) Recognizes, Commends, Department of State, Encourages, drought, annuities, references\n",
      "  97  13  0.123 (0.360, 0.085) vessel, liability, cargo, owner, cleanup, ports, ship, incident, CERCLA, Superfund\n",
      "  98  33  0.121 (0.388, 0.078) fish, zone, Act to prohibit, marine, waters, Oklahoma, conservation, farmers\n",
      "  99 110  0.120 (0.414, 0.073) amended, distribution, manufacturing, manufacture, distributed, historic, alert\n",
      " 100  64  0.120 (0.401, 0.075) accounts, institution, deposits, banks, Board of Governors of the Federal Reserve\n",
      " 101 111  0.119 (0.379, 0.079) hunting, wildlife, November, copyright, therapy, managers, incentive, acquiring\n",
      " 102  39  0.118 (0.414, 0.071) children, HHS, parents, child's, adoption, Gulf of Mexico, birth, age, care, families\n",
      " 103  57  0.118 (0.397, 0.074) team, September 11, Protocol, franchise, cancellation, Save, parcels, League\n",
      " 104 123  0.118 (0.440, 0.067) rule, regulation, regulatory, Accountability Act, Women's, published, publication\n",
      " 105 143  0.117 (0.492, 0.060) entity, participating, program, title IV, eligible, certification, award, entities\n",
      " 106   1  0.111 (0.403, 0.069) women, discrimination, North Korea, fee, civil rights, gender, abortions, salmon\n",
      " 107  66  0.110 (0.411, 0.067) VA, treatment, mental health, outreach, counseling, care, disorders, FY2018, opioid\n",
      " 108  32  0.109 (0.368, 0.074) oil, NOAA, management plan, coastal, literacy, offshore, petroleum, exploration\n",
      " 109  76  0.107 (0.441, 0.061) property, value, interest, exemption, gift, option, deferred, disposition, bonus\n",
      " 110 151  0.105 (0.379, 0.069) safe, terrorist, display, ending, diplomatic, Extension Act, period beginning, town\n",
      " 111 122  0.105 (0.315, 0.083) Amends Federal law, stop, report to the appropriate congressional committees\n",
      " 112  96  0.104 (0.342, 0.076) school, students, race, color, religion, national origin, grade, subgrants, sex, dual\n",
      " 113 138  0.104 (0.377, 0.069) District of Columbia, Council, Academy, districts, rebate, Mayor, reallocation\n",
      " 114 197  0.104 (0.363, 0.071) association, company, coins, dollar, carbon dioxide, Enforcement Act, United, design\n",
      " 115  10  0.103 (0.434, 0.060) contract, million, digital, National Monument, performance, swap, electric energy\n",
      " 116 189  0.103 (0.370, 0.070) student, FCC, institutions, IHEs, college, professional development, enrollment\n",
      " 117 184  0.102 (0.402, 0.064) recovery, waste, disposal, partners, Mandates, deadline, facility, municipal\n",
      " 118 142  0.102 (0.380, 0.067) DOD, procurement, joint, Honors, member of the Armed Forces, weapons, number\n",
      " 119 115  0.099 (0.370, 0.067) consumer, FTC, disclosures, advertising, credit, retail, final rule, CFPB, fair\n",
      " 120  37  0.099 (0.383, 0.064) measure, summary of that version is repeated, immigrant, missing, draft, Mountain\n",
      " 121 180  0.098 (0.356, 0.069) bank, capital, milk, stock, lending, Russian, charter, shares, credit union, cotton\n",
      " 122  50  0.098 (0.441, 0.055) activities, mission, operations, capabilities, funding, Prohibits, maritime, enhanced\n",
      " 123 126  0.096 (0.317, 0.076) natural gas, FERC, electricity, transmission, Compact, utilities, reliability\n",
      " 124  92  0.090 (0.339, 0.066) outlays, majority, labor organization, membership, representative, representation\n",
      " 125   8  0.089 (0.387, 0.058) Alaska, October 1, immigration, NATO, region, Native, weather, complex, April\n",
      " 126 199  0.089 (0.348, 0.064) electronic, GAO, September 30, specified congressional committees, excise tax\n",
      " 127  47  0.089 (0.437, 0.051) economic, industry, initiatives, proposals, economy, industries, major, effects\n",
      " 128  67  0.087 (0.391, 0.056) transfer, Memorial, remains, overseas, forth, Waives, August, logistics, directive\n",
      " 129  81  0.087 (0.378, 0.057) employment, training, jobs, participants, work, targeted, service providers, program\n",
      " 130 183  0.087 (0.348, 0.062) unit, voting, registration, telephone, vote, add, subscriber, section 8, register\n",
      " 131  62  0.086 (0.359, 0.060) collection, evidence, disclose, testimony, investigative, investigation, disclosure\n",
      " 132 177  0.084 (0.384, 0.055) hours, fewer, Puerto Rico, performed, inclusion, miles, unused, wage, auction\n",
      " 133 171  0.084 (0.358, 0.059) repeal, health plan, Illinois, Montana, Appropriations Act, Harbor, insurers, amend\n",
      " 134  82  0.084 (0.360, 0.058) public, broadcast, television, programming, stations, reauthorize, radio, mark\n",
      " 135  48  0.082 (0.396, 0.052) area, designation, designated, sanctions, local government, located, peacekeeping\n",
      " 136 107  0.080 (0.364, 0.055) tribal, Department of Veterans Affairs, trust, Indian tribes, savings, bond, Band\n",
      " 137  24  0.079 (0.431, 0.046) ensure, facility, community, integrated, response, strategies, facilities, residents\n",
      " 138  30  0.078 (0.356, 0.055) reduction, change, replacement, natural, sports, South Dakota, Canal, exposed, unique\n",
      " 139  59  0.078 (0.373, 0.052) Fund, billion, Establishes in the Treasury, start, insured depository institution\n",
      " 140  20  0.077 (0.400, 0.048) grant, rural, LEA, reimbursement, HUD, geographic, emergency medical services\n",
      " 141  98  0.076 (0.327, 0.058) records, classified, agency's, Amends the Federal, requests, chamber, MA, successor\n",
      " 142 162  0.076 (0.391, 0.049) agreement, human rights, debt, reforms, parties, union, entered, exchanges, party\n",
      " 143 101  0.074 (0.330, 0.056) committees, spending, asset, March 1, March 31, uranium, Head Start, allocations\n",
      " 144 194  0.074 (0.298, 0.062) export, DOT, items, automobile, proliferation, crop year, clean energy, manufactured\n",
      " 145 179  0.072 (0.343, 0.053) food, China, Department of Agriculture, nutrition, senior, ban, donation, container\n",
      " 146  83  0.071 (0.330, 0.054) Guam, card, document, Justice, citizenship, Virgin Islands, American Samoa, biennial\n",
      " 147 186  0.071 (0.355, 0.050) rights, officer, investigation, law enforcement, police, B, D, Working Group\n",
      " 148  53  0.069 (0.333, 0.052) screening, study and report to Congress, Repeals provisions, hospital, facilities\n",
      " 149 152  0.068 (0.288, 0.059) DHS, USDA, OMB, Homeland Security, CBP, baseline, border security, gasoline, FY2014\n",
      " 150 174  0.068 (0.383, 0.044) infrastructure, assistance, communities, economic development, incentives, consortium\n",
      " 151 141  0.067 (0.311, 0.054) youth, juvenile, violent, Reduction Act, unemployed, programs, delinquent, gang\n",
      " 152 150  0.067 (0.371, 0.045) contractor, decision, competition, acquisition, determinations, meeting, appeals\n",
      " 153  88  0.066 (0.353, 0.046) Expresses the sense of Congress, U.S. Government, terrorism, organizations, USAID\n",
      " 154 148  0.065 (0.340, 0.048) investment, religious, humanitarian, U.S. policy, peace, index, events, February\n",
      " 155  41  0.065 (0.322, 0.050) waiver, temporary, spectrum, U.S. citizens, PRC, diversity, Earmarks, accompanying\n",
      " 156 182  0.065 (0.320, 0.051) Corporation, corporate, 21st, Board of Directors, Modernization Act, infants\n",
      " 157 185  0.065 (0.326, 0.050) compensation, victims, public safety, loss, injuries, vaccine, lost, compensate\n",
      " 158  74  0.064 (0.322, 0.050) technologies, fuel, coal, advanced, credits, acid, phase, demonstration, renewable\n",
      " 159  46  0.064 (0.337, 0.047) emergency, revenue, Foundation, appropriation, incidents, FY2010, floor, Excellence\n",
      " 160  94  0.062 (0.320, 0.049) communication, device, identity, closed, record, live, certificate, e.g, horse\n",
      " 161 178  0.061 (0.275, 0.056) debtor, bankruptcy, holder, weight, printed, late, content, Prescribes requirements\n",
      " 162  34  0.061 (0.327, 0.047) environmental, Authorizes the Administrator, water quality, closure, discharges\n",
      " 163  22  0.060 (0.303, 0.049) tax-exempt, animal, Act to authorize, affordable, concern, census, specified period\n",
      " 164  26  0.059 (0.325, 0.046) organization, audit, Native American, Native Hawaiian, World War II, restricted\n",
      " 165  99  0.059 (0.286, 0.051) carrier, exchange, basic, charges, contamination, choice, certificates, voucher\n",
      " 166 154  0.059 (0.283, 0.052) site, Internet, child support, Nuclear Regulatory Commission, nuclear waste, locate\n",
      " 167 170  0.058 (0.300, 0.049) Iraq, Iran, small, reserve, pipeline, purchases, equity, competitive, Libya, Colombia\n",
      " 168 106  0.058 (0.298, 0.049) security, intelligence, mitigation, FBI, networks, cyber, DNI, mitigate, operational\n",
      " 169  84  0.055 (0.304, 0.045) emissions, sea, Expresses, generation, December, Act's enactment, missile defense\n",
      " 170  15  0.055 (0.268, 0.051) merchandise, democracy, volunteer, article, Haiti, Amends the Tariff Act, negative\n",
      " 171 132  0.054 (0.318, 0.043) funding, teacher, formula, discretionary, CDC, working, renovation, classroom\n",
      " 172  72  0.054 (0.259, 0.052) railroad, boundary, Amtrak, USPS, train, reentry, Canadian, corridors, freight\n",
      " 173 104  0.054 (0.302, 0.045) global, component, point, relocation, port, Bay, Black, displaced, health coverage\n",
      " 174  35  0.053 (0.293, 0.045) Director, Institute, qualifying, human, Bureau, Initiative, alcohol, Amendments Act\n",
      " 175  38  0.053 (0.310, 0.042) Corps, Encourages, Judiciary, preference, Reaffirms, Act to extend, lives, labor\n",
      " 176  54  0.052 (0.286, 0.046) minority, life, workplace, HIV/AIDS, civil penalties, shared, performance, hazards\n",
      " 177 165  0.048 (0.267, 0.045) Revises requirements, computer, Department of Education, Secretary of Education\n",
      " 178  86  0.047 (0.269, 0.044) workers, water supply, public land, subtitle, appraisal, Corps of Engineers, firm\n",
      " 179  16  0.047 (0.315, 0.037) current law, options, Condemns, termination, sic, arbitration, litigation, vulnerable\n",
      " 180 140  0.047 (0.284, 0.041) Protection Act, Fort, protected, adjudication, infringement, emerging, privileges\n",
      " 181 153  0.046 (0.290, 0.040) chemical, risks, substance, online, exposure, Conference, Advisory Committee, hazard\n",
      " 182  87  0.046 (0.278, 0.041) storage, Commissioner, plant, withdrawn, processing, inspection, prescription drugs\n",
      " 183  77  0.046 (0.252, 0.045) network, mobile, affiliated, accepting, reference, Tax Relief, gifts, TARP, D.C\n",
      " 184  17  0.044 (0.226, 0.048) FDIC, CHIP, shipping, special, severe, unlicensed, privilege, machine, appointment\n",
      " 185  12  0.043 (0.218, 0.049) covered, diabetes, professional, radiological, diagnosed, acquisition program\n",
      " 186 129  0.041 (0.278, 0.037) NASA, survey, entities, preservation, mandate, consortia, nonfederal, tracking, tools\n",
      " 187 188  0.040 (0.295, 0.034) assets, consolidation, accounting, partner, consolidated, updated, dedicated\n",
      " 188  45  0.039 (0.305, 0.032) revise, ensuring, documentation, Fairness, large, statutory, lines, signal, assess\n",
      " 189 156  0.038 (0.255, 0.037) promotion, woman, Fish and Wildlife Service, Valley, Delaware, U.S, withhold, feet\n",
      " 190 175  0.038 (0.262, 0.036) activity, communications, Chief, authorizing, calculation, transferring, cable, daily\n",
      " 191 113  0.037 (0.234, 0.039) registry, Task Force, minor, Amends the Omnibus, Crime Control and Safe Streets Act\n",
      " 192 181  0.036 (0.274, 0.033) threshold, grantees, good faith, considering, Act's, licensees, flexible, extensions\n",
      " 193  36  0.035 (0.247, 0.036) provider, borrower, Reauthorization Act, role, Requires the Secretary of the Interior\n",
      " 194 161  0.034 (0.233, 0.036) funds provided, addressing, Syria, Prohibits funds, free, tribal governments\n",
      " 195  23  0.033 (0.247, 0.033) deployment, inventory, healthy, Amends the Higher Education Act, target, wetlands\n",
      " 196  56  0.032 (0.224, 0.035) County, demonstration project, third party, U.S. person, originating, Retains\n",
      " 197 100  0.030 (0.247, 0.030) high, surveillance, independent, low, preparedness, private sector, inflation, face\n",
      " 198  58  0.027 (0.236, 0.028) issuing, approving, Governor, proposal, citizens, traditional, approach, implemented\n",
      " 199  28  0.023 (0.215, 0.027) expand, combat, authorize appropriations, conversion, concerns, responding, educators\n",
      " 200 133  0.022 (0.216, 0.026) integrity, core, correct, counter, sensitive, practitioner, functional, Chinese\n"
     ]
    }
   ],
   "source": [
    "print (\"Rank  ID  Score  Prob  Purity  Summary\")\n",
    "for i in range(0, numTopics):\n",
    "    topicID = topicRanking[i]\n",
    "    print (\" %3d %3d %6.3f (%5.3f, %4.3f) %s\" \n",
    "           % (i+1, topicID, topicScore[topicID], 100*topicProbs[topicID], topicPurity[topicID], topicSummaries[topicID]))"
   ]
  },
  {
   "cell_type": "markdown",
   "metadata": {},
   "source": [
    "### Save LDA Topic Summaries"
   ]
  },
  {
   "cell_type": "code",
   "execution_count": 25,
   "metadata": {
    "collapsed": true
   },
   "outputs": [],
   "source": [
    "# If you want to save out the summaries to file makes this True\n",
    "if True:\n",
    "    fp = open(os.path.join(os.environ['AZUREML_NATIVE_SHARE_DIRECTORY'], \"CongressionalDocTopicSummaries.tsv\"), \"w\")\n",
    "    i = 0\n",
    "    fp.write(\"TopicID\\tTopicSummary\\n\")\n",
    "    for line in topicSummaries:\n",
    "        fp.write(\"%d\\t%s\\n\" % (i, line))\n",
    "        i += 1\n",
    "    fp.close()"
   ]
  },
  {
   "cell_type": "code",
   "execution_count": null,
   "metadata": {
    "collapsed": true
   },
   "outputs": [],
   "source": []
  }
 ],
 "metadata": {
  "anaconda-cloud": {},
  "kernelspec": {
   "display_name": "Document-Collection-Analysis local",
   "language": "python",
   "name": "document-collection-analysis_local"
  },
  "language_info": {
   "codemirror_mode": {
    "name": "ipython",
    "version": 3
   },
   "file_extension": ".py",
   "mimetype": "text/x-python",
   "name": "python",
   "nbconvert_exporter": "python",
   "pygments_lexer": "ipython3",
   "version": "3.5.2"
  },
  "nbpresent": {
   "slides": {
    "05f2d009-1afe-4edb-8e44-3886ff90f662": {
     "id": "05f2d009-1afe-4edb-8e44-3886ff90f662",
     "prev": "62668528-4383-40d4-8346-55098de21deb",
     "regions": {
      "d017e9eb-469d-4844-a435-8a07fbd34a23": {
       "attrs": {
        "height": 0.8,
        "width": 0.8,
        "x": 0.1,
        "y": 0.1
       },
       "content": {
        "cell": "1931cc98-9c4c-46c4-bc06-ec37c31944f5",
        "part": "whole"
       },
       "id": "d017e9eb-469d-4844-a435-8a07fbd34a23"
      }
     }
    },
    "0cef4fe0-fb8d-4d04-8499-a0aeb8e39c83": {
     "id": "0cef4fe0-fb8d-4d04-8499-a0aeb8e39c83",
     "prev": "b054cb8c-2fae-45e7-a1ea-5ddf5fafd04b",
     "regions": {
      "dd5ebd19-ba29-416a-93fe-a419a7808320": {
       "attrs": {
        "height": 0.8,
        "width": 0.8,
        "x": 0.1,
        "y": 0.1
       },
       "content": {
        "cell": "55d8b0a5-11a9-4cf1-8399-b2d036254dd0",
        "part": "whole"
       },
       "id": "dd5ebd19-ba29-416a-93fe-a419a7808320"
      }
     }
    },
    "0e6eef49-e6e3-4a88-81ef-9ca6538de3c7": {
     "id": "0e6eef49-e6e3-4a88-81ef-9ca6538de3c7",
     "prev": "91501d8f-6e03-4eda-bc8e-b30ba3dfc5f0",
     "regions": {
      "c8a095f5-9b2e-49ce-932e-d9e6827b0ce0": {
       "attrs": {
        "height": 0.8,
        "width": 0.8,
        "x": 0.1,
        "y": 0.1
       },
       "content": {
        "cell": "d3b757c3-d523-4bc0-80af-7be110f7a46e",
        "part": "whole"
       },
       "id": "c8a095f5-9b2e-49ce-932e-d9e6827b0ce0"
      }
     }
    },
    "140f2fe3-3b71-4459-b7b6-6ae13d350899": {
     "id": "140f2fe3-3b71-4459-b7b6-6ae13d350899",
     "prev": "5eea5861-97ec-4b43-9f13-f54553e5f4f8",
     "regions": {
      "add32de8-317f-4069-a350-a458f3c72ccf": {
       "attrs": {
        "height": 0.8,
        "width": 0.8,
        "x": 0.1,
        "y": 0.1
       },
       "content": {
        "cell": "82e2d906-b067-419d-9532-378c6f36fd69",
        "part": "whole"
       },
       "id": "add32de8-317f-4069-a350-a458f3c72ccf"
      }
     }
    },
    "1776d003-6d9a-4f23-9d96-699132adcd76": {
     "id": "1776d003-6d9a-4f23-9d96-699132adcd76",
     "prev": "53b3e9a4-62db-4c7a-8cfa-fc9f79aee34c",
     "regions": {
      "70125e66-c103-4611-a5da-d3cb44c63b9b": {
       "attrs": {
        "height": 0.8,
        "width": 0.8,
        "x": 0.1,
        "y": 0.1
       },
       "content": {
        "cell": "2152a599-0581-4406-a32c-58b4ff36711a",
        "part": "whole"
       },
       "id": "70125e66-c103-4611-a5da-d3cb44c63b9b"
      }
     }
    },
    "1e29821d-1c4f-4da7-bbe5-c979e7357e74": {
     "id": "1e29821d-1c4f-4da7-bbe5-c979e7357e74",
     "prev": "f71b51d6-502c-4fed-9f1c-1ca9c7856bab",
     "regions": {
      "13a49cd8-72d5-4e60-a7fb-17efba769077": {
       "attrs": {
        "height": 0.8,
        "width": 0.8,
        "x": 0.1,
        "y": 0.1
       },
       "content": {
        "cell": "23d9b7ef-11db-419b-9f97-7bb07a1e3ca5",
        "part": "whole"
       },
       "id": "13a49cd8-72d5-4e60-a7fb-17efba769077"
      }
     }
    },
    "201e343b-d43c-49a4-b269-144375cc209b": {
     "id": "201e343b-d43c-49a4-b269-144375cc209b",
     "prev": "a8f84401-1564-46ed-9f98-3b5c5587fc2b",
     "regions": {
      "2dfbb0e7-5c43-466a-846c-8b9594885821": {
       "attrs": {
        "height": 0.8,
        "width": 0.8,
        "x": 0.1,
        "y": 0.1
       },
       "content": {
        "cell": "bc5e3810-08b3-41aa-af97-0159bf9be597",
        "part": "whole"
       },
       "id": "2dfbb0e7-5c43-466a-846c-8b9594885821"
      }
     }
    },
    "2f493bea-47ab-4331-bb67-b54b8e3dc9d3": {
     "id": "2f493bea-47ab-4331-bb67-b54b8e3dc9d3",
     "prev": "140f2fe3-3b71-4459-b7b6-6ae13d350899",
     "regions": {
      "1a39a72b-ce0e-4369-957c-7e6d4d807e6f": {
       "attrs": {
        "height": 0.8,
        "width": 0.8,
        "x": 0.1,
        "y": 0.1
       },
       "content": {
        "cell": "7fd9e75d-7abf-4dca-b173-23405ebdfbf6",
        "part": "whole"
       },
       "id": "1a39a72b-ce0e-4369-957c-7e6d4d807e6f"
      }
     }
    },
    "30262120-abbd-4411-bd89-1b5a439d5e3f": {
     "id": "30262120-abbd-4411-bd89-1b5a439d5e3f",
     "prev": "d41619a3-547d-4c04-be26-a5c33b88d40b",
     "regions": {
      "f4b170ee-2f1b-4b02-8766-a2fc64512189": {
       "attrs": {
        "height": 0.8,
        "width": 0.8,
        "x": 0.1,
        "y": 0.1
       },
       "content": {
        "cell": "46697539-829d-406f-8722-7b4f7ec3beee",
        "part": "whole"
       },
       "id": "f4b170ee-2f1b-4b02-8766-a2fc64512189"
      }
     }
    },
    "331f88b5-9322-49f1-adc5-75ac27be66dd": {
     "id": "331f88b5-9322-49f1-adc5-75ac27be66dd",
     "prev": "0cef4fe0-fb8d-4d04-8499-a0aeb8e39c83",
     "regions": {
      "d01c1b37-6ee0-4b05-8f98-0fdb1810f1e2": {
       "attrs": {
        "height": 0.8,
        "width": 0.8,
        "x": 0.1,
        "y": 0.1
       },
       "content": {
        "cell": "8e615a03-a616-4ce6-aaed-149bb7dc6c41",
        "part": "whole"
       },
       "id": "d01c1b37-6ee0-4b05-8f98-0fdb1810f1e2"
      }
     }
    },
    "34a7e350-fa50-4409-b82e-754894829e6b": {
     "id": "34a7e350-fa50-4409-b82e-754894829e6b",
     "prev": "2f493bea-47ab-4331-bb67-b54b8e3dc9d3",
     "regions": {
      "e155d08e-29ff-43e8-9582-d39d249f8f25": {
       "attrs": {
        "height": 0.8,
        "width": 0.8,
        "x": 0.1,
        "y": 0.1
       },
       "content": {
        "cell": "688b7bd8-bb00-442d-a195-dd1310424d82",
        "part": "whole"
       },
       "id": "e155d08e-29ff-43e8-9582-d39d249f8f25"
      }
     }
    },
    "363f8c01-8fa5-4d3a-be48-fbe5f510f37f": {
     "id": "363f8c01-8fa5-4d3a-be48-fbe5f510f37f",
     "prev": "bcf6777e-3eda-47d6-b99d-addd1ee0971d",
     "regions": {
      "9bd9bb83-09cf-476f-bf5f-1a626ef786c7": {
       "attrs": {
        "height": 0.8,
        "width": 0.8,
        "x": 0.1,
        "y": 0.1
       },
       "content": {
        "cell": "1f6a12bd-9325-457d-83d0-9e374033e64f",
        "part": "whole"
       },
       "id": "9bd9bb83-09cf-476f-bf5f-1a626ef786c7"
      }
     }
    },
    "39047648-1076-4f6f-97a9-18850caefd42": {
     "id": "39047648-1076-4f6f-97a9-18850caefd42",
     "prev": "ceb43268-457f-4903-99d1-30e57078a37e",
     "regions": {
      "505fa6dc-a635-4d40-b72f-dcacbd3abbd6": {
       "attrs": {
        "height": 0.8,
        "width": 0.8,
        "x": 0.1,
        "y": 0.1
       },
       "content": {
        "cell": "e537aed2-414b-4e59-be59-5cee147398b5",
        "part": "whole"
       },
       "id": "505fa6dc-a635-4d40-b72f-dcacbd3abbd6"
      }
     }
    },
    "3cda56c3-eb5e-48b8-9212-92a62a2a7826": {
     "id": "3cda56c3-eb5e-48b8-9212-92a62a2a7826",
     "prev": "201e343b-d43c-49a4-b269-144375cc209b",
     "regions": {
      "bd3c7db9-0274-4f8a-8f10-379915d3f716": {
       "attrs": {
        "height": 0.8,
        "width": 0.8,
        "x": 0.1,
        "y": 0.1
       },
       "content": {
        "cell": "c3593bde-7eee-4a9d-8565-7d9774947404",
        "part": "whole"
       },
       "id": "bd3c7db9-0274-4f8a-8f10-379915d3f716"
      }
     }
    },
    "46a01693-1013-42d2-8d91-b3712ff3c87a": {
     "id": "46a01693-1013-42d2-8d91-b3712ff3c87a",
     "prev": "05f2d009-1afe-4edb-8e44-3886ff90f662",
     "regions": {
      "175e092d-bf70-405b-863f-015ab6587671": {
       "attrs": {
        "height": 0.8,
        "width": 0.8,
        "x": 0.1,
        "y": 0.1
       },
       "content": {
        "cell": "fd3d5300-60a1-4873-a52d-a9d5b89b3463",
        "part": "whole"
       },
       "id": "175e092d-bf70-405b-863f-015ab6587671"
      }
     }
    },
    "50e992a5-4a41-4ae5-a900-ef487cd4ae35": {
     "id": "50e992a5-4a41-4ae5-a900-ef487cd4ae35",
     "prev": "574d6678-3a5c-4308-9721-08a400ed1c5c",
     "regions": {
      "ed346ef0-2c3c-4f49-8a7f-2d285a89d18f": {
       "attrs": {
        "height": 0.8,
        "width": 0.8,
        "x": 0.1,
        "y": 0.1
       },
       "content": {
        "cell": "61921e49-660e-4d97-a4c8-feec4804e2ce",
        "part": "whole"
       },
       "id": "ed346ef0-2c3c-4f49-8a7f-2d285a89d18f"
      }
     }
    },
    "51573f2c-47b4-4e58-8d26-c5a4bd5bad73": {
     "id": "51573f2c-47b4-4e58-8d26-c5a4bd5bad73",
     "prev": "5eeee22c-1a7f-4886-9d4e-d2dbf6236f7b",
     "regions": {
      "13c66008-6e50-4845-96bc-ff9377c4c983": {
       "attrs": {
        "height": 0.8,
        "width": 0.8,
        "x": 0.1,
        "y": 0.1
       },
       "content": {
        "cell": "4d17de12-2451-4b0b-ab3b-a73bf7f6e9dc",
        "part": "whole"
       },
       "id": "13c66008-6e50-4845-96bc-ff9377c4c983"
      }
     }
    },
    "53b3e9a4-62db-4c7a-8cfa-fc9f79aee34c": {
     "id": "53b3e9a4-62db-4c7a-8cfa-fc9f79aee34c",
     "prev": "363f8c01-8fa5-4d3a-be48-fbe5f510f37f",
     "regions": {
      "c4999ffb-39fa-4078-b348-70fe2e877a91": {
       "attrs": {
        "height": 0.8,
        "width": 0.8,
        "x": 0.1,
        "y": 0.1
       },
       "content": {
        "cell": "a0086b4c-7e4a-4bc7-b720-7ef6bf2508ad",
        "part": "whole"
       },
       "id": "c4999ffb-39fa-4078-b348-70fe2e877a91"
      }
     }
    },
    "5475c970-b6a6-472c-8c50-5a792b6d7239": {
     "id": "5475c970-b6a6-472c-8c50-5a792b6d7239",
     "prev": "39047648-1076-4f6f-97a9-18850caefd42",
     "regions": {
      "2118fa40-e217-4d08-81d6-6170d4352e71": {
       "attrs": {
        "height": 0.8,
        "width": 0.8,
        "x": 0.1,
        "y": 0.1
       },
       "content": {
        "cell": "22d6a20f-fa82-4df0-8aac-29c150397a1f",
        "part": "whole"
       },
       "id": "2118fa40-e217-4d08-81d6-6170d4352e71"
      }
     }
    },
    "54fdedeb-5ba3-4a3b-9434-5848640aec04": {
     "id": "54fdedeb-5ba3-4a3b-9434-5848640aec04",
     "prev": "b6bd6bfd-15ba-42b0-8c9f-0c7da3f2c412",
     "regions": {
      "85dd6a4b-89d5-4d2a-9ec2-b921fb785e59": {
       "attrs": {
        "height": 0.8,
        "width": 0.8,
        "x": 0.1,
        "y": 0.1
       },
       "content": {
        "cell": "fe638683-0efb-49b6-93d2-4e8f22f15e6a",
        "part": "whole"
       },
       "id": "85dd6a4b-89d5-4d2a-9ec2-b921fb785e59"
      }
     }
    },
    "565b4230-1376-4e7c-a13e-b4995b8a0bba": {
     "id": "565b4230-1376-4e7c-a13e-b4995b8a0bba",
     "prev": "34a7e350-fa50-4409-b82e-754894829e6b",
     "regions": {
      "ebc439f8-9559-4dee-8a5d-ae06b3d11bf2": {
       "attrs": {
        "height": 0.8,
        "width": 0.8,
        "x": 0.1,
        "y": 0.1
       },
       "content": {
        "cell": "ac3b8bc5-6733-46cf-9451-10b7c9ef8d88",
        "part": "whole"
       },
       "id": "ebc439f8-9559-4dee-8a5d-ae06b3d11bf2"
      }
     }
    },
    "574d6678-3a5c-4308-9721-08a400ed1c5c": {
     "id": "574d6678-3a5c-4308-9721-08a400ed1c5c",
     "prev": "46a01693-1013-42d2-8d91-b3712ff3c87a",
     "regions": {
      "bef7e15a-4149-459d-a43e-b10ac158063c": {
       "attrs": {
        "height": 0.8,
        "width": 0.8,
        "x": 0.1,
        "y": 0.1
       },
       "content": {
        "cell": "f2b0a490-a67d-47fc-872f-1e4696886ecb",
        "part": "whole"
       },
       "id": "bef7e15a-4149-459d-a43e-b10ac158063c"
      }
     }
    },
    "576b393a-49c9-418c-88c8-d809cf395f9b": {
     "id": "576b393a-49c9-418c-88c8-d809cf395f9b",
     "prev": "f352183b-c020-4e8d-b0c5-22bee23dc2fe",
     "regions": {
      "34336a75-959c-449a-ac26-326f6f712351": {
       "attrs": {
        "height": 0.8,
        "width": 0.8,
        "x": 0.1,
        "y": 0.1
       },
       "content": {
        "cell": "eaf0b191-c85a-48b9-9bcb-b38ca076c9b4",
        "part": "whole"
       },
       "id": "34336a75-959c-449a-ac26-326f6f712351"
      }
     }
    },
    "57f789db-05dd-4bf0-8526-3c0ad9fe84ef": {
     "id": "57f789db-05dd-4bf0-8526-3c0ad9fe84ef",
     "prev": "a3a6270c-ba38-4a61-9885-cdcefc707993",
     "regions": {
      "10fbe879-f4ba-42f8-a10f-c2d794f23a9a": {
       "attrs": {
        "height": 0.8,
        "width": 0.8,
        "x": 0.1,
        "y": 0.1
       },
       "content": {
        "cell": "c158c2fc-56b7-40a7-a765-d7a3b4692839",
        "part": "whole"
       },
       "id": "10fbe879-f4ba-42f8-a10f-c2d794f23a9a"
      }
     }
    },
    "5eea5861-97ec-4b43-9f13-f54553e5f4f8": {
     "id": "5eea5861-97ec-4b43-9f13-f54553e5f4f8",
     "prev": "f7603915-d5b5-4c40-b10a-08bb21bc64bc",
     "regions": {
      "60f7cfd2-412d-45ca-b9f3-288ec1d241d6": {
       "attrs": {
        "height": 0.8,
        "width": 0.8,
        "x": 0.1,
        "y": 0.1
       },
       "content": {
        "cell": "b43ca7bd-75e7-4d17-9f77-80ce05375dad",
        "part": "whole"
       },
       "id": "60f7cfd2-412d-45ca-b9f3-288ec1d241d6"
      }
     }
    },
    "5eeee22c-1a7f-4886-9d4e-d2dbf6236f7b": {
     "id": "5eeee22c-1a7f-4886-9d4e-d2dbf6236f7b",
     "prev": "1776d003-6d9a-4f23-9d96-699132adcd76",
     "regions": {
      "b8223200-f30d-44c0-b41e-0a0db1825253": {
       "attrs": {
        "height": 0.8,
        "width": 0.8,
        "x": 0.1,
        "y": 0.1
       },
       "content": {
        "cell": "a726551f-3724-4de9-87d5-0c0418852da4",
        "part": "whole"
       },
       "id": "b8223200-f30d-44c0-b41e-0a0db1825253"
      }
     }
    },
    "62668528-4383-40d4-8346-55098de21deb": {
     "id": "62668528-4383-40d4-8346-55098de21deb",
     "prev": "c1a57d7c-99c7-4e52-812c-cf2c74664e55",
     "regions": {
      "cd307f23-6a10-474d-a0b2-839f698fa5c6": {
       "attrs": {
        "height": 0.8,
        "width": 0.8,
        "x": 0.1,
        "y": 0.1
       },
       "content": {
        "cell": "ec8066e8-9812-4956-b76a-8a4d0086385c",
        "part": "whole"
       },
       "id": "cd307f23-6a10-474d-a0b2-839f698fa5c6"
      }
     }
    },
    "65d70995-6916-4f25-a4bd-b09969de74ce": {
     "id": "65d70995-6916-4f25-a4bd-b09969de74ce",
     "prev": "3cda56c3-eb5e-48b8-9212-92a62a2a7826",
     "regions": {
      "2637e2e8-d300-488e-8580-f43e05610a39": {
       "attrs": {
        "height": 0.8,
        "width": 0.8,
        "x": 0.1,
        "y": 0.1
       },
       "content": {
        "cell": "21678e5f-ad6c-46d1-8a71-f64bd9483c42",
        "part": "whole"
       },
       "id": "2637e2e8-d300-488e-8580-f43e05610a39"
      }
     }
    },
    "70e3ee2e-bfe6-4f43-af9c-6346661e54c5": {
     "id": "70e3ee2e-bfe6-4f43-af9c-6346661e54c5",
     "prev": "8aec0b7f-1025-41b7-bc0d-aa8c4448ca70",
     "regions": {
      "f9c404d5-84d6-41b9-baa3-f66373330ff2": {
       "attrs": {
        "height": 0.8,
        "width": 0.8,
        "x": 0.1,
        "y": 0.1
       },
       "content": {
        "cell": "bc5ecdb1-c51c-457f-be3f-eee94247f13b",
        "part": "whole"
       },
       "id": "f9c404d5-84d6-41b9-baa3-f66373330ff2"
      }
     }
    },
    "8a4c7762-739d-4b1e-9e82-c1ab40edf5b5": {
     "id": "8a4c7762-739d-4b1e-9e82-c1ab40edf5b5",
     "prev": "565b4230-1376-4e7c-a13e-b4995b8a0bba",
     "regions": {
      "c91c6488-bd1d-4243-bd8b-a5c7b3df186c": {
       "attrs": {
        "height": 0.8,
        "width": 0.8,
        "x": 0.1,
        "y": 0.1
       },
       "content": {
        "cell": "e45a357e-ab67-4d85-80e9-d433714f9798",
        "part": "whole"
       },
       "id": "c91c6488-bd1d-4243-bd8b-a5c7b3df186c"
      }
     }
    },
    "8aec0b7f-1025-41b7-bc0d-aa8c4448ca70": {
     "id": "8aec0b7f-1025-41b7-bc0d-aa8c4448ca70",
     "prev": "30262120-abbd-4411-bd89-1b5a439d5e3f",
     "regions": {
      "8b5fc013-d5ba-4eb4-97d7-8332986ca2d9": {
       "attrs": {
        "height": 0.8,
        "width": 0.8,
        "x": 0.1,
        "y": 0.1
       },
       "content": {
        "cell": "fb58ed5d-85bb-4ab3-9b8e-2d8b79d2df55",
        "part": "whole"
       },
       "id": "8b5fc013-d5ba-4eb4-97d7-8332986ca2d9"
      }
     }
    },
    "91501d8f-6e03-4eda-bc8e-b30ba3dfc5f0": {
     "id": "91501d8f-6e03-4eda-bc8e-b30ba3dfc5f0",
     "prev": "51573f2c-47b4-4e58-8d26-c5a4bd5bad73",
     "regions": {
      "09a4f864-d729-4241-b38e-f177c8dd729e": {
       "attrs": {
        "height": 0.8,
        "width": 0.8,
        "x": 0.1,
        "y": 0.1
       },
       "content": {
        "cell": "c96b2d58-4729-4243-8799-c21dc615fa58",
        "part": "whole"
       },
       "id": "09a4f864-d729-4241-b38e-f177c8dd729e"
      }
     }
    },
    "98743de2-1c1e-48ad-af4c-1f5af339092a": {
     "id": "98743de2-1c1e-48ad-af4c-1f5af339092a",
     "prev": "65d70995-6916-4f25-a4bd-b09969de74ce",
     "regions": {
      "7bf9c7ba-0f21-4335-8e2f-c1167cb2713e": {
       "attrs": {
        "height": 0.8,
        "width": 0.8,
        "x": 0.1,
        "y": 0.1
       },
       "content": {
        "cell": "4ddff9a8-0a31-4889-bedb-b64d10eddcc1",
        "part": "whole"
       },
       "id": "7bf9c7ba-0f21-4335-8e2f-c1167cb2713e"
      }
     }
    },
    "9b722714-7a0c-41fe-a2ea-7a1065f9fcfb": {
     "id": "9b722714-7a0c-41fe-a2ea-7a1065f9fcfb",
     "prev": null,
     "regions": {
      "c2409342-142e-4490-99ab-2bd221db4aba": {
       "attrs": {
        "height": 0.8,
        "width": 0.8,
        "x": 0.1,
        "y": 0.1
       },
       "content": {
        "cell": "31b17f54-6bfd-48da-ade1-d08773cc47f1",
        "part": "whole"
       },
       "id": "c2409342-142e-4490-99ab-2bd221db4aba"
      }
     }
    },
    "a3a6270c-ba38-4a61-9885-cdcefc707993": {
     "id": "a3a6270c-ba38-4a61-9885-cdcefc707993",
     "prev": "a7232942-629c-40bc-a9f6-2843f15aa652",
     "regions": {
      "8c3ed09e-4098-4a54-8d79-f0f3145629b0": {
       "attrs": {
        "height": 0.8,
        "width": 0.8,
        "x": 0.1,
        "y": 0.1
       },
       "content": {
        "cell": "f28084b0-cc2e-4231-842f-5765d92d44f0",
        "part": "whole"
       },
       "id": "8c3ed09e-4098-4a54-8d79-f0f3145629b0"
      }
     }
    },
    "a7232942-629c-40bc-a9f6-2843f15aa652": {
     "id": "a7232942-629c-40bc-a9f6-2843f15aa652",
     "prev": "f4146329-5a8f-4afa-b173-bf72e045d2e2",
     "regions": {
      "cbd01583-9fdc-45aa-86fd-66e5acdc068a": {
       "attrs": {
        "height": 0.8,
        "width": 0.8,
        "x": 0.1,
        "y": 0.1
       },
       "content": {
        "cell": "6244226e-a91b-4767-83da-d41e882399a4",
        "part": "whole"
       },
       "id": "cbd01583-9fdc-45aa-86fd-66e5acdc068a"
      }
     }
    },
    "a8b9740f-17bf-4874-854a-81138b906f1e": {
     "id": "a8b9740f-17bf-4874-854a-81138b906f1e",
     "prev": "ccb90a10-a80d-478d-b925-2bc0c979183e",
     "regions": {
      "9df434d3-a4fe-4d81-8b5f-2711cf8c285e": {
       "attrs": {
        "height": 0.8,
        "width": 0.8,
        "x": 0.1,
        "y": 0.1
       },
       "content": {
        "cell": "bbe5cc20-ad4f-482c-8f94-09de87752d30",
        "part": "whole"
       },
       "id": "9df434d3-a4fe-4d81-8b5f-2711cf8c285e"
      }
     }
    },
    "a8f84401-1564-46ed-9f98-3b5c5587fc2b": {
     "id": "a8f84401-1564-46ed-9f98-3b5c5587fc2b",
     "prev": "70e3ee2e-bfe6-4f43-af9c-6346661e54c5",
     "regions": {
      "0f60d3c1-372d-40d6-b59e-ad867e1c63f6": {
       "attrs": {
        "height": 0.8,
        "width": 0.8,
        "x": 0.1,
        "y": 0.1
       },
       "content": {
        "cell": "8a9b81d1-058f-4a37-acbe-b825045866b4",
        "part": "whole"
       },
       "id": "0f60d3c1-372d-40d6-b59e-ad867e1c63f6"
      }
     }
    },
    "b054cb8c-2fae-45e7-a1ea-5ddf5fafd04b": {
     "id": "b054cb8c-2fae-45e7-a1ea-5ddf5fafd04b",
     "prev": "98743de2-1c1e-48ad-af4c-1f5af339092a",
     "regions": {
      "e21ecc9f-a912-45da-96a2-b4d1f970628e": {
       "attrs": {
        "height": 0.8,
        "width": 0.8,
        "x": 0.1,
        "y": 0.1
       },
       "content": {
        "cell": "177ee67d-3e38-4009-b65e-4d08f79c862b",
        "part": "whole"
       },
       "id": "e21ecc9f-a912-45da-96a2-b4d1f970628e"
      }
     }
    },
    "b6bd6bfd-15ba-42b0-8c9f-0c7da3f2c412": {
     "id": "b6bd6bfd-15ba-42b0-8c9f-0c7da3f2c412",
     "prev": "da843dce-021d-471b-a542-f4b8d2591a62",
     "regions": {
      "6550d1d6-e978-43e5-9e79-6f7d4a718cd4": {
       "attrs": {
        "height": 0.8,
        "width": 0.8,
        "x": 0.1,
        "y": 0.1
       },
       "content": {
        "cell": "6975bd59-2a7c-466c-b248-7dbff82dea79",
        "part": "whole"
       },
       "id": "6550d1d6-e978-43e5-9e79-6f7d4a718cd4"
      }
     }
    },
    "ba74b38b-6de6-4f16-b7b1-bb78365fee8a": {
     "id": "ba74b38b-6de6-4f16-b7b1-bb78365fee8a",
     "prev": "cf0820e2-9708-4c69-96e1-cfaab18170b6",
     "regions": {
      "a109cf38-42d4-49f1-b5c3-e5d95e13a5f3": {
       "attrs": {
        "height": 0.8,
        "width": 0.8,
        "x": 0.1,
        "y": 0.1
       },
       "content": {
        "cell": "5fef2737-5cde-43e2-8c05-04320722da93",
        "part": "whole"
       },
       "id": "a109cf38-42d4-49f1-b5c3-e5d95e13a5f3"
      }
     }
    },
    "bbc708aa-4a8b-4aae-bd36-7dbe87a4172d": {
     "id": "bbc708aa-4a8b-4aae-bd36-7dbe87a4172d",
     "prev": "0e6eef49-e6e3-4a88-81ef-9ca6538de3c7",
     "regions": {
      "306c285e-6439-4773-be85-1d6b90b44dcb": {
       "attrs": {
        "height": 0.8,
        "width": 0.8,
        "x": 0.1,
        "y": 0.1
       },
       "content": {
        "cell": "96008087-cb6e-4ba1-b9c6-b4480835ef0f",
        "part": "whole"
       },
       "id": "306c285e-6439-4773-be85-1d6b90b44dcb"
      }
     }
    },
    "bcf6777e-3eda-47d6-b99d-addd1ee0971d": {
     "id": "bcf6777e-3eda-47d6-b99d-addd1ee0971d",
     "prev": "576b393a-49c9-418c-88c8-d809cf395f9b",
     "regions": {
      "fd7ec647-ff66-4fc9-b026-508f4f73fd73": {
       "attrs": {
        "height": 0.8,
        "width": 0.8,
        "x": 0.1,
        "y": 0.1
       },
       "content": {
        "cell": "bcd1daea-0849-4cd4-9349-a7f52641eb95",
        "part": "whole"
       },
       "id": "fd7ec647-ff66-4fc9-b026-508f4f73fd73"
      }
     }
    },
    "c1a57d7c-99c7-4e52-812c-cf2c74664e55": {
     "id": "c1a57d7c-99c7-4e52-812c-cf2c74664e55",
     "prev": "8a4c7762-739d-4b1e-9e82-c1ab40edf5b5",
     "regions": {
      "1981b742-5951-4860-9e99-bbd9c5ba71a8": {
       "attrs": {
        "height": 0.8,
        "width": 0.8,
        "x": 0.1,
        "y": 0.1
       },
       "content": {
        "cell": "9c6d2ec8-2fd6-43ac-89e7-293228019bb2",
        "part": "whole"
       },
       "id": "1981b742-5951-4860-9e99-bbd9c5ba71a8"
      }
     }
    },
    "c27308f0-bd6b-4b36-8ff1-6ce863894538": {
     "id": "c27308f0-bd6b-4b36-8ff1-6ce863894538",
     "prev": "cb39cf50-e059-426b-b314-52968b249608",
     "regions": {
      "d9d1c211-e2e4-4242-a9ac-6186c72f7fb9": {
       "attrs": {
        "height": 0.8,
        "width": 0.8,
        "x": 0.1,
        "y": 0.1
       },
       "content": {
        "cell": "a9d68eeb-a68b-487f-8fb9-088168cddbda",
        "part": "whole"
       },
       "id": "d9d1c211-e2e4-4242-a9ac-6186c72f7fb9"
      }
     }
    },
    "cb39cf50-e059-426b-b314-52968b249608": {
     "id": "cb39cf50-e059-426b-b314-52968b249608",
     "prev": "a8b9740f-17bf-4874-854a-81138b906f1e",
     "regions": {
      "7d1736b5-d6db-49ea-bb88-d6240a63bf60": {
       "attrs": {
        "height": 0.8,
        "width": 0.8,
        "x": 0.1,
        "y": 0.1
       },
       "content": {
        "cell": "dacd12f0-444b-4759-af58-27d4ba1c4fe5",
        "part": "whole"
       },
       "id": "7d1736b5-d6db-49ea-bb88-d6240a63bf60"
      }
     }
    },
    "cb89c63b-a2fd-4e72-b76c-7fc44dd7b6be": {
     "id": "cb89c63b-a2fd-4e72-b76c-7fc44dd7b6be",
     "prev": "bbc708aa-4a8b-4aae-bd36-7dbe87a4172d",
     "regions": {
      "d012c252-7d7b-4633-985d-873edc19d5bc": {
       "attrs": {
        "height": 0.8,
        "width": 0.8,
        "x": 0.1,
        "y": 0.1
       },
       "content": {
        "cell": "2a72aece-5261-4bad-883b-b21455f957cc",
        "part": "whole"
       },
       "id": "d012c252-7d7b-4633-985d-873edc19d5bc"
      }
     }
    },
    "ccb90a10-a80d-478d-b925-2bc0c979183e": {
     "id": "ccb90a10-a80d-478d-b925-2bc0c979183e",
     "prev": "ba74b38b-6de6-4f16-b7b1-bb78365fee8a",
     "regions": {
      "231f19ab-00e3-47fa-9cd3-cfc74bca54b3": {
       "attrs": {
        "height": 0.8,
        "width": 0.8,
        "x": 0.1,
        "y": 0.1
       },
       "content": {
        "cell": "31b80b11-4918-48ac-a513-974a85830a0a",
        "part": "whole"
       },
       "id": "231f19ab-00e3-47fa-9cd3-cfc74bca54b3"
      }
     }
    },
    "ceb43268-457f-4903-99d1-30e57078a37e": {
     "id": "ceb43268-457f-4903-99d1-30e57078a37e",
     "prev": "331f88b5-9322-49f1-adc5-75ac27be66dd",
     "regions": {
      "f1f8982d-80e7-4081-b787-451ad5a723e7": {
       "attrs": {
        "height": 0.8,
        "width": 0.8,
        "x": 0.1,
        "y": 0.1
       },
       "content": {
        "cell": "1301be86-24d2-45a3-aced-d0b4948e765b",
        "part": "whole"
       },
       "id": "f1f8982d-80e7-4081-b787-451ad5a723e7"
      }
     }
    },
    "cf0820e2-9708-4c69-96e1-cfaab18170b6": {
     "id": "cf0820e2-9708-4c69-96e1-cfaab18170b6",
     "prev": "50e992a5-4a41-4ae5-a900-ef487cd4ae35",
     "regions": {
      "b052b2ed-acc4-491e-a9c1-4c418029bacf": {
       "attrs": {
        "height": 0.8,
        "width": 0.8,
        "x": 0.1,
        "y": 0.1
       },
       "content": {
        "cell": "902f0953-1cc3-465a-a93b-aa08daf2b18b",
        "part": "whole"
       },
       "id": "b052b2ed-acc4-491e-a9c1-4c418029bacf"
      }
     }
    },
    "d41619a3-547d-4c04-be26-a5c33b88d40b": {
     "id": "d41619a3-547d-4c04-be26-a5c33b88d40b",
     "prev": "1e29821d-1c4f-4da7-bbe5-c979e7357e74",
     "regions": {
      "83fa0715-62ef-41ce-a8be-7e7e9f45a4a1": {
       "attrs": {
        "height": 0.8,
        "width": 0.8,
        "x": 0.1,
        "y": 0.1
       },
       "content": {
        "cell": "44f6c13e-aae6-4bcf-97f5-5527bacc0512",
        "part": "whole"
       },
       "id": "83fa0715-62ef-41ce-a8be-7e7e9f45a4a1"
      }
     }
    },
    "da843dce-021d-471b-a542-f4b8d2591a62": {
     "id": "da843dce-021d-471b-a542-f4b8d2591a62",
     "prev": "cb89c63b-a2fd-4e72-b76c-7fc44dd7b6be",
     "regions": {
      "588d63ad-348c-4393-bff0-7983fbc6fb98": {
       "attrs": {
        "height": 0.8,
        "width": 0.8,
        "x": 0.1,
        "y": 0.1
       },
       "content": {
        "cell": "98a57c6a-25fc-4597-9098-5521b9153f5b",
        "part": "whole"
       },
       "id": "588d63ad-348c-4393-bff0-7983fbc6fb98"
      }
     }
    },
    "f352183b-c020-4e8d-b0c5-22bee23dc2fe": {
     "id": "f352183b-c020-4e8d-b0c5-22bee23dc2fe",
     "prev": "57f789db-05dd-4bf0-8526-3c0ad9fe84ef",
     "regions": {
      "e60b3552-f330-4638-8dd6-2641f172504f": {
       "attrs": {
        "height": 0.8,
        "width": 0.8,
        "x": 0.1,
        "y": 0.1
       },
       "content": {
        "cell": "be794056-435f-49e2-b69b-2ca5409710bf",
        "part": "whole"
       },
       "id": "e60b3552-f330-4638-8dd6-2641f172504f"
      }
     }
    },
    "f4146329-5a8f-4afa-b173-bf72e045d2e2": {
     "id": "f4146329-5a8f-4afa-b173-bf72e045d2e2",
     "prev": "5475c970-b6a6-472c-8c50-5a792b6d7239",
     "regions": {
      "71d82122-be41-4ecf-b333-56d798905c13": {
       "attrs": {
        "height": 0.8,
        "width": 0.8,
        "x": 0.1,
        "y": 0.1
       },
       "content": {
        "cell": "1940dcd6-9b8b-4dea-af39-ca75e72062aa",
        "part": "whole"
       },
       "id": "71d82122-be41-4ecf-b333-56d798905c13"
      }
     }
    },
    "f71b51d6-502c-4fed-9f1c-1ca9c7856bab": {
     "id": "f71b51d6-502c-4fed-9f1c-1ca9c7856bab",
     "prev": "9b722714-7a0c-41fe-a2ea-7a1065f9fcfb",
     "regions": {
      "1db50964-9f01-4c97-9d5b-778c2bcdb4bf": {
       "attrs": {
        "height": 0.8,
        "width": 0.8,
        "x": 0.1,
        "y": 0.1
       },
       "content": {
        "cell": "21d8d7fd-501d-4eec-abd4-a827100e5406",
        "part": "whole"
       },
       "id": "1db50964-9f01-4c97-9d5b-778c2bcdb4bf"
      }
     }
    },
    "f7603915-d5b5-4c40-b10a-08bb21bc64bc": {
     "id": "f7603915-d5b5-4c40-b10a-08bb21bc64bc",
     "prev": "54fdedeb-5ba3-4a3b-9434-5848640aec04",
     "regions": {
      "1c520645-43cc-4a54-a8b7-869917f8d407": {
       "attrs": {
        "height": 0.8,
        "width": 0.8,
        "x": 0.1,
        "y": 0.1
       },
       "content": {
        "cell": "65904084-4721-4b58-8ea5-711b7b6388fa",
        "part": "whole"
       },
       "id": "1c520645-43cc-4a54-a8b7-869917f8d407"
      }
     }
    }
   },
   "themes": {}
  }
 },
 "nbformat": 4,
 "nbformat_minor": 1
}
