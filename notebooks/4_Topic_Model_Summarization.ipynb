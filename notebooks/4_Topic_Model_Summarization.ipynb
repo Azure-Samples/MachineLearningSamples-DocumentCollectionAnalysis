{
 "cells": [
  {
   "cell_type": "markdown",
   "metadata": {
    "nbpresent": {
     "id": "31b17f54-6bfd-48da-ade1-d08773cc47f1"
    }
   },
   "source": [
    "# Automatic Learning of Key Phrases and Topics in Document Collections\n",
    "\n",
    "## Part 4: Topic Model Summarization\n",
    "\n",
    "### Overview\n",
    "\n",
    "This notebook is Part 4 of 5 in a series providing a step-by-step description of how to process and analyze the contents of a large collection of text documents in an unsupervised manner. Using Python packages and custom code examples, we have implemented the basic framework that combines key phrase learning and latent topic modeling as described in the paper entitled [\"Modeling Multiword Phrases with Constrained Phrases Tree for Improved Topic Modeling of Conversational Speech\"](http://people.csail.mit.edu/hazen/publications/Hazen-SLT-2012.pdf) which was originally presented in the 2012 IEEE Workshop on Spoken Language Technology.\n",
    "\n",
    "Although the paper examines the use of the technology for analyzing human-to-human conversations, the techniques are quite general and can be applied to a wide range natural language data including news stories, legal documents, research publications, social media forum discussion, customer feedback forms, product reviews, and many more.\n",
    "\n",
    "Part 4 of the series shows how to summarize the contents of the document based on a trained LDA topic model. The summarization is applied to an LDA topic model learned in Part 3.  \n"
   ]
  },
  {
   "cell_type": "markdown",
   "metadata": {
    "nbpresent": {
     "id": "21d8d7fd-501d-4eec-abd4-a827100e5406"
    }
   },
   "source": [
    "### Import Relevant Python Packages\n",
    "\n",
    "Most significantly, Part 3 relies on the use of the [Gensim Python library](http://radimrehurek.com/gensim/)  for generating a sparse bag-of-words representation of each document and then training a [Latent Dirichlet Allocation (LDA)](https://en.wikipedia.org/wiki/Latent_Dirichlet_allocation) model on the data. LDA produces a collection of latent topics learned in a completely unsupervised fashion from the text data. Each document can then be represented with a distribution of the learned topics."
   ]
  },
  {
   "cell_type": "code",
   "execution_count": 1,
   "metadata": {
    "collapsed": true,
    "nbpresent": {
     "id": "23d9b7ef-11db-419b-9f97-7bb07a1e3ca5"
    }
   },
   "outputs": [],
   "source": [
    "import numpy\n",
    "import pandas \n",
    "import re\n",
    "import math\n",
    "import warnings\n",
    "warnings.filterwarnings(action='ignore', category=UserWarning, module='gensim')\n",
    "import gensim\n",
    "from gensim import corpora\n",
    "from gensim import models\n",
    "from operator import itemgetter\n",
    "from collections import namedtuple\n",
    "import time\n",
    "import gc\n",
    "import sys\n",
    "import multiprocessing\n",
    "from __future__ import print_function"
   ]
  },
  {
   "cell_type": "markdown",
   "metadata": {},
   "source": [
    "### Load the Trained LDA Model Learned in Part 3 "
   ]
  },
  {
   "cell_type": "code",
   "execution_count": 2,
   "metadata": {
    "collapsed": true
   },
   "outputs": [],
   "source": [
    "# Load pretrained LDA topic model\n",
    "ldaFile = \"../Data/CongressionalDocsLDA.pickle\"\n",
    "lda = gensim.models.ldamodel.LdaModel.load(ldaFile)"
   ]
  },
  {
   "cell_type": "code",
   "execution_count": 3,
   "metadata": {},
   "outputs": [
    {
     "name": "stdout",
     "output_type": "stream",
     "text": [
      "inauguration\n"
     ]
    }
   ],
   "source": [
    "# Get the mapping from token ID to token string\n",
    "id2token = lda.id2word\n",
    "print(id2token[1])"
   ]
  },
  {
   "cell_type": "markdown",
   "metadata": {
    "nbpresent": {
     "id": "c3593bde-7eee-4a9d-8565-7d9774947404"
    }
   },
   "source": [
    "### Load the Mapping of Lower-Cased Vocabulary Items to Their Most Common Surface Form"
   ]
  },
  {
   "cell_type": "code",
   "execution_count": 4,
   "metadata": {
    "collapsed": true,
    "nbpresent": {
     "id": "21678e5f-ad6c-46d1-8a71-f64bd9483c42"
    }
   },
   "outputs": [],
   "source": [
    "# Load surface form mappings here\n",
    "fp = open(\"../Data/Vocab2SurfaceFormMapping.tsv\")\n",
    "\n",
    "vocabToSurfaceFormHash = {}\n",
    "\n",
    "# Each line in the file has two tab separated fields;\n",
    "# the first is the vocabulary item used during modeling\n",
    "# and the second is its most common surface form in the \n",
    "# original data\n",
    "for stringIn in fp.readlines():\n",
    "    fields = stringIn.strip().split(\"\\t\")\n",
    "    if len(fields) != 2:\n",
    "        print (\"Warning: Bad line in surface form mapping file: %s\" % stringIn)\n",
    "    elif fields[0] == \"\" or fields[1] == \"\":\n",
    "        print (\"Warning: Bad line in surface form mapping file: %s\" % stringIn)\n",
    "    else:\n",
    "        vocabToSurfaceFormHash[fields[0]] = fields[1]\n",
    "fp.close()\n"
   ]
  },
  {
   "cell_type": "code",
   "execution_count": 5,
   "metadata": {
    "collapsed": true
   },
   "outputs": [],
   "source": [
    "def CreateTermIDToSurfaceFormMapping(id2token, token2surfaceform):\n",
    "    termIDToSurfaceFormMap = []\n",
    "    for i in range(0, len(id2token)):\n",
    "        if id2token[i] in token2surfaceform:\n",
    "            termIDToSurfaceFormMap.append(token2surfaceform[id2token[i]])\n",
    "    return termIDToSurfaceFormMap;\n",
    "\n",
    "termIDToSurfaceFormMap = CreateTermIDToSurfaceFormMapping(id2token, vocabToSurfaceFormHash);"
   ]
  },
  {
   "cell_type": "code",
   "execution_count": 6,
   "metadata": {},
   "outputs": [
    {
     "name": "stdout",
     "output_type": "stream",
     "text": [
      "Term index: 20\n",
      "Modeled form: joint_committee\n",
      "Surface form: joint committee\n"
     ]
    }
   ],
   "source": [
    "# print out the modeled token form and the best matching surface for the token with the index value of 20\n",
    "i = 20\n",
    "print('Term index:', i)\n",
    "print('Modeled form:', id2token[i])\n",
    "print('Surface form:', termIDToSurfaceFormMap[i])"
   ]
  },
  {
   "cell_type": "markdown",
   "metadata": {},
   "source": [
    "### Use the Build-in <i> print_topics </i> Method to Summarize a Random Sample of 10 Topics"
   ]
  },
  {
   "cell_type": "code",
   "execution_count": 7,
   "metadata": {},
   "outputs": [
    {
     "name": "stdout",
     "output_type": "stream",
     "text": [
      "Number of topics: 200\n"
     ]
    },
    {
     "data": {
      "text/plain": [
       "[(69,\n",
       "  '0.319*\"reduction\" + 0.144*\"loss\" + 0.082*\"risk\" + 0.069*\"mitigation\" + 0.052*\"fema\" + 0.035*\"reduction_act\" + 0.030*\"warning\" + 0.022*\"earthquake\" + 0.022*\"events\" + 0.015*\"warnings\"'),\n",
       " (136,\n",
       "  '0.148*\"aurora\" + 0.125*\"soledad\" + 0.048*\"aldo\" + 0.026*\"eva\" + 0.018*\"simental\" + 0.000*\"provides\" + 0.000*\"provides_for_the_relief_of_mr.\" + 0.000*\"states\" + 0.000*\"solar_energy\" + 0.000*\"national\"'),\n",
       " (199,\n",
       "  '0.109*\"drug\" + 0.043*\"drugs\" + 0.025*\"fda\" + 0.020*\"device\" + 0.019*\"devices\" + 0.017*\"amends_the_federal_food\" + 0.017*\"cosmetic_act\" + 0.014*\"prescription_drug\" + 0.014*\"prescription\" + 0.012*\"food_and_drug_administration\"'),\n",
       " (44,\n",
       "  '0.367*\"regulation\" + 0.217*\"nation\" + 0.060*\"consequences\" + 0.037*\"unused\" + 0.028*\"individually\" + 0.022*\"carrying_out_this_act\" + 0.017*\"directs_the_chairman\" + 0.015*\"succeeding_fiscal_year\" + 0.015*\"commission\\'s\" + 0.013*\"attain\"'),\n",
       " (73,\n",
       "  '0.024*\"securities\" + 0.020*\"company\" + 0.018*\"sec\" + 0.017*\"transactions\" + 0.016*\"transaction\" + 0.016*\"financial\" + 0.014*\"registered\" + 0.014*\"registration\" + 0.011*\"issuer\" + 0.010*\"exchange\"'),\n",
       " (187,\n",
       "  '0.019*\"maher\" + 0.017*\"yassine\" + 0.000*\"provides\" + 0.000*\"repeals\" + 0.000*\"provides_for_the_relief\" + 0.000*\"states\" + 0.000*\"united_states\" + 0.000*\"7_u.s.c\" + 0.000*\"amends\" + 0.000*\"expresses_the_sense_of_congress\"'),\n",
       " (114,\n",
       "  '0.678*\"elimination\" + 0.074*\"authorizes_necessary_appropriations\" + 0.040*\"economic_stabilization_act\" + 0.029*\"subsistence_allowances\" + 0.027*\"price_controls\" + 0.018*\"grade_crossings\" + 0.016*\"state_of_illinois\" + 0.010*\"makes_it_the_sense_of_the_senate\" + 0.007*\"petrochemicals\" + 0.004*\"rail-highway\"'),\n",
       " (158,\n",
       "  '0.495*\"recording\" + 0.149*\"recordings\" + 0.089*\"tape\" + 0.023*\"prescribe_by_regulation\" + 0.021*\"conversations\" + 0.019*\"conversation\" + 0.019*\"recorders\" + 0.005*\"listening-in\" + 0.003*\"transcription\" + 0.000*\"provides\"'),\n",
       " (18,\n",
       "  '0.143*\"veteran\" + 0.076*\"increased\" + 0.049*\"july_1\" + 0.043*\"disability\" + 0.042*\"june_30\" + 0.042*\"ending\" + 0.037*\"receiving\" + 0.036*\"preference\" + 0.036*\"date_of_enactment_of_this_act\" + 0.033*\"period_beginning\"'),\n",
       " (173,\n",
       "  '0.630*\"program\" + 0.022*\"five-year\" + 0.018*\"three-year\" + 0.017*\"joint_committee\" + 0.017*\"programs\" + 0.016*\"character\" + 0.015*\"pilot\" + 0.013*\"moneys\" + 0.011*\"provides\" + 0.009*\"localities\"')]"
      ]
     },
     "execution_count": 7,
     "metadata": {},
     "output_type": "execute_result"
    }
   ],
   "source": [
    "numTopics = lda.num_topics\n",
    "print (\"Number of topics:\", numTopics)\n",
    "lda.print_topics(10)"
   ]
  },
  {
   "cell_type": "markdown",
   "metadata": {},
   "source": [
    "### Use Word Cloud to Visualize a Topic"
   ]
  },
  {
   "cell_type": "markdown",
   "metadata": {},
   "source": [
    "Install WordCloud Python package:"
   ]
  },
  {
   "cell_type": "code",
   "execution_count": 8,
   "metadata": {},
   "outputs": [
    {
     "name": "stdout",
     "output_type": "stream",
     "text": [
      "Requirement already satisfied: wordcloud in c:\\users\\kehuan\\appdata\\local\\amlworkbench\\python\\lib\\site-packages\n",
      "Requirement already satisfied: matplotlib in c:\\users\\kehuan\\appdata\\local\\amlworkbench\\python\\lib\\site-packages (from wordcloud)\n",
      "Requirement already satisfied: pillow in c:\\users\\kehuan\\appdata\\local\\amlworkbench\\python\\lib\\site-packages (from wordcloud)\n",
      "Requirement already satisfied: numpy>=1.6.1 in c:\\users\\kehuan\\appdata\\local\\amlworkbench\\python\\lib\\site-packages (from wordcloud)\n",
      "Requirement already satisfied: cycler>=0.10 in c:\\users\\kehuan\\appdata\\local\\amlworkbench\\python\\lib\\site-packages (from matplotlib->wordcloud)\n",
      "Requirement already satisfied: pyparsing!=2.0.4,!=2.1.2,!=2.1.6,>=1.5.6 in c:\\users\\kehuan\\appdata\\local\\amlworkbench\\python\\lib\\site-packages (from matplotlib->wordcloud)\n",
      "Requirement already satisfied: pytz in c:\\users\\kehuan\\appdata\\local\\amlworkbench\\python\\lib\\site-packages (from matplotlib->wordcloud)\n",
      "Requirement already satisfied: python-dateutil in c:\\users\\kehuan\\appdata\\local\\amlworkbench\\python\\lib\\site-packages (from matplotlib->wordcloud)\n",
      "Requirement already satisfied: six>=1.10 in c:\\users\\kehuan\\appdata\\local\\amlworkbench\\python\\lib\\site-packages (from matplotlib->wordcloud)\n",
      "Requirement already satisfied: olefile in c:\\users\\kehuan\\appdata\\local\\amlworkbench\\python\\lib\\site-packages (from pillow->wordcloud)\n"
     ]
    }
   ],
   "source": [
    "# !pip install wordcloud"
   ]
  },
  {
   "cell_type": "code",
   "execution_count": 9,
   "metadata": {
    "collapsed": true
   },
   "outputs": [],
   "source": [
    "import matplotlib.pyplot as plt\n",
    "from wordcloud import WordCloud\n",
    "\n",
    "def _terms_to_counts(terms, multiplier=1000):\n",
    "    return ' '.join([' '.join(int(multiplier * x[1]) * [x[0]]) for x in terms])\n",
    "\n",
    "\n",
    "def visualizeTopic(lda, topicID=0, topn=500, multiplier=1000):\n",
    "    terms = []\n",
    "    tmp = lda.show_topic(topicID, topn)\n",
    "    for term in tmp:\n",
    "        terms.append(term)\n",
    "    \n",
    "    wordcloud = WordCloud(max_words=10000, collocations=False).generate(_terms_to_counts(terms, multiplier))\n",
    "    fig = plt.figure(figsize=(12, 16))\n",
    "    plt.imshow(wordcloud)\n",
    "    plt.axis(\"off\")\n",
    "    plt.title(\"Topic %d\" % topicID)\n",
    "    plt.show()\n",
    "    "
   ]
  },
  {
   "cell_type": "code",
   "execution_count": 10,
   "metadata": {},
   "outputs": [
    {
     "data": {
      "image/png": "[encoded data removed]",
      "text/plain": [
       "<matplotlib.figure.Figure at 0x1dc53badda0>"
      ]
     },
     "metadata": {},
     "output_type": "display_data"
    }
   ],
   "source": [
    "visualizeTopic(lda, topicID=0, topn=1000)"
   ]
  },
  {
   "cell_type": "code",
   "execution_count": 11,
   "metadata": {},
   "outputs": [
    {
     "data": {
      "image/png": "[encoded data removed]",
      "text/plain": [
       "<matplotlib.figure.Figure at 0x1dc53c10b70>"
      ]
     },
     "metadata": {},
     "output_type": "display_data"
    }
   ],
   "source": [
    "visualizeTopic(lda, topicID=50, topn=1000)"
   ]
  },
  {
   "cell_type": "markdown",
   "metadata": {
    "nbpresent": {
     "id": "6975bd59-2a7c-466c-b248-7dbff82dea79"
    }
   },
   "source": [
    "### Load the Document Probability Score P(topic|doc) Computed by the LDA Model from File\n",
    "\n",
    "In this section, each document from the corpus is passed into the LDA model which then infers the topic distribution for each document. The topic distributions are collected into a single numpy array."
   ]
  },
  {
   "cell_type": "code",
   "execution_count": 12,
   "metadata": {},
   "outputs": [
    {
     "data": {
      "text/plain": [
       "(289429, 200)"
      ]
     },
     "execution_count": 12,
     "metadata": {},
     "output_type": "execute_result"
    }
   ],
   "source": [
    "docTopicProbsFile = \"../Data/CongressionalDocTopicProbs.npy\"\n",
    "\n",
    "# docTopicProbs[docID,TopicID] --> P(topic|doc)\n",
    "docTopicProbs = numpy.load(docTopicProbsFile)\n",
    "\n",
    "# The docTopicProbs shape should be (# of docs, # of topics)\n",
    "docTopicProbs.shape"
   ]
  },
  {
   "cell_type": "markdown",
   "metadata": {
    "nbpresent": {
     "id": "65904084-4721-4b58-8ea5-711b7b6388fa"
    }
   },
   "source": [
    "### Compute the Global Topic Likelihood Scores P(topic)"
   ]
  },
  {
   "cell_type": "code",
   "execution_count": 13,
   "metadata": {
    "collapsed": true,
    "nbpresent": {
     "id": "b43ca7bd-75e7-4d17-9f77-80ce05375dad"
    },
    "scrolled": true
   },
   "outputs": [],
   "source": [
    "# Computing the global topic likelihoods by aggregating topic probabilities over all documents\n",
    "# topicProbs[topicID] --> P(topic)\n",
    "def ComputeTopicProbs(docTopicProbs):\n",
    "    topicProbs = docTopicProbs.sum(axis=0) \n",
    "    topicProbs = topicProbs/sum(topicProbs)\n",
    "    return topicProbs\n",
    "\n",
    "topicProbs = ComputeTopicProbs(docTopicProbs)"
   ]
  },
  {
   "cell_type": "markdown",
   "metadata": {
    "nbpresent": {
     "id": "82e2d906-b067-419d-9532-378c6f36fd69"
    }
   },
   "source": [
    "#### Convert the Topic Language Model Information P(term|topic) from the LDA Model into a NumPy Representation"
   ]
  },
  {
   "cell_type": "code",
   "execution_count": 14,
   "metadata": {
    "collapsed": true,
    "nbpresent": {
     "id": "7fd9e75d-7abf-4dca-b173-23405ebdfbf6"
    }
   },
   "outputs": [],
   "source": [
    "def ExtractTopicLMMatrix(lda):\n",
    "    # Initialize the matrix\n",
    "    docTopicProbs = numpy.zeros((lda.num_topics,lda.num_terms))\n",
    "    for topicID in range(0,lda.num_topics):\n",
    "        termProbsList = lda.get_topic_terms(topicID,lda.num_terms)\n",
    "        for termProb in termProbsList:\n",
    "            docTopicProbs[topicID,termProb[0]]=termProb[1]\n",
    "    return docTopicProbs\n",
    "    \n",
    "# topicTermProbs[topicID,termID] --> P(term|topic)\n",
    "topicTermProbs = ExtractTopicLMMatrix(lda)"
   ]
  },
  {
   "cell_type": "code",
   "execution_count": 15,
   "metadata": {
    "collapsed": true
   },
   "outputs": [],
   "source": [
    "# Set this to true if you want to save the Topic LMs for a newly trained LDA model to file\n",
    "if True:\n",
    "    numpy.save(\"../Data/CongressionalDocTopicLM.npy\", topicTermProbs)"
   ]
  },
  {
   "cell_type": "markdown",
   "metadata": {
    "nbpresent": {
     "id": "688b7bd8-bb00-442d-a195-dd1310424d82"
    }
   },
   "source": [
    "#### Compute P(topic,term), P(term), and P(topic|term)"
   ]
  },
  {
   "cell_type": "code",
   "execution_count": 16,
   "metadata": {
    "collapsed": true,
    "nbpresent": {
     "id": "ac3b8bc5-6733-46cf-9451-10b7c9ef8d88"
    }
   },
   "outputs": [],
   "source": [
    "# Compute the joint likelihoods of topics and terms\n",
    "# jointTopicTermProbs[topicID,termID] --> P(topic,term) = P(term|topic)*P(topic)\n",
    "jointTopicTermProbs = numpy.diag(topicProbs).dot(topicTermProbs) \n",
    "\n",
    "# termProbs[termID] --> P(term)\n",
    "termProbs = jointTopicTermProbs.sum(axis=0)\n",
    "\n",
    "# topicProbsPermTerm[topicID,termID] --> P(topic|term)\n",
    "topicProbsPerTerm = jointTopicTermProbs / termProbs"
   ]
  },
  {
   "cell_type": "code",
   "execution_count": 17,
   "metadata": {
    "nbpresent": {
     "id": "e45a357e-ab67-4d85-80e9-d433714f9798"
    }
   },
   "outputs": [
    {
     "name": "stdout",
     "output_type": "stream",
     "text": [
      "1: amends --> 0.007287\n",
      "2: provides --> 0.004214\n",
      "3: requires --> 0.003877\n",
      "4: state --> 0.003837\n",
      "5: program --> 0.003473\n",
      "6: united_states --> 0.003037\n",
      "7: certain --> 0.002999\n",
      "8: national --> 0.002770\n",
      "9: including --> 0.002521\n",
      "10: provide --> 0.002377\n",
      "11: harmonized_tariff_schedule_of_the_united_states --> 0.002325\n",
      "12: respect --> 0.002235\n",
      "13: states --> 0.002204\n",
      "14: all --> 0.002167\n",
      "15: person --> 0.002145\n",
      "16: year --> 0.002107\n",
      "17: service --> 0.002074\n",
      "18: specified --> 0.001950\n",
      "19: individuals --> 0.001906\n",
      "20: services --> 0.001874\n",
      "21: prohibits --> 0.001870\n",
      "22: authorizes --> 0.001775\n",
      "23: individual --> 0.001761\n",
      "24: december_31 --> 0.001759\n",
      "25: amended --> 0.001705\n"
     ]
    }
   ],
   "source": [
    "# Print most frequent words in LDA vocab\n",
    "mostFrequentTermIDs = (-termProbs).argsort()\n",
    "for i in range(0,25):\n",
    "    print (\"%d: %s --> %f\" % (i+1, id2token[mostFrequentTermIDs[i]], termProbs[mostFrequentTermIDs[i]]))"
   ]
  },
  {
   "cell_type": "markdown",
   "metadata": {
    "nbpresent": {
     "id": "9c6d2ec8-2fd6-43ac-89e7-293228019bb2"
    }
   },
   "source": [
    "#### Compute WPMI\n",
    "\n",
    "To determine which vocabulary terms are most representative of a topic, systems typically just choose a set of terms that are most likely for the topic, i.e., terms that maximize the languauge model expression <i>P(term|topic)</i> for the given topic. This approach is adequate for many data sets. However, for some data sets there may be common words in the corpus that are frequent terms within multiple topics, and hence not a distinguishing term for any of these topics. In this case, selecting words which have the largest weighted pointwise mutual information (WPMI) with a given topic is more appropriate. \n",
    "\n",
    "The expression for WPMI between a word and token is given as:\n",
    "\n",
    "\n",
    "$WPMI(term,topic) = P(term,topic)\\log\\frac{P(term,topic)}{P(term)P(topic)} = P(term,topic)\\log\\frac{P(topic|term)}{P(topic)}$\n"
   ]
  },
  {
   "cell_type": "code",
   "execution_count": 18,
   "metadata": {},
   "outputs": [
    {
     "data": {
      "text/plain": [
       "(200, 67453)"
      ]
     },
     "execution_count": 18,
     "metadata": {},
     "output_type": "execute_result"
    }
   ],
   "source": [
    "topicTermWPMI =(jointTopicTermProbs.transpose()*numpy.log(topicProbsPerTerm.transpose()/topicProbs)).transpose()\n",
    "topicTermWPMI.shape"
   ]
  },
  {
   "cell_type": "markdown",
   "metadata": {
    "nbpresent": {
     "id": "fd3d5300-60a1-4873-a52d-a9d5b89b3463"
    }
   },
   "source": [
    "#### Compute Topic to Document Purity measure for Each Topic\n",
    "\n",
    "One measure of the importance or quality of a topic is its topic to document purity measure. This purity measure assumes latent topics that dominate the documents in which they appear are more semantically important than latent topics that are weakly spread across many documents. This concept was introduced in the paper [\"Latent Topic Modeling for Audio Corpus Summarization](http://people.csail.mit.edu/hazen/publications/Hazen-Interspeech11.pdf). The purity measure is expressed by the following equation:\n",
    "\n",
    "$Purity(topic) = \\exp\\left (\n",
    "                 \\frac{\\sum_{\\forall doc}P(topic|doc)\\log P(topic|doc)}{\\sum_{\\forall doc}P(topic|doc)}\n",
    "                \\right )$"
   ]
  },
  {
   "cell_type": "code",
   "execution_count": 19,
   "metadata": {
    "collapsed": true,
    "nbpresent": {
     "id": "f2b0a490-a67d-47fc-872f-1e4696886ecb"
    }
   },
   "outputs": [],
   "source": [
    "topicPurity = numpy.exp(((docTopicProbs * numpy.log(docTopicProbs)).sum(axis=0))/(docTopicProbs).sum(axis=0))"
   ]
  },
  {
   "cell_type": "markdown",
   "metadata": {
    "nbpresent": {
     "id": "61921e49-660e-4d97-a4c8-feec4804e2ce"
    }
   },
   "source": [
    "#### Create Topic Summaries "
   ]
  },
  {
   "cell_type": "markdown",
   "metadata": {},
   "source": [
    "In the code snippet below we demonstrate how the WPMI measure lowers to score of some common tokens that do not provide value in a topic summary in comparison to the standard word likely measure P(token|topic). For topic 2 below notice how the generic words <i>person</i>, <i>United States</i>, and <i>Provides</i> have their position in the summaries lowered by the WPMI measure relative to the straight P(token|topic) measure, while the WMPI measure improves the ranking for the content bearing tokens <i>felony</i>, <i>sentencing</i> and <i>forfeiture</i>.  "
   ]
  },
  {
   "cell_type": "code",
   "execution_count": 20,
   "metadata": {
    "nbpresent": {
     "id": "902f0953-1cc3-465a-a93b-aa08daf2b18b"
    }
   },
   "outputs": [
    {
     "name": "stdout",
     "output_type": "stream",
     "text": [
      "                                        WPMI                                                 Prob\n",
      " 1:                             private ---> 0.003316                                 public ---> 0.197517\n",
      " 2:                              public ---> 0.003207                                private ---> 0.190008\n",
      " 3:                      Protection Act ---> 0.001895                         Protection Act ---> 0.108994\n",
      " 4:                                four ---> 0.000580                                   four ---> 0.035686\n",
      " 5:                             carried ---> 0.000454                                carried ---> 0.028820\n",
      " 6:                             express ---> 0.000435                                express ---> 0.025115\n",
      " 7:                             declare ---> 0.000362                                declare ---> 0.022716\n",
      " 8:                            restrict ---> 0.000329                               restrict ---> 0.019928\n",
      " 9:                        broadcasting ---> 0.000296                           broadcasting ---> 0.017542\n",
      "10:                         programming ---> 0.000274                            programming ---> 0.016778\n",
      "11:                             letters ---> 0.000224                        Federal funding ---> 0.013033\n",
      "12:                     Federal funding ---> 0.000221                                letters ---> 0.012714\n",
      "13:                                 dog ---> 0.000182                                    dog ---> 0.010454\n",
      "14:                                dogs ---> 0.000161                              broadcast ---> 0.010109\n",
      "15:                           broadcast ---> 0.000147                                   dogs ---> 0.009150\n"
     ]
    }
   ],
   "source": [
    "topicID = 2\n",
    "highestWPMITermIDs = (-topicTermWPMI[topicID]).argsort()\n",
    "highestProbTermIDs = (-topicTermProbs[topicID]).argsort()\n",
    "print (\"                                        WPMI                                                 Prob\")\n",
    "for i in range(0,15):\n",
    "    print (\"%2d: %35s ---> %8.6f    %35s ---> %8.6f\" % (i+1, \n",
    "                                                        termIDToSurfaceFormMap[highestWPMITermIDs[i]], \n",
    "                                                        topicTermWPMI[topicID,highestWPMITermIDs[i]],\n",
    "                                                        termIDToSurfaceFormMap[highestProbTermIDs[i]], \n",
    "                                                        topicTermProbs[topicID,highestProbTermIDs[i]]))                "
   ]
  },
  {
   "cell_type": "code",
   "execution_count": 21,
   "metadata": {
    "collapsed": true,
    "nbpresent": {
     "id": "5fef2737-5cde-43e2-8c05-04320722da93"
    }
   },
   "outputs": [],
   "source": [
    "def CreateTopicSummaries(topicTermScores, id2token, tokenid2surfaceform, maxStringLen):\n",
    "    reIgnore = re.compile('^[a-z]\\.$')\n",
    "    reAcronym = re.compile('^[A-Z]+$')\n",
    "    topicSummaries = []\n",
    "    for topicID in range(0,len(topicTermScores)):\n",
    "        rankedTermIDs = (-topicTermScores[topicID]).argsort()\n",
    "        maxNumTerms = len(rankedTermIDs)\n",
    "        termIndex = 0\n",
    "        stop = 0\n",
    "        outputTokens = []\n",
    "        prevAcronyms = []\n",
    "        topicSummary = \"\"\n",
    "        while not stop:\n",
    "            # If we've run out of tokens then stop...\n",
    "            if (termIndex>=maxNumTerms):\n",
    "                stop=1\n",
    "            # ...otherwise consider adding next token to summary\n",
    "            else:\n",
    "                nextToken = id2token[rankedTermIDs[termIndex]]\n",
    "                nextTokenOut = tokenid2surfaceform[rankedTermIDs[termIndex]]\n",
    "                keepToken = 1\n",
    "                \n",
    "                # Prepare to test current word as an acronym or a string that reduces to an acronym\n",
    "                nextTokenIsAcronym = 0\n",
    "                nextTokenAbbrev = \"\"\n",
    "                if reAcronym.match(nextTokenOut) != None:\n",
    "                    nextTokenIsAcronym = 1\n",
    "                else:\n",
    "                    subTokens = nextToken.split('_')\n",
    "                    if (len(subTokens)>1):\n",
    "                        for subToken in subTokens:\n",
    "                            nextTokenAbbrev += subToken[0]                        \n",
    "\n",
    "                # See if we should ignore this token because it matches the regex for tokens to ignore\n",
    "                if ( reIgnore.match(nextToken) != None ):\n",
    "                    keepToken = 0;\n",
    "\n",
    "                # Otherwise see if we should ignore this token because\n",
    "                # it is a close match to a previously selected token\n",
    "                elif len(outputTokens) > 0:          \n",
    "                    for prevToken in outputTokens:\n",
    "                        # Ignore token if it is a substring of a previous token\n",
    "                        if nextToken in prevToken:\n",
    "                            keepToken = 0\n",
    "                        # Ignore token if it is a superstring of a previous token\n",
    "                        elif prevToken in nextToken:\n",
    "                            keepToken = 0\n",
    "                        # Ignore token if it is an acronym of a previous token\n",
    "                        elif nextTokenIsAcronym:\n",
    "                            subTokens = prevToken.split('_')\n",
    "                            if (len(subTokens)>1):\n",
    "                                prevTokenAbbrev = \"\"\n",
    "                                for subToken in subTokens:\n",
    "                                    prevTokenAbbrev += subToken[0]\n",
    "                                if prevTokenAbbrev == nextToken:\n",
    "                                    keepToken = 0                                  \n",
    "                    for prevAcronym in prevAcronyms:\n",
    "                        # Ignore token if it is the long form of an earlier acronym\n",
    "                        if nextTokenAbbrev == prevAcronym:\n",
    "                                keepToken = 0\n",
    "\n",
    "                # Add tokens to the summary for this topic                \n",
    "                if keepToken:\n",
    "                    # Always add at least one token to the summary\n",
    "                    if len(topicSummary) == 0 or ( len(topicSummary) + len(nextTokenOut) + 1 < maxStringLen):\n",
    "                        if len(topicSummary) == 0:\n",
    "                            topicSummary = nextTokenOut\n",
    "                        else: \n",
    "                            topicSummary += \", \" + nextTokenOut\n",
    "                        outputTokens.append(nextToken)\n",
    "                        if nextTokenIsAcronym:\n",
    "                            prevAcronyms.append(nextToken)\n",
    "                    # If we didn't add the previous word and we're within 10 characters of \n",
    "                    # the max string length then we'll just stop here\n",
    "                    elif maxStringLen - len(topicSummary) < 10 :\n",
    "                        stop = 1\n",
    "                    # Otherwise if the current token is too long, but we still have more than\n",
    "                    # 10 characters of space left we'll just skip this one and add the next token\n",
    "                    # one if it's short enough\n",
    "                termIndex += 1         \n",
    "        topicSummaries.append(topicSummary)\n",
    "    return topicSummaries   \n",
    "    \n",
    "topicSummaries = CreateTopicSummaries(topicTermWPMI, id2token, termIDToSurfaceFormMap, 85)"
   ]
  },
  {
   "cell_type": "code",
   "execution_count": 22,
   "metadata": {
    "collapsed": true,
    "nbpresent": {
     "id": "bbe5cc20-ad4f-482c-8f94-09de87752d30"
    }
   },
   "outputs": [],
   "source": [
    "# Rank the topics by their prominence score in the corpus\n",
    "# The topic score combines the total weight of each a topic in the corpus \n",
    "# with a topic document purity score for topic \n",
    "# Topics with topicScore > 1 are generally very strong strong topics\n",
    "\n",
    "topicScore = (numTopics * topicProbs) * (2 * topicPurity)\n",
    "topicRanking = (-topicScore).argsort()"
   ]
  },
  {
   "cell_type": "markdown",
   "metadata": {},
   "source": [
    "### Print Out Topical Summary of the Entire Corpus "
   ]
  },
  {
   "cell_type": "code",
   "execution_count": 23,
   "metadata": {
    "nbpresent": {
     "id": "dacd12f0-444b-4759-af58-27d4ba1c4fe5"
    },
    "scrolled": false
   },
   "outputs": [
    {
     "name": "stdout",
     "output_type": "stream",
     "text": [
      "Rank  ID  Score  Prob  Purity  Summary\n",
      "   1  13  9.587 (4.382, 0.547) Harmonized Tariff Schedule of the United States, Amends, December 31, duty, suspend\n",
      "   2 107  8.816 (4.943, 0.446) tax, qualified, Amends the Internal Revenue Code, income, credit, property, deduction\n",
      "   3 176  6.824 (4.047, 0.422) Medicare, VA, Medicaid, coverage, benefits, Social Security Act, payment, health care\n",
      "   4  85  6.011 (3.711, 0.405) U.S., countries, international, United States, alien, country, Government, President\n",
      "   5 183  5.138 (3.306, 0.388) project, water, River, California, construction, highway, Texas, County, Lake\n",
      "   6  56  5.067 (3.098, 0.409) land, Tribe, area, Secretary of the Interior, tribal, lease, management, conveyance\n",
      "   7  83  4.215 (2.728, 0.386) DOD, military, defense, Air Force, Navy, Army, procurement, armed forces, FY, program\n",
      "   8  40  3.697 (2.528, 0.366) amended, measure, introduced, summary of that version is repeated, Designates\n",
      "   9 174  3.576 (3.346, 0.267) Requires, review, compliance, requirements, agency, procedures, regulations, notice\n",
      "  10  27  3.495 (3.052, 0.286) programs, grants, Requires, funds, projects, activities, training, funding, FY\n",
      "  11  11  3.485 (2.699, 0.323) energy, EPA, technologies, technology, vessel, environmental, fuel, development\n",
      "  12 126  3.069 (2.322, 0.330) offense, Attorney General, crime, criminal, victim, DOJ, defendant, violation\n",
      "  13   4  2.225 (1.755, 0.317) FCC, natural gas, pipeline, consideration of H.R, Sets forth the rule, carrier\n",
      "  14 100  1.824 (1.586, 0.287) committee, House, resolution, rule, Senate, amendment, Congress, consideration, H.R\n",
      "  15 112  1.769 (1.474, 0.300) candidate, contributions, Senate, congressional, Office, campaign, election, House\n",
      "  16 167  1.672 (1.770, 0.236) Recognizes, people, Encourages, anniversary, efforts, Commends, United States, Calls\n",
      "  17 190  1.474 (1.434, 0.257) FY, budget, legislation, increase, spending, revenues, total, outlays, appropriations\n",
      "  18  87  1.472 (1.350, 0.272) bank, mortgage, HUD, loan, insured, debt, financial institution, FDIC, capital\n",
      "  19  51  1.402 (1.297, 0.270) airport, firearms, FAA, DOT, passenger, security, flight, safety, air carrier, Amtrak\n",
      "  20 182  1.110 (1.394, 0.199) employee, Board, employer, position, decision, agency, rights, complaint, performance\n",
      "  21 180  0.716 (0.933, 0.192) small business, SBA, contract, loan, disaster, businesses, guarantee, borrower\n",
      "  22  21  0.708 (0.958, 0.185) students, education, science, institutions, college, mathematics, IHEs, scholarship\n",
      "  23  57  0.665 (0.879, 0.189) plan, retirement, ERISA, participant, benefits, employer, contributions, fiduciary\n",
      "  24 125  0.629 (1.015, 0.155) health, prevention, treatment, care, HHS, improve, AIDS, screening, registry, provide\n",
      "  25  91  0.542 (0.758, 0.179) schools, LEAs, education, students, teachers, ESEA, programs, learning, children\n",
      "  26  97  0.499 (0.677, 0.184) election, voting, vote, presidential, official, State, number, elected, ballot, held\n",
      "  27  79  0.478 (0.816, 0.146) response, terrorism, security, intelligence, officer, law enforcement, threats\n",
      "  28 142  0.450 (0.720, 0.156) trade, foreign, imports, United States, merchandise, domestic, imported, article\n",
      "  29 134  0.432 (0.712, 0.152) work, coal, employees, employer, hours, wage, Puerto Rico, temporary, sugar, mining\n",
      "  30 186  0.427 (0.699, 0.153) research, NIH, Institute, Amends the Public Health Service Act, cancer, disease\n",
      "  31  84  0.380 (0.636, 0.149) food, household, USDA, income, nutrition, eligibility, AFDC, recipient, franchise\n",
      "  32  66  0.346 (0.820, 0.106) Office, agency, functions, Council, Establishes, Federal agencies, policy, activities\n",
      "  33  70  0.343 (0.638, 0.135) Repeals, proposed, relating, effective, President's, proposal, enacted, January\n",
      "  34   5  0.324 (0.665, 0.122) children, family, child care, parent, adoption, families, child support, TANF\n",
      "  35  76  0.323 (0.515, 0.157) coins, design, Directs the Secretary of the Treasury, currency, dollar, gold\n",
      "  36   1  0.321 (0.450, 0.178) license, licensing, granting, low, ground, encryption, facility, antitrust laws\n",
      "  37  73  0.318 (0.581, 0.137) securities, company, transactions, registered, financial, registration, issuer\n",
      "  38  48  0.300 (0.606, 0.124) funds, Prohibits, appropriations, District of Columbia, Office, GSA, Related Agencies\n",
      "  39  30  0.249 (0.364, 0.171) Provides for the relief, master, Paul, scheduling, Douglas, Sunshine, Maria, Manuel\n",
      "  40 166  0.248 (0.456, 0.136) award, recognition, substance, Native American, medal, display, roll, arrange\n",
      "  41  95  0.236 (0.578, 0.102) fiscal year, education, Welfare, volunteer, elderly, Authorizes appropriations\n",
      "  42  54  0.232 (0.434, 0.134) youth, Survivors, Old-Age, Disability Insurance, title II, Social Security Act\n",
      "  43 199  0.232 (0.445, 0.130) drug, FDA, device, Amends the Federal Food, Cosmetic Act, prescription, pharmacy\n",
      "  44 143  0.222 (0.615, 0.090) authorization, Congress, President, authority, military, authorize, enactment\n",
      "  45 127  0.185 (0.561, 0.082) Commission, recommendations, study, report, Conference, Establishes, 90 days\n",
      "  46  14  0.183 (0.417, 0.110) residence, religious, inclusion, Reduces, eight, earned, film, ethnic, dwelling\n",
      "  47 189  0.177 (0.521, 0.085) claim, action, settlement, practice, damages, class, judgment, brought, defendant\n",
      "  48  17  0.169 (0.437, 0.097) site, construction, Memorial, Foundation, Museum, space, location, National, post\n",
      "  49  34  0.160 (0.479, 0.084) year, day, changes, Advisory Committee, recommend, motor vehicles, circuit, titles\n",
      "  50 150  0.157 (0.414, 0.095) conservation, species, fish, recovery, wildlife, list, taking, moratorium, habitat\n",
      "  51 195  0.154 (0.531, 0.072) information, data, access, disclosure, Internet, tobacco, website, privacy, online\n",
      "  52 165  0.153 (0.494, 0.077) person, law, prohibit, life, abortion, term, right, Declares, inapplicable, performed\n",
      "  53 130  0.153 (0.425, 0.090) emergency, automobile, unemployed, unemployment, model year, vocational education\n",
      "  54  75  0.136 (0.443, 0.077) service, spouse, annuity, death, pension, annuities, pay, married, paid, surviving\n",
      "  55  65  0.135 (0.549, 0.061) Amends, change, Designates, presently, October, previously, changing, fourth, 5 U.S.C\n",
      "  56  26  0.128 (0.411, 0.078) product, sold, price, manufacturer, unit, processing, quality, packaging, commerce\n",
      "  57 192  0.128 (0.543, 0.059) State, local, lead, located, County, percent, Federal law, payments, limit, CPSC\n",
      "  58 152  0.127 (0.447, 0.071) property, value, received, liability, Comptroller General, excess, interest, higher\n",
      "  59  41  0.125 (0.327, 0.096) school, cybersecurity, voluntary, withhold, Federal financial assistance, officials\n",
      "  60 109  0.119 (0.371, 0.080) association, marketing, producers, commodity, commodities, cooperative, farmers\n",
      "  61   7  0.117 (0.343, 0.086) Postal Service, delivery, mail, U.S, rate, USPS, PRC, stamp, Postmaster General\n",
      "  62   3  0.115 (0.435, 0.066) covered, group, certificate, title, coverage, medical, dependent, basic, Stipulates\n",
      "  63  46  0.109 (0.373, 0.073) workers, training, allowances, labor, industry, relocation, petition, community, firm\n",
      "  64 171  0.108 (0.357, 0.076) applicant, application, discrimination, sex, race, color, women, renewal, religion\n",
      "  65 145  0.108 (0.384, 0.070) transportation, travel, place, document, outside, United States, expenses, reference\n",
      "  66  50  0.098 (0.384, 0.064) Increases, Social Security, benefits, reflect, Revises, monthly, formula, index\n",
      "  67   9  0.097 (0.326, 0.075) insurance, losses, insurers, necessary to carry, pool, hurricane, policy, aquaculture\n",
      "  68  68  0.096 (0.365, 0.066) eligible, facility, material, injury, repair, improvement, expenses incurred\n",
      "  69 121  0.096 (0.178, 0.135) classification, purposes of the Immigration and Nationality Act, Classifies, evacuees\n",
      "  70 153  0.096 (0.358, 0.067) safety, standards, Corps, inspection, exposure, operator, hazard, accident, OSHA\n",
      "  71 138  0.092 (0.428, 0.054) obligations, loans, financing, aid, amounts, equipment, finance, payment, aggregate\n",
      "  72 193  0.092 (0.377, 0.061) court, jurisdiction, judicial, proceedings, cases, judges, review, appeal, Division\n",
      "  73  18  0.092 (0.369, 0.062) veteran, increased, July 1, ending, June 30, disability, preference, period beginning\n",
      "  74 164  0.091 (0.382, 0.059) services, Amendments, calendar year, credits, Extension Act, drug abuse, combined\n",
      "  75  53  0.088 (0.350, 0.063) compensation, member, Guam, allowance, Virgin Islands, senior, resulting, hire, paid\n",
      "  76 156  0.082 (0.301, 0.068) Bureau, Convention, Constitution, driver, oversight, driving, June 1, statistics\n",
      "  77 133  0.082 (0.325, 0.063) Administrator, records, preservation, Federal agency, management, essential, control\n",
      "  78 118  0.077 (0.315, 0.061) farm, payments, crop, acreage, level, producers, rice, adjusted, allotment, beginning\n",
      "  79  60  0.074 (0.304, 0.061) consumer, credit, statement, disclosures, disclose, savings, punitive damages, rights\n",
      "  80 175  0.070 (0.314, 0.056) Corporation, agricultural, rural, Agriculture, sales, cooperatives, antitrust\n",
      "  81 188  0.070 (0.317, 0.055) order, electronic, extension, communication, application, agent, records, search\n",
      "  82 131  0.065 (0.322, 0.050) mental health, transfer, reimbursement, manufacturers, exempt, Chapter, prohibition\n",
      "  83 137  0.065 (0.305, 0.053) regional, power, House of Representatives, Expresses the sense, bonds, high, regions\n",
      "  84 144  0.060 (0.270, 0.056) second, designate, December, respective, Women's, commissions, leaders, opinion\n",
      "  85 179  0.060 (0.276, 0.054) Center, laws, legal, social, citizen, relationship, clearinghouse, supported, acting\n",
      "  86 185  0.059 (0.293, 0.050) Fund, Establishes in the Treasury, arts, Japan, August, cultural, donations, artistic\n",
      "  87  12  0.058 (0.276, 0.053) housing, building, owner, rental, homeless, lease, families, section 8, tenant, PHA\n",
      "  88  15  0.057 (0.209, 0.068) DHS, Department of Homeland Security, CBP, Secretary of Homeland Security, HSA\n",
      "  89  71  0.056 (0.279, 0.050) investment, items, sanctions, exports, major, technology, South Africa, controlled\n",
      "  90 168  0.055 (0.261, 0.053) population, survey, library, Department of Commerce, recent, statistical, census\n",
      "  91  37  0.053 (0.308, 0.043) agreement, fee, Extends, commercial, country, entered, trade, opportunity, Imposes\n",
      "  92 197  0.051 (0.222, 0.057) animal, livestock, milk, dairy, Secretary of Agriculture, meat, poultry, beef, feed\n",
      "  93 169  0.049 (0.265, 0.046) certification, certified, limitation, independent, fully, central, contain, tires\n",
      "  94   2  0.048 (0.311, 0.039) private, public, Protection Act, four, carried, express, declare, restrict, letters\n",
      "  95  33  0.048 (0.234, 0.051) export, steel, parts, arrangements, horse, purchasing, carbon, months, sector\n",
      "  96 181  0.047 (0.251, 0.047) gasoline, produced, alcohol, Removes, grain, and/or, contains, pounds, volume\n",
      "  97 196  0.047 (0.272, 0.043) area, economic, economy, investigation, 30 days, result, accounting, classified\n",
      "  98 157  0.046 (0.275, 0.042) special, arising, appointment, appointed, Deputy, matters, privilege, completed\n",
      "  99  93  0.046 (0.235, 0.048) veterans, Entitles, respectively, ten years, occurs, classes, period, relates\n",
      " 100 115  0.044 (0.230, 0.048) free, remains, matter, address, reduced, mailing, Select Committee, send, sent\n",
      " 101  35  0.043 (0.269, 0.040) employment, jobs, employed, substitute, areas, persons, work, opportunities, wages\n",
      " 102  38  0.042 (0.267, 0.039) release, termination, terminate, remain, conditions, hearing, permanently, reasons\n",
      " 103 173  0.040 (0.300, 0.034) program, five-year, joint committee, three-year, character, pilot, moneys, localities\n",
      " 104 106  0.040 (0.220, 0.046) interstate, Compact, Governor, American Samoa, Island, Pacific, Amendments Act\n",
      " 105 141  0.037 (0.199, 0.046) human, illness, woman, donated, process, measurement, Advisory Commission, language\n",
      " 106 140  0.036 (0.234, 0.038) treatment, collection, Americans, city, health care, Authorizes the appropriation\n",
      " 107  89  0.035 (0.243, 0.036) American, private sector, Affairs, proceeding, departments, district court, direct\n",
      " 108  23  0.035 (0.175, 0.050) salaries and expenses, Code, Rescinds, President and Congress, Panama, revolving fund\n",
      " 109 155  0.035 (0.154, 0.057) relief, chief judge, sections, certain individuals, refers, covered by this Act\n",
      " 110  20  0.033 (0.228, 0.037) Adds, uses, recommendation, common, goal, growth, achieve, discharged, imposition\n",
      " 111  61  0.033 (0.187, 0.044) sale, submitted, described, September 1, objects, letter, offshore, Saudi Arabia\n",
      " 112  62  0.032 (0.215, 0.037) local government, nonprofit, counties, waste, Academy, paper, organization, fighting\n",
      " 113  49  0.031 (0.205, 0.038) Director, modification, citizenship, enforcement, privileges, Camp, approval\n",
      " 114 159  0.030 (0.164, 0.045) residential, marriage, light, difference, especially, documented, man, genocide\n",
      " 115  52  0.029 (0.186, 0.039) war, proposals, veteran's, U.S. citizen, dies, cemetery, Establishes the Commission\n",
      " 116  36  0.029 (0.216, 0.034) January 1, permanent, entitled, schedule, rating, nature, 30 percent, computed\n",
      " 117  72  0.029 (0.195, 0.037) Department, September 30, closing, Post Office, pertaining, provisions relating\n",
      " 118 123  0.029 (0.225, 0.032) testing, facilities, audit, exercise, State or local government, begin, oil and gas\n",
      " 119  16  0.028 (0.231, 0.031) method, known, long-term, arrangement, II, prospective, obtaining, organized\n",
      " 120 148  0.028 (0.199, 0.035) railroad, rehabilitation, source, maintenance, properties, freight, train, connected\n",
      " 121  22  0.026 (0.229, 0.028) protection, administration, State and local, encourage, problem, local governments\n",
      " 122 116  0.026 (0.209, 0.031) materials, supplies, cost, offer, components, Improvement Act, bid, acquired, furnish\n",
      " 123  31  0.024 (0.224, 0.027) policies, two, costs, concerning, selected, recognized, affect, third, referred\n",
      " 124  86  0.023 (0.144, 0.041) aircraft, July, organ, Israel, cabin, tissue, transplantation, cell, early warning\n",
      " 125  90  0.023 (0.151, 0.037) grant, bankruptcy, salary, salaries, autism, convenience, developmental disabilities\n",
      " 126  25  0.021 (0.209, 0.026) respect, storage, helium, extraction, States that the House of Representatives\n",
      " 127   0  0.021 (0.187, 0.028) vehicle, qualifying, claimant, damage, actual, sustained, assigned, five-year period\n",
      " 128 104  0.019 (0.195, 0.024) guidelines, maximum, set, three, Commissioner, ratio, handicapped, supervision\n",
      " 129 139  0.017 (0.162, 0.027) money, refund, deposit, accreditation, daily, weather, six months, substantial, metal\n",
      " 130 132  0.017 (0.182, 0.024) account, production, reserve, closed, principles, sound, needs, met, national defense\n",
      " 131   8  0.016 (0.158, 0.025) units, conversion, purchaser, Assistant Secretary, civil, converted, spent, remedy\n",
      " 132  32  0.016 (0.125, 0.032) Expresses the sense of Congress, recognize, Lithuania, Latvia, Estonia, Elder\n",
      " 133  42  0.016 (0.165, 0.024) activity, item, engage, activities, seller, Central Intelligence Agency, writing\n",
      " 134 129  0.015 (0.168, 0.022) assistance, urban, cities, forestry, Science and Technology, districts, trees\n",
      " 135  19  0.015 (0.162, 0.023) individuals, presence, discriminate, Civil Rights Act, unlawful employment practice\n",
      " 136 120  0.014 (0.147, 0.024) discharge, test, public health, National Health Service Corps, deny, failure\n",
      " 137  96  0.014 (0.161, 0.021) date, 10 years, Vietnam, occurring, active duty, 20 years, expire, January 31\n",
      " 138 128  0.013 (0.167, 0.020) permit, record, Deems, party, files, litigation, disclosing, pertinent, permission\n",
      " 139  69  0.013 (0.154, 0.020) reduction, loss, risk, mitigation, FEMA, warning, earthquake, events, tsunami, USGS\n",
      " 140 161  0.012 (0.148, 0.021) Assistance Act, Federal funds, State and local governments, possession, 75 percent\n",
      " 141  55  0.012 (0.147, 0.020) need, determining, various, pass, Federal programs, social security benefits\n",
      " 142 102  0.011 (0.140, 0.020) reserves, authorization of appropriations, highest, petroleum products, differences\n",
      " 143  88  0.011 (0.157, 0.017) operation, operating, effects, operate, prescribed, meets, environment, findings\n",
      " 144 111  0.010 (0.138, 0.019) period, off, advertisement, commence, followed, calculations, indicator, exercises\n",
      " 145  29  0.010 (0.124, 0.020) recycling, expanded, primarily, solid waste, Expansion Act, procurement, recycled\n",
      " 146  98  0.009 (0.125, 0.017) systems, Department of Transportation, rated, minimal, 24 months, terminal, step\n",
      " 147 163  0.009 (0.125, 0.017) engaged, physical, close, demonstrate, contact, stage, United States Government\n",
      " 148 108  0.008 (0.136, 0.015) entity, entities, lost, Federal assistance, way, approving, accepted, accredited\n",
      " 149  67  0.007 (0.104, 0.018) promotion, tourism, recreation, visitors, Federal departments and agencies, engaging\n",
      " 150  63  0.007 (0.114, 0.016) remove, respecting, submission, National Historical Park, supervise, civil action\n",
      " 151  64  0.007 (0.125, 0.014) end, executive, cancellation, removed, approve, transmit, instead, stating, come\n",
      " 152 119  0.007 (0.098, 0.017) Indian, ocean, size, laws of the United States, tax-exempt status, judicial council\n",
      " 153 110  0.007 (0.105, 0.016) plant, conflict, exclusively, visit, reserved, Northern Ireland, textile, convening\n",
      " 154  94  0.006 (0.105, 0.015) cover, placed, animals, retail, store, existing law, provisions of law, pet, finally\n",
      " 155  10  0.006 (0.114, 0.014) conducted, Requires the Commission, cash, deposited, Establishes the National\n",
      " 156 117  0.006 (0.109, 0.014) 50 percent, accessible, general public, partial, traveling, unavailable, constructed\n",
      " 157  44  0.006 (0.111, 0.013) regulation, nation, consequences, unused, individually, carrying out this Act\n",
      " 158 184  0.005 (0.087, 0.013) barriers, diabetes, exist, series, clinics, Initiative Act, simultaneously, educators\n",
      " 159 162  0.004 (0.103, 0.011) measures, adequate, chemicals, insure, pesticides, shortages, things, originated\n",
      " 160 147  0.004 (0.101, 0.011) agents, conducting, rules and regulations, holder, securing, leading, regulating\n",
      " 161  47  0.004 (0.088, 0.013) leave, persons, Renders, years of age or older, Federal Aviation Act, 49 U.S.C\n",
      " 162  28  0.004 (0.092, 0.012) victims, injuries, specialized, specialists, provide training, hospitals, burn\n",
      " 163 113  0.004 (0.089, 0.012) oil, Canada, negotiations, inadequate, congressional findings, Midwest, Lac, States\n",
      " 164  59  0.003 (0.082, 0.010) normal, standing, line, hunting, season, Federal Water Pollution Control Act, page\n",
      " 165  58  0.003 (0.086, 0.009) years, serving, continuously, twelve, Cigarette Labeling and Advertising, fourteen\n",
      " 166  39  0.003 (0.079, 0.008) return, leased, ship, waters, establish a new, fishing vessel, seized, equals\n",
      " 167 194  0.002 (0.074, 0.008) minority, restore, die, prisons, social workers, inquire, keeping, guaranteed\n",
      " 168  82  0.002 (0.074, 0.008) age, reached, specialist, disqualified, grades, GS-18, sons and daughters, GS-16\n",
      " 169 160  0.002 (0.074, 0.007) granted, recognizing, favor, judgments, necessity, inability, solely on the basis\n",
      " 170 178  0.002 (0.068, 0.007) Places, military service, specified Federal, civilians, creditable, enemy, December 7\n",
      " 171  74  0.002 (0.068, 0.007) economic development, Foreign Affairs, rise, foreign nations, environmental quality\n",
      " 172  43  0.002 (0.067, 0.006) present, stated, artificial, usual, applicable to all, flavoring, k, coloring\n",
      " 173 114  0.001 (0.053, 0.004) elimination, Authorizes necessary appropriations, Economic Stabilization Act\n",
      " 174  81  0.001 (0.054, 0.004) offset, cost of living, pay rates, cost-of-living, metropolitan areas, heavily\n",
      " 175  77  0.001 (0.054, 0.004) professional, psychologists, psychology, Atomic Energy Commission, State with respect\n",
      " 176 146  0.001 (0.047, 0.003) field, Sun, FEA, Kim, Yang, Chun, cease-and-desist, Wu, independent establishment, Yu\n",
      " 177 154  0.000 (0.043, 0.002) requesting, utilizing, supervising, Economic Opportunity Act, budget request\n",
      " 178  78  0.000 (0.041, 0.002) appliances, clothing, wear, Santa, prosthetic, tend, tear, Ramon, clothes, e)(3\n",
      " 179 105  0.000 (0.041, 0.002) guidance, 2nd, Thanksgiving, U.S. Information Agency, Monarch, Yates, Weldon, Filemon\n",
      " 180  99  0.000 (0.041, 0.002) funds provided, showing, shown, figures, maximum amounts, necessitated, diseased\n",
      " 181 151  0.000 (0.038, 0.001) Provides that all, depository, desires, constituted, depositories, law school\n",
      " 182 135  0.000 (0.037, 0.001) deficiencies, structured, characterized, expeditiously as possible, voluntary basis\n",
      " 183 103  0.000 (0.036, 0.001) harvesting, VI, Brazil, shrimp, duly authorized, person in charge, fulfills, logbook\n",
      " 184 158  0.000 (0.035, 0.001) recording, tape, prescribe by regulation, conversations, recorders, listening-in\n",
      " 185 177  0.000 (0.033, 0.001) usage, DES, Con, Tongue, diethylstilbestrol, Loaf, chili, growth, 21 U.S.C, head\n",
      " 186  92  0.000 (0.033, 0.001) bidder, nonmilitary, construction of a new, naming, national priorities, job-matching\n",
      " 187 136  0.000 (0.031, 0.001) Aurora, Soledad, Aldo, Eva, Simental, job-matching, grants-in, Offices=, -Emergency\n",
      " 188 124  0.000 (0.031, 0.001) Sam, 50-cent, Rayburn, job-matching, grants-in, -Emergency, Offices=, seven-fiscal\n",
      " 189 198  0.000 (0.030, 0.001) Lorraine, Edith, Gayao, Laurence, job-matching, grants-in, Offices=, -Emergency\n",
      " 190 172  0.000 (0.031, 0.001) receivers, bankruptcy proceedings, mere, custodians, job-matching, grants-in\n",
      " 191 170  0.000 (0.030, 0.001) first or second, Ruby, b)(1), mica, job-matching, grants-in, Offices=, -Emergency\n",
      " 192  45  0.000 (0.029, 0.001) forty-five, fact-finding, qualifed, job-matching, grants-in, -Emergency, Offices=\n",
      " 193 187  0.000 (0.029, 0.001) Maher, Yassine, job-matching, grants-in, -Emergency, Offices=, seven-fiscal, shcools\n",
      " 194 149  0.000 (0.028, 0.000) job-matching, grants-in, Offices=, -Emergency, seven-fiscal, one-and-one-half\n",
      " 195 191  0.000 (0.028, 0.000) job-matching, grants-in, Offices=, -Emergency, one-and-one-half, seven-fiscal\n",
      " 196  24  0.000 (0.028, 0.000) job-matching, grants-in, Offices=, -Emergency, seven-fiscal, one-and-one-half\n",
      " 197 101  0.000 (0.028, 0.000) job-matching, grants-in, Offices=, -Emergency, seven-fiscal, one-and-one-half\n",
      " 198  80  0.000 (0.028, 0.000) job-matching, grants-in, Offices=, -Emergency, seven-fiscal, opthalmologic, shcools\n",
      " 199   6  0.000 (0.028, 0.000) job-matching, grants-in, -Emergency, Offices=, seven-fiscal, one-and-one-half\n",
      " 200 122  0.000 (0.028, 0.000) job-matching, grants-in, Offices=, -Emergency, seven-fiscal, one-and-one-half\n"
     ]
    }
   ],
   "source": [
    "print (\"Rank  ID  Score  Prob  Purity  Summary\")\n",
    "for i in range(0, numTopics):\n",
    "    topicID = topicRanking[i]\n",
    "    print (\" %3d %3d %6.3f (%5.3f, %4.3f) %s\" \n",
    "           % (i+1, topicID, topicScore[topicID], 100*topicProbs[topicID], topicPurity[topicID], topicSummaries[topicID]))"
   ]
  },
  {
   "cell_type": "markdown",
   "metadata": {},
   "source": [
    "### Save LDA Topic Summaries"
   ]
  },
  {
   "cell_type": "code",
   "execution_count": 24,
   "metadata": {
    "collapsed": true
   },
   "outputs": [],
   "source": [
    "# If you want to save out the summaries to file makes this True\n",
    "if True:\n",
    "    fp = open(\"../Data/CongressionalDocTopicSummaries.tsv\", \"w\")\n",
    "    i = 0\n",
    "    fp.write(\"TopicID\\tTopicSummary\\n\")\n",
    "    for line in topicSummaries:\n",
    "        fp.write(\"%d\\t%s\\n\" % (i, line))\n",
    "        i += 1\n",
    "    fp.close()"
   ]
  },
  {
   "cell_type": "code",
   "execution_count": null,
   "metadata": {
    "collapsed": true
   },
   "outputs": [],
   "source": []
  }
 ],
 "metadata": {
  "anaconda-cloud": {},
  "kernelspec": {
   "display_name": "Python 3",
   "language": "python",
   "name": "python3"
  },
  "language_info": {
   "codemirror_mode": {
    "name": "ipython",
    "version": 3
   },
   "file_extension": ".py",
   "mimetype": "text/x-python",
   "name": "python",
   "nbconvert_exporter": "python",
   "pygments_lexer": "ipython3",
   "version": "3.5.2"
  },
  "nbpresent": {
   "slides": {
    "05f2d009-1afe-4edb-8e44-3886ff90f662": {
     "id": "05f2d009-1afe-4edb-8e44-3886ff90f662",
     "prev": "62668528-4383-40d4-8346-55098de21deb",
     "regions": {
      "d017e9eb-469d-4844-a435-8a07fbd34a23": {
       "attrs": {
        "height": 0.8,
        "width": 0.8,
        "x": 0.1,
        "y": 0.1
       },
       "content": {
        "cell": "1931cc98-9c4c-46c4-bc06-ec37c31944f5",
        "part": "whole"
       },
       "id": "d017e9eb-469d-4844-a435-8a07fbd34a23"
      }
     }
    },
    "0cef4fe0-fb8d-4d04-8499-a0aeb8e39c83": {
     "id": "0cef4fe0-fb8d-4d04-8499-a0aeb8e39c83",
     "prev": "b054cb8c-2fae-45e7-a1ea-5ddf5fafd04b",
     "regions": {
      "dd5ebd19-ba29-416a-93fe-a419a7808320": {
       "attrs": {
        "height": 0.8,
        "width": 0.8,
        "x": 0.1,
        "y": 0.1
       },
       "content": {
        "cell": "55d8b0a5-11a9-4cf1-8399-b2d036254dd0",
        "part": "whole"
       },
       "id": "dd5ebd19-ba29-416a-93fe-a419a7808320"
      }
     }
    },
    "0e6eef49-e6e3-4a88-81ef-9ca6538de3c7": {
     "id": "0e6eef49-e6e3-4a88-81ef-9ca6538de3c7",
     "prev": "91501d8f-6e03-4eda-bc8e-b30ba3dfc5f0",
     "regions": {
      "c8a095f5-9b2e-49ce-932e-d9e6827b0ce0": {
       "attrs": {
        "height": 0.8,
        "width": 0.8,
        "x": 0.1,
        "y": 0.1
       },
       "content": {
        "cell": "d3b757c3-d523-4bc0-80af-7be110f7a46e",
        "part": "whole"
       },
       "id": "c8a095f5-9b2e-49ce-932e-d9e6827b0ce0"
      }
     }
    },
    "140f2fe3-3b71-4459-b7b6-6ae13d350899": {
     "id": "140f2fe3-3b71-4459-b7b6-6ae13d350899",
     "prev": "5eea5861-97ec-4b43-9f13-f54553e5f4f8",
     "regions": {
      "add32de8-317f-4069-a350-a458f3c72ccf": {
       "attrs": {
        "height": 0.8,
        "width": 0.8,
        "x": 0.1,
        "y": 0.1
       },
       "content": {
        "cell": "82e2d906-b067-419d-9532-378c6f36fd69",
        "part": "whole"
       },
       "id": "add32de8-317f-4069-a350-a458f3c72ccf"
      }
     }
    },
    "1776d003-6d9a-4f23-9d96-699132adcd76": {
     "id": "1776d003-6d9a-4f23-9d96-699132adcd76",
     "prev": "53b3e9a4-62db-4c7a-8cfa-fc9f79aee34c",
     "regions": {
      "70125e66-c103-4611-a5da-d3cb44c63b9b": {
       "attrs": {
        "height": 0.8,
        "width": 0.8,
        "x": 0.1,
        "y": 0.1
       },
       "content": {
        "cell": "2152a599-0581-4406-a32c-58b4ff36711a",
        "part": "whole"
       },
       "id": "70125e66-c103-4611-a5da-d3cb44c63b9b"
      }
     }
    },
    "1e29821d-1c4f-4da7-bbe5-c979e7357e74": {
     "id": "1e29821d-1c4f-4da7-bbe5-c979e7357e74",
     "prev": "f71b51d6-502c-4fed-9f1c-1ca9c7856bab",
     "regions": {
      "13a49cd8-72d5-4e60-a7fb-17efba769077": {
       "attrs": {
        "height": 0.8,
        "width": 0.8,
        "x": 0.1,
        "y": 0.1
       },
       "content": {
        "cell": "23d9b7ef-11db-419b-9f97-7bb07a1e3ca5",
        "part": "whole"
       },
       "id": "13a49cd8-72d5-4e60-a7fb-17efba769077"
      }
     }
    },
    "201e343b-d43c-49a4-b269-144375cc209b": {
     "id": "201e343b-d43c-49a4-b269-144375cc209b",
     "prev": "a8f84401-1564-46ed-9f98-3b5c5587fc2b",
     "regions": {
      "2dfbb0e7-5c43-466a-846c-8b9594885821": {
       "attrs": {
        "height": 0.8,
        "width": 0.8,
        "x": 0.1,
        "y": 0.1
       },
       "content": {
        "cell": "bc5e3810-08b3-41aa-af97-0159bf9be597",
        "part": "whole"
       },
       "id": "2dfbb0e7-5c43-466a-846c-8b9594885821"
      }
     }
    },
    "2f493bea-47ab-4331-bb67-b54b8e3dc9d3": {
     "id": "2f493bea-47ab-4331-bb67-b54b8e3dc9d3",
     "prev": "140f2fe3-3b71-4459-b7b6-6ae13d350899",
     "regions": {
      "1a39a72b-ce0e-4369-957c-7e6d4d807e6f": {
       "attrs": {
        "height": 0.8,
        "width": 0.8,
        "x": 0.1,
        "y": 0.1
       },
       "content": {
        "cell": "7fd9e75d-7abf-4dca-b173-23405ebdfbf6",
        "part": "whole"
       },
       "id": "1a39a72b-ce0e-4369-957c-7e6d4d807e6f"
      }
     }
    },
    "30262120-abbd-4411-bd89-1b5a439d5e3f": {
     "id": "30262120-abbd-4411-bd89-1b5a439d5e3f",
     "prev": "d41619a3-547d-4c04-be26-a5c33b88d40b",
     "regions": {
      "f4b170ee-2f1b-4b02-8766-a2fc64512189": {
       "attrs": {
        "height": 0.8,
        "width": 0.8,
        "x": 0.1,
        "y": 0.1
       },
       "content": {
        "cell": "46697539-829d-406f-8722-7b4f7ec3beee",
        "part": "whole"
       },
       "id": "f4b170ee-2f1b-4b02-8766-a2fc64512189"
      }
     }
    },
    "331f88b5-9322-49f1-adc5-75ac27be66dd": {
     "id": "331f88b5-9322-49f1-adc5-75ac27be66dd",
     "prev": "0cef4fe0-fb8d-4d04-8499-a0aeb8e39c83",
     "regions": {
      "d01c1b37-6ee0-4b05-8f98-0fdb1810f1e2": {
       "attrs": {
        "height": 0.8,
        "width": 0.8,
        "x": 0.1,
        "y": 0.1
       },
       "content": {
        "cell": "8e615a03-a616-4ce6-aaed-149bb7dc6c41",
        "part": "whole"
       },
       "id": "d01c1b37-6ee0-4b05-8f98-0fdb1810f1e2"
      }
     }
    },
    "34a7e350-fa50-4409-b82e-754894829e6b": {
     "id": "34a7e350-fa50-4409-b82e-754894829e6b",
     "prev": "2f493bea-47ab-4331-bb67-b54b8e3dc9d3",
     "regions": {
      "e155d08e-29ff-43e8-9582-d39d249f8f25": {
       "attrs": {
        "height": 0.8,
        "width": 0.8,
        "x": 0.1,
        "y": 0.1
       },
       "content": {
        "cell": "688b7bd8-bb00-442d-a195-dd1310424d82",
        "part": "whole"
       },
       "id": "e155d08e-29ff-43e8-9582-d39d249f8f25"
      }
     }
    },
    "363f8c01-8fa5-4d3a-be48-fbe5f510f37f": {
     "id": "363f8c01-8fa5-4d3a-be48-fbe5f510f37f",
     "prev": "bcf6777e-3eda-47d6-b99d-addd1ee0971d",
     "regions": {
      "9bd9bb83-09cf-476f-bf5f-1a626ef786c7": {
       "attrs": {
        "height": 0.8,
        "width": 0.8,
        "x": 0.1,
        "y": 0.1
       },
       "content": {
        "cell": "1f6a12bd-9325-457d-83d0-9e374033e64f",
        "part": "whole"
       },
       "id": "9bd9bb83-09cf-476f-bf5f-1a626ef786c7"
      }
     }
    },
    "39047648-1076-4f6f-97a9-18850caefd42": {
     "id": "39047648-1076-4f6f-97a9-18850caefd42",
     "prev": "ceb43268-457f-4903-99d1-30e57078a37e",
     "regions": {
      "505fa6dc-a635-4d40-b72f-dcacbd3abbd6": {
       "attrs": {
        "height": 0.8,
        "width": 0.8,
        "x": 0.1,
        "y": 0.1
       },
       "content": {
        "cell": "e537aed2-414b-4e59-be59-5cee147398b5",
        "part": "whole"
       },
       "id": "505fa6dc-a635-4d40-b72f-dcacbd3abbd6"
      }
     }
    },
    "3cda56c3-eb5e-48b8-9212-92a62a2a7826": {
     "id": "3cda56c3-eb5e-48b8-9212-92a62a2a7826",
     "prev": "201e343b-d43c-49a4-b269-144375cc209b",
     "regions": {
      "bd3c7db9-0274-4f8a-8f10-379915d3f716": {
       "attrs": {
        "height": 0.8,
        "width": 0.8,
        "x": 0.1,
        "y": 0.1
       },
       "content": {
        "cell": "c3593bde-7eee-4a9d-8565-7d9774947404",
        "part": "whole"
       },
       "id": "bd3c7db9-0274-4f8a-8f10-379915d3f716"
      }
     }
    },
    "46a01693-1013-42d2-8d91-b3712ff3c87a": {
     "id": "46a01693-1013-42d2-8d91-b3712ff3c87a",
     "prev": "05f2d009-1afe-4edb-8e44-3886ff90f662",
     "regions": {
      "175e092d-bf70-405b-863f-015ab6587671": {
       "attrs": {
        "height": 0.8,
        "width": 0.8,
        "x": 0.1,
        "y": 0.1
       },
       "content": {
        "cell": "fd3d5300-60a1-4873-a52d-a9d5b89b3463",
        "part": "whole"
       },
       "id": "175e092d-bf70-405b-863f-015ab6587671"
      }
     }
    },
    "50e992a5-4a41-4ae5-a900-ef487cd4ae35": {
     "id": "50e992a5-4a41-4ae5-a900-ef487cd4ae35",
     "prev": "574d6678-3a5c-4308-9721-08a400ed1c5c",
     "regions": {
      "ed346ef0-2c3c-4f49-8a7f-2d285a89d18f": {
       "attrs": {
        "height": 0.8,
        "width": 0.8,
        "x": 0.1,
        "y": 0.1
       },
       "content": {
        "cell": "61921e49-660e-4d97-a4c8-feec4804e2ce",
        "part": "whole"
       },
       "id": "ed346ef0-2c3c-4f49-8a7f-2d285a89d18f"
      }
     }
    },
    "51573f2c-47b4-4e58-8d26-c5a4bd5bad73": {
     "id": "51573f2c-47b4-4e58-8d26-c5a4bd5bad73",
     "prev": "5eeee22c-1a7f-4886-9d4e-d2dbf6236f7b",
     "regions": {
      "13c66008-6e50-4845-96bc-ff9377c4c983": {
       "attrs": {
        "height": 0.8,
        "width": 0.8,
        "x": 0.1,
        "y": 0.1
       },
       "content": {
        "cell": "4d17de12-2451-4b0b-ab3b-a73bf7f6e9dc",
        "part": "whole"
       },
       "id": "13c66008-6e50-4845-96bc-ff9377c4c983"
      }
     }
    },
    "53b3e9a4-62db-4c7a-8cfa-fc9f79aee34c": {
     "id": "53b3e9a4-62db-4c7a-8cfa-fc9f79aee34c",
     "prev": "363f8c01-8fa5-4d3a-be48-fbe5f510f37f",
     "regions": {
      "c4999ffb-39fa-4078-b348-70fe2e877a91": {
       "attrs": {
        "height": 0.8,
        "width": 0.8,
        "x": 0.1,
        "y": 0.1
       },
       "content": {
        "cell": "a0086b4c-7e4a-4bc7-b720-7ef6bf2508ad",
        "part": "whole"
       },
       "id": "c4999ffb-39fa-4078-b348-70fe2e877a91"
      }
     }
    },
    "5475c970-b6a6-472c-8c50-5a792b6d7239": {
     "id": "5475c970-b6a6-472c-8c50-5a792b6d7239",
     "prev": "39047648-1076-4f6f-97a9-18850caefd42",
     "regions": {
      "2118fa40-e217-4d08-81d6-6170d4352e71": {
       "attrs": {
        "height": 0.8,
        "width": 0.8,
        "x": 0.1,
        "y": 0.1
       },
       "content": {
        "cell": "22d6a20f-fa82-4df0-8aac-29c150397a1f",
        "part": "whole"
       },
       "id": "2118fa40-e217-4d08-81d6-6170d4352e71"
      }
     }
    },
    "54fdedeb-5ba3-4a3b-9434-5848640aec04": {
     "id": "54fdedeb-5ba3-4a3b-9434-5848640aec04",
     "prev": "b6bd6bfd-15ba-42b0-8c9f-0c7da3f2c412",
     "regions": {
      "85dd6a4b-89d5-4d2a-9ec2-b921fb785e59": {
       "attrs": {
        "height": 0.8,
        "width": 0.8,
        "x": 0.1,
        "y": 0.1
       },
       "content": {
        "cell": "fe638683-0efb-49b6-93d2-4e8f22f15e6a",
        "part": "whole"
       },
       "id": "85dd6a4b-89d5-4d2a-9ec2-b921fb785e59"
      }
     }
    },
    "565b4230-1376-4e7c-a13e-b4995b8a0bba": {
     "id": "565b4230-1376-4e7c-a13e-b4995b8a0bba",
     "prev": "34a7e350-fa50-4409-b82e-754894829e6b",
     "regions": {
      "ebc439f8-9559-4dee-8a5d-ae06b3d11bf2": {
       "attrs": {
        "height": 0.8,
        "width": 0.8,
        "x": 0.1,
        "y": 0.1
       },
       "content": {
        "cell": "ac3b8bc5-6733-46cf-9451-10b7c9ef8d88",
        "part": "whole"
       },
       "id": "ebc439f8-9559-4dee-8a5d-ae06b3d11bf2"
      }
     }
    },
    "574d6678-3a5c-4308-9721-08a400ed1c5c": {
     "id": "574d6678-3a5c-4308-9721-08a400ed1c5c",
     "prev": "46a01693-1013-42d2-8d91-b3712ff3c87a",
     "regions": {
      "bef7e15a-4149-459d-a43e-b10ac158063c": {
       "attrs": {
        "height": 0.8,
        "width": 0.8,
        "x": 0.1,
        "y": 0.1
       },
       "content": {
        "cell": "f2b0a490-a67d-47fc-872f-1e4696886ecb",
        "part": "whole"
       },
       "id": "bef7e15a-4149-459d-a43e-b10ac158063c"
      }
     }
    },
    "576b393a-49c9-418c-88c8-d809cf395f9b": {
     "id": "576b393a-49c9-418c-88c8-d809cf395f9b",
     "prev": "f352183b-c020-4e8d-b0c5-22bee23dc2fe",
     "regions": {
      "34336a75-959c-449a-ac26-326f6f712351": {
       "attrs": {
        "height": 0.8,
        "width": 0.8,
        "x": 0.1,
        "y": 0.1
       },
       "content": {
        "cell": "eaf0b191-c85a-48b9-9bcb-b38ca076c9b4",
        "part": "whole"
       },
       "id": "34336a75-959c-449a-ac26-326f6f712351"
      }
     }
    },
    "57f789db-05dd-4bf0-8526-3c0ad9fe84ef": {
     "id": "57f789db-05dd-4bf0-8526-3c0ad9fe84ef",
     "prev": "a3a6270c-ba38-4a61-9885-cdcefc707993",
     "regions": {
      "10fbe879-f4ba-42f8-a10f-c2d794f23a9a": {
       "attrs": {
        "height": 0.8,
        "width": 0.8,
        "x": 0.1,
        "y": 0.1
       },
       "content": {
        "cell": "c158c2fc-56b7-40a7-a765-d7a3b4692839",
        "part": "whole"
       },
       "id": "10fbe879-f4ba-42f8-a10f-c2d794f23a9a"
      }
     }
    },
    "5eea5861-97ec-4b43-9f13-f54553e5f4f8": {
     "id": "5eea5861-97ec-4b43-9f13-f54553e5f4f8",
     "prev": "f7603915-d5b5-4c40-b10a-08bb21bc64bc",
     "regions": {
      "60f7cfd2-412d-45ca-b9f3-288ec1d241d6": {
       "attrs": {
        "height": 0.8,
        "width": 0.8,
        "x": 0.1,
        "y": 0.1
       },
       "content": {
        "cell": "b43ca7bd-75e7-4d17-9f77-80ce05375dad",
        "part": "whole"
       },
       "id": "60f7cfd2-412d-45ca-b9f3-288ec1d241d6"
      }
     }
    },
    "5eeee22c-1a7f-4886-9d4e-d2dbf6236f7b": {
     "id": "5eeee22c-1a7f-4886-9d4e-d2dbf6236f7b",
     "prev": "1776d003-6d9a-4f23-9d96-699132adcd76",
     "regions": {
      "b8223200-f30d-44c0-b41e-0a0db1825253": {
       "attrs": {
        "height": 0.8,
        "width": 0.8,
        "x": 0.1,
        "y": 0.1
       },
       "content": {
        "cell": "a726551f-3724-4de9-87d5-0c0418852da4",
        "part": "whole"
       },
       "id": "b8223200-f30d-44c0-b41e-0a0db1825253"
      }
     }
    },
    "62668528-4383-40d4-8346-55098de21deb": {
     "id": "62668528-4383-40d4-8346-55098de21deb",
     "prev": "c1a57d7c-99c7-4e52-812c-cf2c74664e55",
     "regions": {
      "cd307f23-6a10-474d-a0b2-839f698fa5c6": {
       "attrs": {
        "height": 0.8,
        "width": 0.8,
        "x": 0.1,
        "y": 0.1
       },
       "content": {
        "cell": "ec8066e8-9812-4956-b76a-8a4d0086385c",
        "part": "whole"
       },
       "id": "cd307f23-6a10-474d-a0b2-839f698fa5c6"
      }
     }
    },
    "65d70995-6916-4f25-a4bd-b09969de74ce": {
     "id": "65d70995-6916-4f25-a4bd-b09969de74ce",
     "prev": "3cda56c3-eb5e-48b8-9212-92a62a2a7826",
     "regions": {
      "2637e2e8-d300-488e-8580-f43e05610a39": {
       "attrs": {
        "height": 0.8,
        "width": 0.8,
        "x": 0.1,
        "y": 0.1
       },
       "content": {
        "cell": "21678e5f-ad6c-46d1-8a71-f64bd9483c42",
        "part": "whole"
       },
       "id": "2637e2e8-d300-488e-8580-f43e05610a39"
      }
     }
    },
    "70e3ee2e-bfe6-4f43-af9c-6346661e54c5": {
     "id": "70e3ee2e-bfe6-4f43-af9c-6346661e54c5",
     "prev": "8aec0b7f-1025-41b7-bc0d-aa8c4448ca70",
     "regions": {
      "f9c404d5-84d6-41b9-baa3-f66373330ff2": {
       "attrs": {
        "height": 0.8,
        "width": 0.8,
        "x": 0.1,
        "y": 0.1
       },
       "content": {
        "cell": "bc5ecdb1-c51c-457f-be3f-eee94247f13b",
        "part": "whole"
       },
       "id": "f9c404d5-84d6-41b9-baa3-f66373330ff2"
      }
     }
    },
    "8a4c7762-739d-4b1e-9e82-c1ab40edf5b5": {
     "id": "8a4c7762-739d-4b1e-9e82-c1ab40edf5b5",
     "prev": "565b4230-1376-4e7c-a13e-b4995b8a0bba",
     "regions": {
      "c91c6488-bd1d-4243-bd8b-a5c7b3df186c": {
       "attrs": {
        "height": 0.8,
        "width": 0.8,
        "x": 0.1,
        "y": 0.1
       },
       "content": {
        "cell": "e45a357e-ab67-4d85-80e9-d433714f9798",
        "part": "whole"
       },
       "id": "c91c6488-bd1d-4243-bd8b-a5c7b3df186c"
      }
     }
    },
    "8aec0b7f-1025-41b7-bc0d-aa8c4448ca70": {
     "id": "8aec0b7f-1025-41b7-bc0d-aa8c4448ca70",
     "prev": "30262120-abbd-4411-bd89-1b5a439d5e3f",
     "regions": {
      "8b5fc013-d5ba-4eb4-97d7-8332986ca2d9": {
       "attrs": {
        "height": 0.8,
        "width": 0.8,
        "x": 0.1,
        "y": 0.1
       },
       "content": {
        "cell": "fb58ed5d-85bb-4ab3-9b8e-2d8b79d2df55",
        "part": "whole"
       },
       "id": "8b5fc013-d5ba-4eb4-97d7-8332986ca2d9"
      }
     }
    },
    "91501d8f-6e03-4eda-bc8e-b30ba3dfc5f0": {
     "id": "91501d8f-6e03-4eda-bc8e-b30ba3dfc5f0",
     "prev": "51573f2c-47b4-4e58-8d26-c5a4bd5bad73",
     "regions": {
      "09a4f864-d729-4241-b38e-f177c8dd729e": {
       "attrs": {
        "height": 0.8,
        "width": 0.8,
        "x": 0.1,
        "y": 0.1
       },
       "content": {
        "cell": "c96b2d58-4729-4243-8799-c21dc615fa58",
        "part": "whole"
       },
       "id": "09a4f864-d729-4241-b38e-f177c8dd729e"
      }
     }
    },
    "98743de2-1c1e-48ad-af4c-1f5af339092a": {
     "id": "98743de2-1c1e-48ad-af4c-1f5af339092a",
     "prev": "65d70995-6916-4f25-a4bd-b09969de74ce",
     "regions": {
      "7bf9c7ba-0f21-4335-8e2f-c1167cb2713e": {
       "attrs": {
        "height": 0.8,
        "width": 0.8,
        "x": 0.1,
        "y": 0.1
       },
       "content": {
        "cell": "4ddff9a8-0a31-4889-bedb-b64d10eddcc1",
        "part": "whole"
       },
       "id": "7bf9c7ba-0f21-4335-8e2f-c1167cb2713e"
      }
     }
    },
    "9b722714-7a0c-41fe-a2ea-7a1065f9fcfb": {
     "id": "9b722714-7a0c-41fe-a2ea-7a1065f9fcfb",
     "prev": null,
     "regions": {
      "c2409342-142e-4490-99ab-2bd221db4aba": {
       "attrs": {
        "height": 0.8,
        "width": 0.8,
        "x": 0.1,
        "y": 0.1
       },
       "content": {
        "cell": "31b17f54-6bfd-48da-ade1-d08773cc47f1",
        "part": "whole"
       },
       "id": "c2409342-142e-4490-99ab-2bd221db4aba"
      }
     }
    },
    "a3a6270c-ba38-4a61-9885-cdcefc707993": {
     "id": "a3a6270c-ba38-4a61-9885-cdcefc707993",
     "prev": "a7232942-629c-40bc-a9f6-2843f15aa652",
     "regions": {
      "8c3ed09e-4098-4a54-8d79-f0f3145629b0": {
       "attrs": {
        "height": 0.8,
        "width": 0.8,
        "x": 0.1,
        "y": 0.1
       },
       "content": {
        "cell": "f28084b0-cc2e-4231-842f-5765d92d44f0",
        "part": "whole"
       },
       "id": "8c3ed09e-4098-4a54-8d79-f0f3145629b0"
      }
     }
    },
    "a7232942-629c-40bc-a9f6-2843f15aa652": {
     "id": "a7232942-629c-40bc-a9f6-2843f15aa652",
     "prev": "f4146329-5a8f-4afa-b173-bf72e045d2e2",
     "regions": {
      "cbd01583-9fdc-45aa-86fd-66e5acdc068a": {
       "attrs": {
        "height": 0.8,
        "width": 0.8,
        "x": 0.1,
        "y": 0.1
       },
       "content": {
        "cell": "6244226e-a91b-4767-83da-d41e882399a4",
        "part": "whole"
       },
       "id": "cbd01583-9fdc-45aa-86fd-66e5acdc068a"
      }
     }
    },
    "a8b9740f-17bf-4874-854a-81138b906f1e": {
     "id": "a8b9740f-17bf-4874-854a-81138b906f1e",
     "prev": "ccb90a10-a80d-478d-b925-2bc0c979183e",
     "regions": {
      "9df434d3-a4fe-4d81-8b5f-2711cf8c285e": {
       "attrs": {
        "height": 0.8,
        "width": 0.8,
        "x": 0.1,
        "y": 0.1
       },
       "content": {
        "cell": "bbe5cc20-ad4f-482c-8f94-09de87752d30",
        "part": "whole"
       },
       "id": "9df434d3-a4fe-4d81-8b5f-2711cf8c285e"
      }
     }
    },
    "a8f84401-1564-46ed-9f98-3b5c5587fc2b": {
     "id": "a8f84401-1564-46ed-9f98-3b5c5587fc2b",
     "prev": "70e3ee2e-bfe6-4f43-af9c-6346661e54c5",
     "regions": {
      "0f60d3c1-372d-40d6-b59e-ad867e1c63f6": {
       "attrs": {
        "height": 0.8,
        "width": 0.8,
        "x": 0.1,
        "y": 0.1
       },
       "content": {
        "cell": "8a9b81d1-058f-4a37-acbe-b825045866b4",
        "part": "whole"
       },
       "id": "0f60d3c1-372d-40d6-b59e-ad867e1c63f6"
      }
     }
    },
    "b054cb8c-2fae-45e7-a1ea-5ddf5fafd04b": {
     "id": "b054cb8c-2fae-45e7-a1ea-5ddf5fafd04b",
     "prev": "98743de2-1c1e-48ad-af4c-1f5af339092a",
     "regions": {
      "e21ecc9f-a912-45da-96a2-b4d1f970628e": {
       "attrs": {
        "height": 0.8,
        "width": 0.8,
        "x": 0.1,
        "y": 0.1
       },
       "content": {
        "cell": "177ee67d-3e38-4009-b65e-4d08f79c862b",
        "part": "whole"
       },
       "id": "e21ecc9f-a912-45da-96a2-b4d1f970628e"
      }
     }
    },
    "b6bd6bfd-15ba-42b0-8c9f-0c7da3f2c412": {
     "id": "b6bd6bfd-15ba-42b0-8c9f-0c7da3f2c412",
     "prev": "da843dce-021d-471b-a542-f4b8d2591a62",
     "regions": {
      "6550d1d6-e978-43e5-9e79-6f7d4a718cd4": {
       "attrs": {
        "height": 0.8,
        "width": 0.8,
        "x": 0.1,
        "y": 0.1
       },
       "content": {
        "cell": "6975bd59-2a7c-466c-b248-7dbff82dea79",
        "part": "whole"
       },
       "id": "6550d1d6-e978-43e5-9e79-6f7d4a718cd4"
      }
     }
    },
    "ba74b38b-6de6-4f16-b7b1-bb78365fee8a": {
     "id": "ba74b38b-6de6-4f16-b7b1-bb78365fee8a",
     "prev": "cf0820e2-9708-4c69-96e1-cfaab18170b6",
     "regions": {
      "a109cf38-42d4-49f1-b5c3-e5d95e13a5f3": {
       "attrs": {
        "height": 0.8,
        "width": 0.8,
        "x": 0.1,
        "y": 0.1
       },
       "content": {
        "cell": "5fef2737-5cde-43e2-8c05-04320722da93",
        "part": "whole"
       },
       "id": "a109cf38-42d4-49f1-b5c3-e5d95e13a5f3"
      }
     }
    },
    "bbc708aa-4a8b-4aae-bd36-7dbe87a4172d": {
     "id": "bbc708aa-4a8b-4aae-bd36-7dbe87a4172d",
     "prev": "0e6eef49-e6e3-4a88-81ef-9ca6538de3c7",
     "regions": {
      "306c285e-6439-4773-be85-1d6b90b44dcb": {
       "attrs": {
        "height": 0.8,
        "width": 0.8,
        "x": 0.1,
        "y": 0.1
       },
       "content": {
        "cell": "96008087-cb6e-4ba1-b9c6-b4480835ef0f",
        "part": "whole"
       },
       "id": "306c285e-6439-4773-be85-1d6b90b44dcb"
      }
     }
    },
    "bcf6777e-3eda-47d6-b99d-addd1ee0971d": {
     "id": "bcf6777e-3eda-47d6-b99d-addd1ee0971d",
     "prev": "576b393a-49c9-418c-88c8-d809cf395f9b",
     "regions": {
      "fd7ec647-ff66-4fc9-b026-508f4f73fd73": {
       "attrs": {
        "height": 0.8,
        "width": 0.8,
        "x": 0.1,
        "y": 0.1
       },
       "content": {
        "cell": "bcd1daea-0849-4cd4-9349-a7f52641eb95",
        "part": "whole"
       },
       "id": "fd7ec647-ff66-4fc9-b026-508f4f73fd73"
      }
     }
    },
    "c1a57d7c-99c7-4e52-812c-cf2c74664e55": {
     "id": "c1a57d7c-99c7-4e52-812c-cf2c74664e55",
     "prev": "8a4c7762-739d-4b1e-9e82-c1ab40edf5b5",
     "regions": {
      "1981b742-5951-4860-9e99-bbd9c5ba71a8": {
       "attrs": {
        "height": 0.8,
        "width": 0.8,
        "x": 0.1,
        "y": 0.1
       },
       "content": {
        "cell": "9c6d2ec8-2fd6-43ac-89e7-293228019bb2",
        "part": "whole"
       },
       "id": "1981b742-5951-4860-9e99-bbd9c5ba71a8"
      }
     }
    },
    "c27308f0-bd6b-4b36-8ff1-6ce863894538": {
     "id": "c27308f0-bd6b-4b36-8ff1-6ce863894538",
     "prev": "cb39cf50-e059-426b-b314-52968b249608",
     "regions": {
      "d9d1c211-e2e4-4242-a9ac-6186c72f7fb9": {
       "attrs": {
        "height": 0.8,
        "width": 0.8,
        "x": 0.1,
        "y": 0.1
       },
       "content": {
        "cell": "a9d68eeb-a68b-487f-8fb9-088168cddbda",
        "part": "whole"
       },
       "id": "d9d1c211-e2e4-4242-a9ac-6186c72f7fb9"
      }
     }
    },
    "cb39cf50-e059-426b-b314-52968b249608": {
     "id": "cb39cf50-e059-426b-b314-52968b249608",
     "prev": "a8b9740f-17bf-4874-854a-81138b906f1e",
     "regions": {
      "7d1736b5-d6db-49ea-bb88-d6240a63bf60": {
       "attrs": {
        "height": 0.8,
        "width": 0.8,
        "x": 0.1,
        "y": 0.1
       },
       "content": {
        "cell": "dacd12f0-444b-4759-af58-27d4ba1c4fe5",
        "part": "whole"
       },
       "id": "7d1736b5-d6db-49ea-bb88-d6240a63bf60"
      }
     }
    },
    "cb89c63b-a2fd-4e72-b76c-7fc44dd7b6be": {
     "id": "cb89c63b-a2fd-4e72-b76c-7fc44dd7b6be",
     "prev": "bbc708aa-4a8b-4aae-bd36-7dbe87a4172d",
     "regions": {
      "d012c252-7d7b-4633-985d-873edc19d5bc": {
       "attrs": {
        "height": 0.8,
        "width": 0.8,
        "x": 0.1,
        "y": 0.1
       },
       "content": {
        "cell": "2a72aece-5261-4bad-883b-b21455f957cc",
        "part": "whole"
       },
       "id": "d012c252-7d7b-4633-985d-873edc19d5bc"
      }
     }
    },
    "ccb90a10-a80d-478d-b925-2bc0c979183e": {
     "id": "ccb90a10-a80d-478d-b925-2bc0c979183e",
     "prev": "ba74b38b-6de6-4f16-b7b1-bb78365fee8a",
     "regions": {
      "231f19ab-00e3-47fa-9cd3-cfc74bca54b3": {
       "attrs": {
        "height": 0.8,
        "width": 0.8,
        "x": 0.1,
        "y": 0.1
       },
       "content": {
        "cell": "31b80b11-4918-48ac-a513-974a85830a0a",
        "part": "whole"
       },
       "id": "231f19ab-00e3-47fa-9cd3-cfc74bca54b3"
      }
     }
    },
    "ceb43268-457f-4903-99d1-30e57078a37e": {
     "id": "ceb43268-457f-4903-99d1-30e57078a37e",
     "prev": "331f88b5-9322-49f1-adc5-75ac27be66dd",
     "regions": {
      "f1f8982d-80e7-4081-b787-451ad5a723e7": {
       "attrs": {
        "height": 0.8,
        "width": 0.8,
        "x": 0.1,
        "y": 0.1
       },
       "content": {
        "cell": "1301be86-24d2-45a3-aced-d0b4948e765b",
        "part": "whole"
       },
       "id": "f1f8982d-80e7-4081-b787-451ad5a723e7"
      }
     }
    },
    "cf0820e2-9708-4c69-96e1-cfaab18170b6": {
     "id": "cf0820e2-9708-4c69-96e1-cfaab18170b6",
     "prev": "50e992a5-4a41-4ae5-a900-ef487cd4ae35",
     "regions": {
      "b052b2ed-acc4-491e-a9c1-4c418029bacf": {
       "attrs": {
        "height": 0.8,
        "width": 0.8,
        "x": 0.1,
        "y": 0.1
       },
       "content": {
        "cell": "902f0953-1cc3-465a-a93b-aa08daf2b18b",
        "part": "whole"
       },
       "id": "b052b2ed-acc4-491e-a9c1-4c418029bacf"
      }
     }
    },
    "d41619a3-547d-4c04-be26-a5c33b88d40b": {
     "id": "d41619a3-547d-4c04-be26-a5c33b88d40b",
     "prev": "1e29821d-1c4f-4da7-bbe5-c979e7357e74",
     "regions": {
      "83fa0715-62ef-41ce-a8be-7e7e9f45a4a1": {
       "attrs": {
        "height": 0.8,
        "width": 0.8,
        "x": 0.1,
        "y": 0.1
       },
       "content": {
        "cell": "44f6c13e-aae6-4bcf-97f5-5527bacc0512",
        "part": "whole"
       },
       "id": "83fa0715-62ef-41ce-a8be-7e7e9f45a4a1"
      }
     }
    },
    "da843dce-021d-471b-a542-f4b8d2591a62": {
     "id": "da843dce-021d-471b-a542-f4b8d2591a62",
     "prev": "cb89c63b-a2fd-4e72-b76c-7fc44dd7b6be",
     "regions": {
      "588d63ad-348c-4393-bff0-7983fbc6fb98": {
       "attrs": {
        "height": 0.8,
        "width": 0.8,
        "x": 0.1,
        "y": 0.1
       },
       "content": {
        "cell": "98a57c6a-25fc-4597-9098-5521b9153f5b",
        "part": "whole"
       },
       "id": "588d63ad-348c-4393-bff0-7983fbc6fb98"
      }
     }
    },
    "f352183b-c020-4e8d-b0c5-22bee23dc2fe": {
     "id": "f352183b-c020-4e8d-b0c5-22bee23dc2fe",
     "prev": "57f789db-05dd-4bf0-8526-3c0ad9fe84ef",
     "regions": {
      "e60b3552-f330-4638-8dd6-2641f172504f": {
       "attrs": {
        "height": 0.8,
        "width": 0.8,
        "x": 0.1,
        "y": 0.1
       },
       "content": {
        "cell": "be794056-435f-49e2-b69b-2ca5409710bf",
        "part": "whole"
       },
       "id": "e60b3552-f330-4638-8dd6-2641f172504f"
      }
     }
    },
    "f4146329-5a8f-4afa-b173-bf72e045d2e2": {
     "id": "f4146329-5a8f-4afa-b173-bf72e045d2e2",
     "prev": "5475c970-b6a6-472c-8c50-5a792b6d7239",
     "regions": {
      "71d82122-be41-4ecf-b333-56d798905c13": {
       "attrs": {
        "height": 0.8,
        "width": 0.8,
        "x": 0.1,
        "y": 0.1
       },
       "content": {
        "cell": "1940dcd6-9b8b-4dea-af39-ca75e72062aa",
        "part": "whole"
       },
       "id": "71d82122-be41-4ecf-b333-56d798905c13"
      }
     }
    },
    "f71b51d6-502c-4fed-9f1c-1ca9c7856bab": {
     "id": "f71b51d6-502c-4fed-9f1c-1ca9c7856bab",
     "prev": "9b722714-7a0c-41fe-a2ea-7a1065f9fcfb",
     "regions": {
      "1db50964-9f01-4c97-9d5b-778c2bcdb4bf": {
       "attrs": {
        "height": 0.8,
        "width": 0.8,
        "x": 0.1,
        "y": 0.1
       },
       "content": {
        "cell": "21d8d7fd-501d-4eec-abd4-a827100e5406",
        "part": "whole"
       },
       "id": "1db50964-9f01-4c97-9d5b-778c2bcdb4bf"
      }
     }
    },
    "f7603915-d5b5-4c40-b10a-08bb21bc64bc": {
     "id": "f7603915-d5b5-4c40-b10a-08bb21bc64bc",
     "prev": "54fdedeb-5ba3-4a3b-9434-5848640aec04",
     "regions": {
      "1c520645-43cc-4a54-a8b7-869917f8d407": {
       "attrs": {
        "height": 0.8,
        "width": 0.8,
        "x": 0.1,
        "y": 0.1
       },
       "content": {
        "cell": "65904084-4721-4b58-8ea5-711b7b6388fa",
        "part": "whole"
       },
       "id": "1c520645-43cc-4a54-a8b7-869917f8d407"
      }
     }
    }
   },
   "themes": {}
  }
 },
 "nbformat": 4,
 "nbformat_minor": 1
}
