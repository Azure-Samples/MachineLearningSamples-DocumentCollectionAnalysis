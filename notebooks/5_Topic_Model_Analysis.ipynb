{
 "cells": [
  {
   "cell_type": "markdown",
   "metadata": {},
   "source": [
    "## Automatic Learning of Key Phrases and Topics in Document Collections\n",
    "\n",
    "## Part 5: Topic Modeling Analysis\n",
    "\n",
    "### Overview\n",
    "\n",
    "This notebook is Part 5 of 5, in a series providing a step-by-step description of how to process and analyze the contents of a large collection of text documents in an unsupervsied manner. Using Python packages and custom code examples, we have implemented the basic framework that combines key phrase learning and latent topic modeling as described in the paper entitled [\"Modeling Multiword Phrases with Constrained Phrases Tree for Improved Topic Modeling of Conversational Speech\"](http://people.csail.mit.edu/hazen/publications/Hazen-SLT-2012.pdf) which was originally presented in the 2012 IEEE Workshop on Spoken Language Technology.\n",
    "\n",
    "Although the paper examines the use of the technology for analyzing human-to-human conversations, the techniques are quite general and can be applied to a wide range natural language data including news stories, legal documents, research publications, social media forum discussion, customer feedback forms, product reviews, and many more.\n",
    "\n",
    "Part 5 of the series shows how to analysis the topical content of a collection of text docuemnts and correlate topical information against other meta-data associated with the document collection. The topic model an topic summarizations were generated in Part 3 of the series.  \n"
   ]
  },
  {
   "cell_type": "markdown",
   "metadata": {},
   "source": [
    "### Import Relevant Python Packages\n",
    "\n",
    "Part 5 primarily relies on the [matplotlib Python library](http://matplotlib.org) for generating graphs."
   ]
  },
  {
   "cell_type": "code",
   "execution_count": 1,
   "metadata": {
    "collapsed": true
   },
   "outputs": [],
   "source": [
    "import numpy as np\n",
    "import pandas \n",
    "import re\n",
    "import math\n",
    "import warnings\n",
    "warnings.filterwarnings(action='ignore', category=UserWarning, module='gensim')\n",
    "from gensim import corpora, models\n",
    "from operator import itemgetter\n",
    "from collections import namedtuple\n",
    "import matplotlib\n",
    "import matplotlib.pyplot as plt\n",
    "from __future__ import print_function\n",
    "%matplotlib inline"
   ]
  },
  {
   "cell_type": "markdown",
   "metadata": {},
   "source": [
    "### Load Text Data"
   ]
  },
  {
   "cell_type": "code",
   "execution_count": 2,
   "metadata": {
    "collapsed": true
   },
   "outputs": [],
   "source": [
    "# Load full TSV file including a column of text\n",
    "docsFrame = pandas.read_csv(\"../Data/CongressionalDataAll_Jun_2017.tsv\", sep='\\t')"
   ]
  },
  {
   "cell_type": "code",
   "execution_count": 3,
   "metadata": {},
   "outputs": [
    {
     "name": "stdout",
     "output_type": "stream",
     "text": [
      "               ID                                               Text  \\\n",
      "90   hconres91-93  Makes it the sense of the Congress that the Jo...   \n",
      "91   hconres92-93  Makes it the sense of the Congress that: (1) t...   \n",
      "92   hconres93-93  Makes it the sense of Congress that it shall b...   \n",
      "93   hconres94-93  Expresses the sense of the Congress that the P...   \n",
      "94   hconres95-93  States the recognition by the Congress of the ...   \n",
      "95   hconres96-93  Expresses the sense of Congress that Operation...   \n",
      "96   hconres97-93  Expresses the sense of Congress that the Presi...   \n",
      "97   hconres98-93  Expresses the sense of Congress that the Holy ...   \n",
      "98   hconres99-93  Makes it the sense of Congress that it shall b...   \n",
      "99  hconres100-93  Expresses the disapproval of Congress of all p...   \n",
      "\n",
      "          Date             SponsorName Type State  District       Party  \\\n",
      "90  1973-01-23       Anderson, John B.  rep    IL      16.0  Republican   \n",
      "91  1973-01-23       Gaydos, Joseph M.  rep    PA      20.0    Democrat   \n",
      "92  1973-01-23       Gaydos, Joseph M.  rep    PA      20.0    Democrat   \n",
      "93  1973-01-23          Pepper, Claude  rep    FL      11.0    Democrat   \n",
      "94  1973-01-24           Biaggi, Mario  rep    NY      24.0    Democrat   \n",
      "95  1973-01-26           Harvey, James  rep    MI       8.0  Republican   \n",
      "96  1973-01-30            Clawson, Del  rep    CA      23.0  Republican   \n",
      "97  1973-01-30      Collier, Harold R.  rep    IL      10.0  Republican   \n",
      "98  1973-01-30      Collier, Harold R.  rep    IL      10.0  Republican   \n",
      "99  1973-01-30  Harrington, Michael J.  rep    MA       6.0    Democrat   \n",
      "\n",
      "                                             Subjects  \n",
      "90  congress,congressional committees,congressiona...  \n",
      "91       economics and public finance,federal budgets  \n",
      "92  economics and public finance,international aff...  \n",
      "93  cuba,international affairs,recognition (intern...  \n",
      "94               disabled,health,mentally handicapped  \n",
      "95         crime and law enforcement,crime prevention  \n",
      "96     international affairs,jews,minorities,u.s.s.r.  \n",
      "97  government operations and politics,hungary,int...  \n",
      "98  economics and public finance,international aff...  \n",
      "99  antipoverty program,government operations and ...  \n"
     ]
    }
   ],
   "source": [
    "print(docsFrame[90:100])"
   ]
  },
  {
   "cell_type": "markdown",
   "metadata": {},
   "source": [
    "### Compute the Quarter Information for Each Document\n",
    "\n",
    "A congressional session lasts 2 years. To summarize Congressional actions taken over the duration of a session, we break each two year session into its 8 annual quarters. We can then summarize actions over the duration of these 8 quarters for each session."
   ]
  },
  {
   "cell_type": "code",
   "execution_count": 4,
   "metadata": {
    "collapsed": true
   },
   "outputs": [],
   "source": [
    "# Break out the session number as a unique column in the documents frame \n",
    "# also create a column for the session quarter where we break dates down \n",
    "# into one of eight annual quarters per session, i.e., four quarters for \n",
    "# each of the two years in the session\n",
    "\n",
    "reType = re.compile(r\"^([a-z]+)[0-9]+$\")\n",
    "\n",
    "quarterArray = [] \n",
    "sessionArray = []\n",
    "typeArray = []\n",
    "for i in range(0,len(docsFrame)):\n",
    "\n",
    "    dateFields = (docsFrame['Date'][i]).split('-')\n",
    "    year = int(dateFields[0])\n",
    "    month = int(dateFields[1])\n",
    "    evenYear = int ((year % 2) == 0) \n",
    "    quarterArray.append(int((month - 1) / 3 ) + (evenYear * 4))\n",
    "\n",
    "    idFields = (docsFrame['ID'][i]).split('-')\n",
    "    \n",
    "    billType = reType.match(idFields[0]).group(1)\n",
    "    typeArray.append(billType)\n",
    "    session = int(idFields[1])\n",
    "    sessionArray.append(session)\n",
    "\n",
    "# Add the meta-data entries into the data frame\n",
    "docsFrame['Quarter'] = quarterArray\n",
    "docsFrame['Session'] = sessionArray\n",
    "docsFrame['Type'] = typeArray\n",
    "\n",
    "# Extract the minimum session number in the data\n",
    "minSessionNum = min(sessionArray)  \n"
   ]
  },
  {
   "cell_type": "code",
   "execution_count": 5,
   "metadata": {},
   "outputs": [
    {
     "name": "stdout",
     "output_type": "stream",
     "text": [
      "Total number of quarters over all sessions in data: 178\n"
     ]
    }
   ],
   "source": [
    "sessionQuarterIndex = []\n",
    "for i in range(len(docsFrame)):\n",
    "    session = docsFrame['Session'][i]\n",
    "    quarter = docsFrame['Quarter'][i]\n",
    "    sessionQuarterIndex.append(((session-minSessionNum)*8)+quarter)\n",
    "    \n",
    "docsFrame['SessionQuarterIndex'] = sessionQuarterIndex\n",
    "maxSessionQuarterIndex = max(sessionQuarterIndex)\n",
    "print(\"Total number of quarters over all sessions in data:\", maxSessionQuarterIndex+1)"
   ]
  },
  {
   "cell_type": "code",
   "execution_count": 6,
   "metadata": {},
   "outputs": [
    {
     "name": "stdout",
     "output_type": "stream",
     "text": [
      "               ID                                               Text  \\\n",
      "90   hconres91-93  Makes it the sense of the Congress that the Jo...   \n",
      "91   hconres92-93  Makes it the sense of the Congress that: (1) t...   \n",
      "92   hconres93-93  Makes it the sense of Congress that it shall b...   \n",
      "93   hconres94-93  Expresses the sense of the Congress that the P...   \n",
      "94   hconres95-93  States the recognition by the Congress of the ...   \n",
      "95   hconres96-93  Expresses the sense of Congress that Operation...   \n",
      "96   hconres97-93  Expresses the sense of Congress that the Presi...   \n",
      "97   hconres98-93  Expresses the sense of Congress that the Holy ...   \n",
      "98   hconres99-93  Makes it the sense of Congress that it shall b...   \n",
      "99  hconres100-93  Expresses the disapproval of Congress of all p...   \n",
      "\n",
      "          Date             SponsorName     Type State  District       Party  \\\n",
      "90  1973-01-23       Anderson, John B.  hconres    IL      16.0  Republican   \n",
      "91  1973-01-23       Gaydos, Joseph M.  hconres    PA      20.0    Democrat   \n",
      "92  1973-01-23       Gaydos, Joseph M.  hconres    PA      20.0    Democrat   \n",
      "93  1973-01-23          Pepper, Claude  hconres    FL      11.0    Democrat   \n",
      "94  1973-01-24           Biaggi, Mario  hconres    NY      24.0    Democrat   \n",
      "95  1973-01-26           Harvey, James  hconres    MI       8.0  Republican   \n",
      "96  1973-01-30            Clawson, Del  hconres    CA      23.0  Republican   \n",
      "97  1973-01-30      Collier, Harold R.  hconres    IL      10.0  Republican   \n",
      "98  1973-01-30      Collier, Harold R.  hconres    IL      10.0  Republican   \n",
      "99  1973-01-30  Harrington, Michael J.  hconres    MA       6.0    Democrat   \n",
      "\n",
      "                                             Subjects  Quarter  Session  \\\n",
      "90  congress,congressional committees,congressiona...        0       93   \n",
      "91       economics and public finance,federal budgets        0       93   \n",
      "92  economics and public finance,international aff...        0       93   \n",
      "93  cuba,international affairs,recognition (intern...        0       93   \n",
      "94               disabled,health,mentally handicapped        0       93   \n",
      "95         crime and law enforcement,crime prevention        0       93   \n",
      "96     international affairs,jews,minorities,u.s.s.r.        0       93   \n",
      "97  government operations and politics,hungary,int...        0       93   \n",
      "98  economics and public finance,international aff...        0       93   \n",
      "99  antipoverty program,government operations and ...        0       93   \n",
      "\n",
      "    SessionQuarterIndex  \n",
      "90                    0  \n",
      "91                    0  \n",
      "92                    0  \n",
      "93                    0  \n",
      "94                    0  \n",
      "95                    0  \n",
      "96                    0  \n",
      "97                    0  \n",
      "98                    0  \n",
      "99                    0  \n"
     ]
    }
   ],
   "source": [
    "print(docsFrame[90:100])"
   ]
  },
  {
   "cell_type": "markdown",
   "metadata": {},
   "source": [
    "### Plot Count of Total Congressional Actions Taken per Session Quarter\n",
    "\n",
    "This plot shows the total number of Congressional actions proposed by congress aggregated over each of the eight annual quarters in a Congressional session over all sessions from 1983 until 2016. Notice that the first quarter of a session after a new Congress starts, there is a large amount of activity. By the third annual quarter of the session, activity has subsided to a typical level. The final annual quarter in the second year of the session encompasses the election season and the two months of \"lame duck\" status for the Congress. During this time Congress typically does not enagage in new legislative activity.\n"
   ]
  },
  {
   "cell_type": "code",
   "execution_count": 7,
   "metadata": {},
   "outputs": [
    {
     "name": "stdout",
     "output_type": "stream",
     "text": [
      "[83832, 50102, 27895, 29292, 27932, 36068, 25235, 9073]\n"
     ]
    },
    {
     "data": {
      "image/png": "[encoded data removed]",
      "text/plain": [
       "<matplotlib.figure.Figure at 0x1f17756ae48>"
      ]
     },
     "metadata": {},
     "output_type": "display_data"
    }
   ],
   "source": [
    "totalDocsPerQuarter = []\n",
    "\n",
    "for i in range(8):\n",
    "    totalDocsPerQuarter.append(len(docsFrame[docsFrame['Quarter'] == i]))\n",
    "print(totalDocsPerQuarter) \n",
    "\n",
    "N = len(totalDocsPerQuarter)\n",
    "xvalues = np.arange(N)\n",
    "xlabels = ['Y1/Q1', 'Y1/Q2', 'Y1/Q3', 'Y1/Q4', 'Y2/Q1', 'Y2/Q2', 'Y2/Q3', 'Y2/Q4']\n",
    "plt.bar(xvalues, totalDocsPerQuarter, width=1.0, edgecolor=\"black\")\n",
    "plt.ylabel('Total Actions per Quarter')\n",
    "plt.xticks(xvalues, xlabels)\n",
    "plt.show()"
   ]
  },
  {
   "cell_type": "code",
   "execution_count": 8,
   "metadata": {},
   "outputs": [
    {
     "data": {
      "text/plain": [
       "[13829, 8281, 5427, 6267, 6419, 7396, 5926, 2572]"
      ]
     },
     "execution_count": 8,
     "metadata": {},
     "output_type": "execute_result"
    }
   ],
   "source": [
    "totalBillsPerQuarter = []\n",
    "totalResolutionsPerQuarter = []\n",
    "isBill = (docsFrame['Type'] == 'hr') | (docsFrame['Type'] == 's')\n",
    "isResolution = (isBill==False)\n",
    "\n",
    "for i in range(8):  \n",
    "    totalBillsPerQuarter.append(len(docsFrame[ (docsFrame['Quarter'] == i) & isBill ])) \n",
    "    totalResolutionsPerQuarter.append(len(docsFrame[ (docsFrame['Quarter'] == i) & isResolution ]))\n",
    "        \n",
    "totalResolutionsPerQuarter \n"
   ]
  },
  {
   "cell_type": "code",
   "execution_count": 9,
   "metadata": {},
   "outputs": [
    {
     "data": {
      "image/png": "[encoded data removed]",
      "text/plain": [
       "<matplotlib.figure.Figure at 0x1f15c348780>"
      ]
     },
     "metadata": {},
     "output_type": "display_data"
    }
   ],
   "source": [
    "N = len(totalDocsPerQuarter)\n",
    "xvalues = np.arange(N)\n",
    "xlabels = ['Y1/Q1', 'Y1/Q2', 'Y1/Q3', 'Y1/Q4', 'Y2/Q1', 'Y2/Q2', 'Y2/Q3', 'Y2/Q4']\n",
    "p1 = plt.bar(xvalues, totalResolutionsPerQuarter, color='g', edgecolor=\"black\", width=1.0)\n",
    "p2 = plt.bar(xvalues, totalBillsPerQuarter, width=1.0, color='b', edgecolor=\"black\", bottom=totalResolutionsPerQuarter)\n",
    "plt.ylabel('Total Actions per Quarter')\n",
    "plt.xticks(xvalues, xlabels)\n",
    "plt.legend((p1[0], p2[0]),('Resolutions', 'Bills'))\n",
    "plt.show()"
   ]
  },
  {
   "cell_type": "code",
   "execution_count": 10,
   "metadata": {},
   "outputs": [
    {
     "data": {
      "text/plain": [
       "(289429, 200)"
      ]
     },
     "execution_count": 10,
     "metadata": {},
     "output_type": "execute_result"
    }
   ],
   "source": [
    "# Load the topic distributions for all documents from file\n",
    "ldaDocTopicProbsFile = \"../Data/CongressionalDocTopicProbs.npy\"\n",
    "docTopicProbs = np.load(ldaDocTopicProbsFile)\n",
    "docTopicProbs.shape"
   ]
  },
  {
   "cell_type": "code",
   "execution_count": 11,
   "metadata": {},
   "outputs": [
    {
     "data": {
      "text/plain": [
       "pandas.core.series.Series"
      ]
     },
     "execution_count": 11,
     "metadata": {},
     "output_type": "execute_result"
    }
   ],
   "source": [
    "type(isBill)"
   ]
  },
  {
   "cell_type": "code",
   "execution_count": 12,
   "metadata": {
    "collapsed": true
   },
   "outputs": [],
   "source": [
    "# Aggregate the topic contributions for each document into topic bins for each quarter\n",
    "numQuarters = maxSessionQuarterIndex + 1;\n",
    "numTopics = docTopicProbs.shape[1]\n",
    "numDocs = len(docsFrame)\n",
    "topicActionTypeRawCounts = np.zeros((numTopics, 2))\n",
    "for docIndex in range(numDocs):\n",
    "    actionType = int(isBill[docIndex])\n",
    "    for topicID in range(numTopics):\n",
    "        topicActionTypeRawCounts[topicID, actionType] += docTopicProbs[docIndex, topicID]"
   ]
  },
  {
   "cell_type": "code",
   "execution_count": 13,
   "metadata": {},
   "outputs": [
    {
     "name": "stdout",
     "output_type": "stream",
     "text": [
      "              ID                                               Text  \\\n",
      "60000  hr7560-95  World War I Pension Act - Requires the Adminis...   \n",
      "60001  hr7561-95  Amends Title II (Old-Age, Survivors, and Disab...   \n",
      "60002  hr7562-95  Electric Utility Act Title I: Improving Effici...   \n",
      "60003  hr7563-95  Permits postage-free mailing of correspondence...   \n",
      "60004  hr7564-95  Public Safety Officers' Group Life Insurance A...   \n",
      "60005  hr7565-95  Public Transportation Tax Incentive Act -- Ame...   \n",
      "60006  hr7566-95  Emergency Highway Repair Act - Authorizes the ...   \n",
      "60007  hr7567-95  Human Resources Development Act - Directs the ...   \n",
      "60008  hr7568-95  Federal Correctional Ombudsman Act - Establish...   \n",
      "60009  hr7569-95  Postal Service Reform Act - Requires all reven...   \n",
      "\n",
      "             Date            SponsorName Type State  District       Party  \\\n",
      "60000  1977-06-02         Brinkley, Jack   hr    GA       3.0    Democrat   \n",
      "60001  1977-06-02       Conte, Silvio O.   hr    MA       1.0  Republican   \n",
      "60002  1977-06-02       Dingell, John D.   hr    MI      16.0    Democrat   \n",
      "60003  1977-06-02        Eilberg, Joshua   hr    PA       4.0    Democrat   \n",
      "60004  1977-06-02        Eilberg, Joshua   hr    PA       4.0    Democrat   \n",
      "60005  1977-06-02  Evans, Thomas B., Jr.   hr    DE       0.0  Republican   \n",
      "60006  1977-06-02         Lloyd, Marilyn   hr    TN       3.0    Democrat   \n",
      "60007  1977-06-02    Lundine, Stanley N.   hr    NY      39.0    Democrat   \n",
      "60008  1977-06-02     Metcalfe, Ralph H.   hr    IL       1.0    Democrat   \n",
      "60009  1977-06-02       Meyner, Helen S.   hr    NJ      13.0    Democrat   \n",
      "\n",
      "                                                Subjects  Quarter  Session  \\\n",
      "60000  armed forces and national security,military pe...        1       95   \n",
      "60001  blind,disability insurance,disabled,old age, s...        1       95   \n",
      "60002  antitrust law,electric power,electric utilitie...        1       95   \n",
      "60003  congress,government operations and politics,me...        1       95   \n",
      "60004  advisory bodies,crime and law enforcement,fire...        1       95   \n",
      "60005  commuting,income tax,mass rapid transit,tax de...        1       95   \n",
      "60006  federal aid highway program,highway constructi...        1       95   \n",
      "60007  advisory bodies,business and commerce,economic...        1       95   \n",
      "60008  correctional institutions,correctional personn...        1       95   \n",
      "60009  authorization,economics and public finance,gov...        1       95   \n",
      "\n",
      "       SessionQuarterIndex  \n",
      "60000                   17  \n",
      "60001                   17  \n",
      "60002                   17  \n",
      "60003                   17  \n",
      "60004                   17  \n",
      "60005                   17  \n",
      "60006                   17  \n",
      "60007                   17  \n",
      "60008                   17  \n",
      "60009                   17  \n",
      "60000    True\n",
      "60001    True\n",
      "60002    True\n",
      "60003    True\n",
      "60004    True\n",
      "60005    True\n",
      "60006    True\n",
      "60007    True\n",
      "60008    True\n",
      "60009    True\n",
      "Name: Type, dtype: bool\n"
     ]
    },
    {
     "data": {
      "text/plain": [
       "233312"
      ]
     },
     "execution_count": 13,
     "metadata": {},
     "output_type": "execute_result"
    }
   ],
   "source": [
    "print(docsFrame[60000:60010])\n",
    "print(isBill[60000:60010])\n",
    "sum(isBill)"
   ]
  },
  {
   "cell_type": "markdown",
   "metadata": {},
   "source": [
    "### Plot Count of Total Congressional Actions Taken per Unique Quarter\n",
    "\n",
    "This plot shows the total number of Congressional actions proposed by congress within each unique quarter over all sessions from 1983 until 2016. \n",
    "\n",
    "\n"
   ]
  },
  {
   "cell_type": "code",
   "execution_count": 14,
   "metadata": {},
   "outputs": [
    {
     "name": "stdout",
     "output_type": "stream",
     "text": [
      "[9013, 3959, 2141, 2416, 2593, 2852, 2029, 1219, 8183, 4023, 2489, 2322, 2489, 2670, 2000, 109, 8350, 3468, 1938, 1628, 2311, 2664, 1509, 445, 4965, 2372, 1451, 1382, 1419, 1487, 1087, 427, 4409, 2011, 1041, 1261, 1426, 1447, 1177, 464, 4036, 2124, 1186, 1092, 1418, 1395, 691, 260, 3356, 2096, 1118, 1207, 1113, 1388, 1036, 288, 3555, 1931, 1042, 1014, 1110, 1279, 995, 352, 2964, 2249, 1224, 953, 1299, 1548, 1033, 517, 3105, 2182, 1159, 1296, 1318, 1512, 1135, 309, 2845, 1735, 1167, 974, 875, 1016, 890, 320, 2, 1, 0, 0, 0, 1, 0, 0, 2077, 1562, 920, 1009, 1050, 1167, 884, 472, 2497, 1870, 1161, 1065, 1155, 1422, 1000, 670, 2338, 1863, 1043, 1276, 819, 1891, 971, 588, 2749, 2142, 1071, 1049, 892, 1276, 949, 539, 2592, 2817, 1499, 1407, 976, 2185, 1315, 277, 3531, 2231, 1419, 2042, 1279, 1679, 1618, 239, 3138, 2424, 1237, 2272, 1228, 1466, 1481, 429, 2440, 2022, 1159, 1290, 1046, 3064, 934, 342, 2375, 2101, 1107, 1121, 1037, 1275, 1227, 393, 3021, 2322, 1323, 1216, 1079, 1384, 1274, 414, 2291, 597]\n"
     ]
    }
   ],
   "source": [
    "totalDocsPerUniqueQuarter = []\n",
    "numQuarters = maxSessionQuarterIndex+1\n",
    "for i in range(0,numQuarters):\n",
    "    totalDocsPerUniqueQuarter.append(len(docsFrame[docsFrame['SessionQuarterIndex']==i]))\n",
    "print(totalDocsPerUniqueQuarter) "
   ]
  },
  {
   "cell_type": "code",
   "execution_count": 15,
   "metadata": {},
   "outputs": [
    {
     "name": "stdout",
     "output_type": "stream",
     "text": [
      "['1983', '', '', '', '1984', '', '', '', '1985', '', '', '', '1986', '', '', '', '1987', '', '', '', '1988', '', '', '', '1989', '', '', '', '1990', '', '', '', '1991', '', '', '', '1992', '', '', '', '1993', '', '', '', '1994', '', '', '', '1995', '', '', '', '1996', '', '', '', '1997', '', '', '', '1998', '', '', '', '1999', '', '', '', '2000', '', '', '', '2001', '', '', '', '2002', '', '', '', '2003', '', '', '', '2004', '', '', '', '2005', '', '', '', '2006', '', '', '', '2007', '', '', '', '2008', '', '', '', '2009', '', '', '', '2010', '', '', '', '2011', '', '', '', '2012', '', '', '', '2013', '', '', '', '2014', '', '', '', '2015', '', '', '', '2016', '', '', '', '2017', '', '', '', '2018', '', '', '', '2019', '', '', '', '2020', '', '', '', '2021', '', '', '', '2022', '', '', '', '2023', '', '', '', '2024', '', '', '', '2025', '', '', '', '2026', '', '', '', '2027', '']\n"
     ]
    }
   ],
   "source": [
    "# Create label set which marks only the first quarter of each year with the year label\n",
    "sessionQuarterLabels = []\n",
    "for i in range(0,numQuarters):\n",
    "    if ( i % 4 ) == 0:\n",
    "        year = int((i/4) + 1983)\n",
    "        sessionQuarterLabels.append(str(year))\n",
    "    else:\n",
    "        sessionQuarterLabels.append(\"\")\n",
    "        \n",
    "print (sessionQuarterLabels)        "
   ]
  },
  {
   "cell_type": "code",
   "execution_count": 16,
   "metadata": {},
   "outputs": [
    {
     "data": {
      "image/png": "[encoded data removed]",
      "text/plain": [
       "<matplotlib.figure.Figure at 0x1f15c858cf8>"
      ]
     },
     "metadata": {},
     "output_type": "display_data"
    }
   ],
   "source": [
    "# Set the default figure size to be 15 in by 5 in\n",
    "from pylab import rcParams\n",
    "rcParams['figure.figsize'] = 15,5\n",
    "\n",
    "# Create a function for plotting a topic over time\n",
    "xlabels = sessionQuarterLabels\n",
    "xvalues = np.arange(len(sessionQuarterLabels))\n",
    "yvalues = totalDocsPerUniqueQuarter\n",
    "    \n",
    "plt.bar(xvalues, yvalues, width=1.0, edgecolor=\"black\")\n",
    "plt.title(\"Total Congressional Actions Per Quarter (1983-2016)\")\n",
    "plt.ylabel('Total Actions per Quarter')\n",
    "plt.xticks(xvalues, xlabels, rotation=90)\n",
    "plt.show()"
   ]
  },
  {
   "cell_type": "markdown",
   "metadata": {},
   "source": [
    "### Plot Topics Over Time\n",
    "\n",
    "Here we show how to aggregate the total amount of activity for any topic within each annual quarter over the entire span of the data from 1983 until 2016."
   ]
  },
  {
   "cell_type": "code",
   "execution_count": 17,
   "metadata": {
    "collapsed": true
   },
   "outputs": [],
   "source": [
    "# Aggregate the topic contributions for each document into topic bins for each quarter\n",
    "numQuarters = maxSessionQuarterIndex + 1;\n",
    "numTopics = docTopicProbs.shape[1]\n",
    "numDocs = len(docsFrame)\n",
    "topicQuarterRawCounts = np.zeros((numTopics, numQuarters))\n",
    "for docIndex in range(0,numDocs):\n",
    "    quarter = docsFrame['SessionQuarterIndex'][docIndex]\n",
    "    for topicID in range(0,numTopics):\n",
    "        topicQuarterRawCounts[topicID, quarter] += docTopicProbs[docIndex, topicID]"
   ]
  },
  {
   "cell_type": "code",
   "execution_count": 18,
   "metadata": {
    "collapsed": true
   },
   "outputs": [],
   "source": [
    "# Get the topic summaries to use as titles for each topic plot\n",
    "ldaTopicSummariesFile = \"../Data/CongressionalDocTopicSummaries.tsv\"\n",
    "topicSummaries = pandas.read_csv(ldaTopicSummariesFile, sep='\\t')"
   ]
  },
  {
   "cell_type": "code",
   "execution_count": 19,
   "metadata": {
    "collapsed": true
   },
   "outputs": [],
   "source": [
    "# Set the default figure size to be 15 in by 5 in\n",
    "from pylab import rcParams\n",
    "rcParams['figure.figsize'] = 15, 5\n",
    "\n",
    "# Create a function for plotting a topic over time\n",
    "def PlotTopic(topicID, topicQuarterRawCounts, ylabel, xlabels, topicSummaries):\n",
    "    xvalues = np.arange(len(xlabels))\n",
    "    yvalues = topicQuarterRawCounts[topicID]\n",
    "    \n",
    "    plt.bar(xvalues, yvalues, width=1.0, edgecolor=\"black\")\n",
    "    plt.title(topicSummaries['TopicSummary'][topicID])\n",
    "    plt.ylabel(ylabel)\n",
    "    plt.xticks(xvalues+0.50, xlabels, rotation=90)\n",
    "    plt.show()"
   ]
  },
  {
   "cell_type": "code",
   "execution_count": 20,
   "metadata": {
    "scrolled": true
   },
   "outputs": [
    {
     "data": {
      "image/png": "[encoded data removed]",
      "text/plain": [
       "<matplotlib.figure.Figure at 0x1f15c9efe80>"
      ]
     },
     "metadata": {},
     "output_type": "display_data"
    }
   ],
   "source": [
    "# Plot topic 101 (which was the top ranked topic identified in Part 4)\n",
    "PlotTopic(101, topicQuarterRawCounts, 'Total Estimated Actions per Quarter', sessionQuarterLabels, topicSummaries)"
   ]
  },
  {
   "cell_type": "code",
   "execution_count": 21,
   "metadata": {},
   "outputs": [
    {
     "data": {
      "image/png": "[encoded data removed]",
      "text/plain": [
       "<matplotlib.figure.Figure at 0x1f15cf6e400>"
      ]
     },
     "metadata": {},
     "output_type": "display_data"
    }
   ],
   "source": [
    "# Show a plot of topic 36 which was identified as the fifth highest ranked topic in Part 4.\n",
    "PlotTopic(79, topicQuarterRawCounts, 'Total Estimated Actions per Quarter', sessionQuarterLabels, topicSummaries)"
   ]
  },
  {
   "cell_type": "code",
   "execution_count": 22,
   "metadata": {},
   "outputs": [
    {
     "data": {
      "image/png": "[encoded data removed]",
      "text/plain": [
       "<matplotlib.figure.Figure at 0x1f15d4cbc18>"
      ]
     },
     "metadata": {},
     "output_type": "display_data"
    }
   ],
   "source": [
    "PlotTopic(37, topicQuarterRawCounts, 'Total Estimated Actions per Quarter', sessionQuarterLabels, topicSummaries)"
   ]
  },
  {
   "cell_type": "markdown",
   "metadata": {},
   "source": [
    "### Normalized Topic Plots\n"
   ]
  },
  {
   "cell_type": "code",
   "execution_count": 23,
   "metadata": {
    "collapsed": true
   },
   "outputs": [],
   "source": [
    "np.seterr(divide='ignore', invalid='ignore')\n",
    "\n",
    "# This array contain the probability that a randomly selected document \n",
    "# came from a specific quarter for the data time span (1973-2017) \n",
    "probQuarter = np.array(totalDocsPerUniqueQuarter, dtype='f') / sum(totalDocsPerUniqueQuarter)\n",
    "\n",
    "# This array contains the prior probability of a topic across the whole corpus\n",
    "probTopic = docTopicProbs.sum(axis=0)[:, np.newaxis]\n",
    "probTopic = probTopic / np.sum(probTopic)\n",
    "\n",
    "# Compute the conditional probability of a topic given a specific quarter  \n",
    "normTopicGivenQuarter = (np.sum(topicQuarterRawCounts, axis=0))[:, np.newaxis]\n",
    "probTopicGivenQuarter = np.transpose(np.transpose(topicQuarterRawCounts) / normTopicGivenQuarter)\n",
    "\n",
    "# Compute the conditional probability of a specific quarter given a topic\n",
    "probQuarterGivenTopic = topicQuarterRawCounts / (np.sum(topicQuarterRawCounts,axis=1)[:, np.newaxis])\n",
    "\n",
    "# Produce a \"heat\" indicator to highlight quarters for which a topic has higher than expected activity\n",
    "topicHeatMap = 10000 * probQuarterGivenTopic * probTopicGivenQuarter * np.log((probQuarterGivenTopic / probQuarter))\n"
   ]
  },
  {
   "cell_type": "code",
   "execution_count": 24,
   "metadata": {},
   "outputs": [
    {
     "data": {
      "image/png": "[encoded data removed]",
      "text/plain": [
       "<matplotlib.figure.Figure at 0x1f15c8efda0>"
      ]
     },
     "metadata": {},
     "output_type": "display_data"
    }
   ],
   "source": [
    "PlotTopic(101, topicHeatMap, 'Anomalous Activity Score', sessionQuarterLabels, topicSummaries)"
   ]
  },
  {
   "cell_type": "code",
   "execution_count": 25,
   "metadata": {},
   "outputs": [
    {
     "data": {
      "image/png": "[encoded data removed]",
      "text/plain": [
       "<matplotlib.figure.Figure at 0x1f15cfb6d30>"
      ]
     },
     "metadata": {},
     "output_type": "display_data"
    }
   ],
   "source": [
    "PlotTopic(79, topicHeatMap, 'Anomalous Activity Score', sessionQuarterLabels, topicSummaries)"
   ]
  },
  {
   "cell_type": "code",
   "execution_count": 26,
   "metadata": {},
   "outputs": [
    {
     "data": {
      "image/png": "[encoded data removed]",
      "text/plain": [
       "<matplotlib.figure.Figure at 0x1f15c973f98>"
      ]
     },
     "metadata": {},
     "output_type": "display_data"
    }
   ],
   "source": [
    "PlotTopic(37, topicHeatMap, 'Anomalous Activity Score', sessionQuarterLabels, topicSummaries)"
   ]
  },
  {
   "cell_type": "code",
   "execution_count": null,
   "metadata": {
    "collapsed": true
   },
   "outputs": [],
   "source": []
  }
 ],
 "metadata": {
  "anaconda-cloud": {},
  "kernelspec": {
   "display_name": "Python 3",
   "language": "python",
   "name": "python3"
  },
  "language_info": {
   "codemirror_mode": {
    "name": "ipython",
    "version": 3
   },
   "file_extension": ".py",
   "mimetype": "text/x-python",
   "name": "python",
   "nbconvert_exporter": "python",
   "pygments_lexer": "ipython3",
   "version": "3.5.2"
  },
  "nbpresent": {
   "slides": {
    "05f2d009-1afe-4edb-8e44-3886ff90f662": {
     "id": "05f2d009-1afe-4edb-8e44-3886ff90f662",
     "prev": "62668528-4383-40d4-8346-55098de21deb",
     "regions": {
      "d017e9eb-469d-4844-a435-8a07fbd34a23": {
       "attrs": {
        "height": 0.8,
        "width": 0.8,
        "x": 0.1,
        "y": 0.1
       },
       "content": {
        "cell": "1931cc98-9c4c-46c4-bc06-ec37c31944f5",
        "part": "whole"
       },
       "id": "d017e9eb-469d-4844-a435-8a07fbd34a23"
      }
     }
    },
    "0cef4fe0-fb8d-4d04-8499-a0aeb8e39c83": {
     "id": "0cef4fe0-fb8d-4d04-8499-a0aeb8e39c83",
     "prev": "b054cb8c-2fae-45e7-a1ea-5ddf5fafd04b",
     "regions": {
      "dd5ebd19-ba29-416a-93fe-a419a7808320": {
       "attrs": {
        "height": 0.8,
        "width": 0.8,
        "x": 0.1,
        "y": 0.1
       },
       "content": {
        "cell": "55d8b0a5-11a9-4cf1-8399-b2d036254dd0",
        "part": "whole"
       },
       "id": "dd5ebd19-ba29-416a-93fe-a419a7808320"
      }
     }
    },
    "0e6eef49-e6e3-4a88-81ef-9ca6538de3c7": {
     "id": "0e6eef49-e6e3-4a88-81ef-9ca6538de3c7",
     "prev": "91501d8f-6e03-4eda-bc8e-b30ba3dfc5f0",
     "regions": {
      "c8a095f5-9b2e-49ce-932e-d9e6827b0ce0": {
       "attrs": {
        "height": 0.8,
        "width": 0.8,
        "x": 0.1,
        "y": 0.1
       },
       "content": {
        "cell": "d3b757c3-d523-4bc0-80af-7be110f7a46e",
        "part": "whole"
       },
       "id": "c8a095f5-9b2e-49ce-932e-d9e6827b0ce0"
      }
     }
    },
    "140f2fe3-3b71-4459-b7b6-6ae13d350899": {
     "id": "140f2fe3-3b71-4459-b7b6-6ae13d350899",
     "prev": "5eea5861-97ec-4b43-9f13-f54553e5f4f8",
     "regions": {
      "add32de8-317f-4069-a350-a458f3c72ccf": {
       "attrs": {
        "height": 0.8,
        "width": 0.8,
        "x": 0.1,
        "y": 0.1
       },
       "content": {
        "cell": "82e2d906-b067-419d-9532-378c6f36fd69",
        "part": "whole"
       },
       "id": "add32de8-317f-4069-a350-a458f3c72ccf"
      }
     }
    },
    "1776d003-6d9a-4f23-9d96-699132adcd76": {
     "id": "1776d003-6d9a-4f23-9d96-699132adcd76",
     "prev": "53b3e9a4-62db-4c7a-8cfa-fc9f79aee34c",
     "regions": {
      "70125e66-c103-4611-a5da-d3cb44c63b9b": {
       "attrs": {
        "height": 0.8,
        "width": 0.8,
        "x": 0.1,
        "y": 0.1
       },
       "content": {
        "cell": "2152a599-0581-4406-a32c-58b4ff36711a",
        "part": "whole"
       },
       "id": "70125e66-c103-4611-a5da-d3cb44c63b9b"
      }
     }
    },
    "1e29821d-1c4f-4da7-bbe5-c979e7357e74": {
     "id": "1e29821d-1c4f-4da7-bbe5-c979e7357e74",
     "prev": "f71b51d6-502c-4fed-9f1c-1ca9c7856bab",
     "regions": {
      "13a49cd8-72d5-4e60-a7fb-17efba769077": {
       "attrs": {
        "height": 0.8,
        "width": 0.8,
        "x": 0.1,
        "y": 0.1
       },
       "content": {
        "cell": "23d9b7ef-11db-419b-9f97-7bb07a1e3ca5",
        "part": "whole"
       },
       "id": "13a49cd8-72d5-4e60-a7fb-17efba769077"
      }
     }
    },
    "201e343b-d43c-49a4-b269-144375cc209b": {
     "id": "201e343b-d43c-49a4-b269-144375cc209b",
     "prev": "a8f84401-1564-46ed-9f98-3b5c5587fc2b",
     "regions": {
      "2dfbb0e7-5c43-466a-846c-8b9594885821": {
       "attrs": {
        "height": 0.8,
        "width": 0.8,
        "x": 0.1,
        "y": 0.1
       },
       "content": {
        "cell": "bc5e3810-08b3-41aa-af97-0159bf9be597",
        "part": "whole"
       },
       "id": "2dfbb0e7-5c43-466a-846c-8b9594885821"
      }
     }
    },
    "2f493bea-47ab-4331-bb67-b54b8e3dc9d3": {
     "id": "2f493bea-47ab-4331-bb67-b54b8e3dc9d3",
     "prev": "140f2fe3-3b71-4459-b7b6-6ae13d350899",
     "regions": {
      "1a39a72b-ce0e-4369-957c-7e6d4d807e6f": {
       "attrs": {
        "height": 0.8,
        "width": 0.8,
        "x": 0.1,
        "y": 0.1
       },
       "content": {
        "cell": "7fd9e75d-7abf-4dca-b173-23405ebdfbf6",
        "part": "whole"
       },
       "id": "1a39a72b-ce0e-4369-957c-7e6d4d807e6f"
      }
     }
    },
    "30262120-abbd-4411-bd89-1b5a439d5e3f": {
     "id": "30262120-abbd-4411-bd89-1b5a439d5e3f",
     "prev": "d41619a3-547d-4c04-be26-a5c33b88d40b",
     "regions": {
      "f4b170ee-2f1b-4b02-8766-a2fc64512189": {
       "attrs": {
        "height": 0.8,
        "width": 0.8,
        "x": 0.1,
        "y": 0.1
       },
       "content": {
        "cell": "46697539-829d-406f-8722-7b4f7ec3beee",
        "part": "whole"
       },
       "id": "f4b170ee-2f1b-4b02-8766-a2fc64512189"
      }
     }
    },
    "331f88b5-9322-49f1-adc5-75ac27be66dd": {
     "id": "331f88b5-9322-49f1-adc5-75ac27be66dd",
     "prev": "0cef4fe0-fb8d-4d04-8499-a0aeb8e39c83",
     "regions": {
      "d01c1b37-6ee0-4b05-8f98-0fdb1810f1e2": {
       "attrs": {
        "height": 0.8,
        "width": 0.8,
        "x": 0.1,
        "y": 0.1
       },
       "content": {
        "cell": "8e615a03-a616-4ce6-aaed-149bb7dc6c41",
        "part": "whole"
       },
       "id": "d01c1b37-6ee0-4b05-8f98-0fdb1810f1e2"
      }
     }
    },
    "34a7e350-fa50-4409-b82e-754894829e6b": {
     "id": "34a7e350-fa50-4409-b82e-754894829e6b",
     "prev": "2f493bea-47ab-4331-bb67-b54b8e3dc9d3",
     "regions": {
      "e155d08e-29ff-43e8-9582-d39d249f8f25": {
       "attrs": {
        "height": 0.8,
        "width": 0.8,
        "x": 0.1,
        "y": 0.1
       },
       "content": {
        "cell": "688b7bd8-bb00-442d-a195-dd1310424d82",
        "part": "whole"
       },
       "id": "e155d08e-29ff-43e8-9582-d39d249f8f25"
      }
     }
    },
    "363f8c01-8fa5-4d3a-be48-fbe5f510f37f": {
     "id": "363f8c01-8fa5-4d3a-be48-fbe5f510f37f",
     "prev": "bcf6777e-3eda-47d6-b99d-addd1ee0971d",
     "regions": {
      "9bd9bb83-09cf-476f-bf5f-1a626ef786c7": {
       "attrs": {
        "height": 0.8,
        "width": 0.8,
        "x": 0.1,
        "y": 0.1
       },
       "content": {
        "cell": "1f6a12bd-9325-457d-83d0-9e374033e64f",
        "part": "whole"
       },
       "id": "9bd9bb83-09cf-476f-bf5f-1a626ef786c7"
      }
     }
    },
    "39047648-1076-4f6f-97a9-18850caefd42": {
     "id": "39047648-1076-4f6f-97a9-18850caefd42",
     "prev": "ceb43268-457f-4903-99d1-30e57078a37e",
     "regions": {
      "505fa6dc-a635-4d40-b72f-dcacbd3abbd6": {
       "attrs": {
        "height": 0.8,
        "width": 0.8,
        "x": 0.1,
        "y": 0.1
       },
       "content": {
        "cell": "e537aed2-414b-4e59-be59-5cee147398b5",
        "part": "whole"
       },
       "id": "505fa6dc-a635-4d40-b72f-dcacbd3abbd6"
      }
     }
    },
    "3cda56c3-eb5e-48b8-9212-92a62a2a7826": {
     "id": "3cda56c3-eb5e-48b8-9212-92a62a2a7826",
     "prev": "201e343b-d43c-49a4-b269-144375cc209b",
     "regions": {
      "bd3c7db9-0274-4f8a-8f10-379915d3f716": {
       "attrs": {
        "height": 0.8,
        "width": 0.8,
        "x": 0.1,
        "y": 0.1
       },
       "content": {
        "cell": "c3593bde-7eee-4a9d-8565-7d9774947404",
        "part": "whole"
       },
       "id": "bd3c7db9-0274-4f8a-8f10-379915d3f716"
      }
     }
    },
    "46a01693-1013-42d2-8d91-b3712ff3c87a": {
     "id": "46a01693-1013-42d2-8d91-b3712ff3c87a",
     "prev": "05f2d009-1afe-4edb-8e44-3886ff90f662",
     "regions": {
      "175e092d-bf70-405b-863f-015ab6587671": {
       "attrs": {
        "height": 0.8,
        "width": 0.8,
        "x": 0.1,
        "y": 0.1
       },
       "content": {
        "cell": "fd3d5300-60a1-4873-a52d-a9d5b89b3463",
        "part": "whole"
       },
       "id": "175e092d-bf70-405b-863f-015ab6587671"
      }
     }
    },
    "50e992a5-4a41-4ae5-a900-ef487cd4ae35": {
     "id": "50e992a5-4a41-4ae5-a900-ef487cd4ae35",
     "prev": "574d6678-3a5c-4308-9721-08a400ed1c5c",
     "regions": {
      "ed346ef0-2c3c-4f49-8a7f-2d285a89d18f": {
       "attrs": {
        "height": 0.8,
        "width": 0.8,
        "x": 0.1,
        "y": 0.1
       },
       "content": {
        "cell": "61921e49-660e-4d97-a4c8-feec4804e2ce",
        "part": "whole"
       },
       "id": "ed346ef0-2c3c-4f49-8a7f-2d285a89d18f"
      }
     }
    },
    "51573f2c-47b4-4e58-8d26-c5a4bd5bad73": {
     "id": "51573f2c-47b4-4e58-8d26-c5a4bd5bad73",
     "prev": "5eeee22c-1a7f-4886-9d4e-d2dbf6236f7b",
     "regions": {
      "13c66008-6e50-4845-96bc-ff9377c4c983": {
       "attrs": {
        "height": 0.8,
        "width": 0.8,
        "x": 0.1,
        "y": 0.1
       },
       "content": {
        "cell": "4d17de12-2451-4b0b-ab3b-a73bf7f6e9dc",
        "part": "whole"
       },
       "id": "13c66008-6e50-4845-96bc-ff9377c4c983"
      }
     }
    },
    "53b3e9a4-62db-4c7a-8cfa-fc9f79aee34c": {
     "id": "53b3e9a4-62db-4c7a-8cfa-fc9f79aee34c",
     "prev": "363f8c01-8fa5-4d3a-be48-fbe5f510f37f",
     "regions": {
      "c4999ffb-39fa-4078-b348-70fe2e877a91": {
       "attrs": {
        "height": 0.8,
        "width": 0.8,
        "x": 0.1,
        "y": 0.1
       },
       "content": {
        "cell": "a0086b4c-7e4a-4bc7-b720-7ef6bf2508ad",
        "part": "whole"
       },
       "id": "c4999ffb-39fa-4078-b348-70fe2e877a91"
      }
     }
    },
    "5475c970-b6a6-472c-8c50-5a792b6d7239": {
     "id": "5475c970-b6a6-472c-8c50-5a792b6d7239",
     "prev": "39047648-1076-4f6f-97a9-18850caefd42",
     "regions": {
      "2118fa40-e217-4d08-81d6-6170d4352e71": {
       "attrs": {
        "height": 0.8,
        "width": 0.8,
        "x": 0.1,
        "y": 0.1
       },
       "content": {
        "cell": "22d6a20f-fa82-4df0-8aac-29c150397a1f",
        "part": "whole"
       },
       "id": "2118fa40-e217-4d08-81d6-6170d4352e71"
      }
     }
    },
    "54fdedeb-5ba3-4a3b-9434-5848640aec04": {
     "id": "54fdedeb-5ba3-4a3b-9434-5848640aec04",
     "prev": "b6bd6bfd-15ba-42b0-8c9f-0c7da3f2c412",
     "regions": {
      "85dd6a4b-89d5-4d2a-9ec2-b921fb785e59": {
       "attrs": {
        "height": 0.8,
        "width": 0.8,
        "x": 0.1,
        "y": 0.1
       },
       "content": {
        "cell": "fe638683-0efb-49b6-93d2-4e8f22f15e6a",
        "part": "whole"
       },
       "id": "85dd6a4b-89d5-4d2a-9ec2-b921fb785e59"
      }
     }
    },
    "565b4230-1376-4e7c-a13e-b4995b8a0bba": {
     "id": "565b4230-1376-4e7c-a13e-b4995b8a0bba",
     "prev": "34a7e350-fa50-4409-b82e-754894829e6b",
     "regions": {
      "ebc439f8-9559-4dee-8a5d-ae06b3d11bf2": {
       "attrs": {
        "height": 0.8,
        "width": 0.8,
        "x": 0.1,
        "y": 0.1
       },
       "content": {
        "cell": "ac3b8bc5-6733-46cf-9451-10b7c9ef8d88",
        "part": "whole"
       },
       "id": "ebc439f8-9559-4dee-8a5d-ae06b3d11bf2"
      }
     }
    },
    "574d6678-3a5c-4308-9721-08a400ed1c5c": {
     "id": "574d6678-3a5c-4308-9721-08a400ed1c5c",
     "prev": "46a01693-1013-42d2-8d91-b3712ff3c87a",
     "regions": {
      "bef7e15a-4149-459d-a43e-b10ac158063c": {
       "attrs": {
        "height": 0.8,
        "width": 0.8,
        "x": 0.1,
        "y": 0.1
       },
       "content": {
        "cell": "f2b0a490-a67d-47fc-872f-1e4696886ecb",
        "part": "whole"
       },
       "id": "bef7e15a-4149-459d-a43e-b10ac158063c"
      }
     }
    },
    "576b393a-49c9-418c-88c8-d809cf395f9b": {
     "id": "576b393a-49c9-418c-88c8-d809cf395f9b",
     "prev": "f352183b-c020-4e8d-b0c5-22bee23dc2fe",
     "regions": {
      "34336a75-959c-449a-ac26-326f6f712351": {
       "attrs": {
        "height": 0.8,
        "width": 0.8,
        "x": 0.1,
        "y": 0.1
       },
       "content": {
        "cell": "eaf0b191-c85a-48b9-9bcb-b38ca076c9b4",
        "part": "whole"
       },
       "id": "34336a75-959c-449a-ac26-326f6f712351"
      }
     }
    },
    "57f789db-05dd-4bf0-8526-3c0ad9fe84ef": {
     "id": "57f789db-05dd-4bf0-8526-3c0ad9fe84ef",
     "prev": "a3a6270c-ba38-4a61-9885-cdcefc707993",
     "regions": {
      "10fbe879-f4ba-42f8-a10f-c2d794f23a9a": {
       "attrs": {
        "height": 0.8,
        "width": 0.8,
        "x": 0.1,
        "y": 0.1
       },
       "content": {
        "cell": "c158c2fc-56b7-40a7-a765-d7a3b4692839",
        "part": "whole"
       },
       "id": "10fbe879-f4ba-42f8-a10f-c2d794f23a9a"
      }
     }
    },
    "5eea5861-97ec-4b43-9f13-f54553e5f4f8": {
     "id": "5eea5861-97ec-4b43-9f13-f54553e5f4f8",
     "prev": "f7603915-d5b5-4c40-b10a-08bb21bc64bc",
     "regions": {
      "60f7cfd2-412d-45ca-b9f3-288ec1d241d6": {
       "attrs": {
        "height": 0.8,
        "width": 0.8,
        "x": 0.1,
        "y": 0.1
       },
       "content": {
        "cell": "b43ca7bd-75e7-4d17-9f77-80ce05375dad",
        "part": "whole"
       },
       "id": "60f7cfd2-412d-45ca-b9f3-288ec1d241d6"
      }
     }
    },
    "5eeee22c-1a7f-4886-9d4e-d2dbf6236f7b": {
     "id": "5eeee22c-1a7f-4886-9d4e-d2dbf6236f7b",
     "prev": "1776d003-6d9a-4f23-9d96-699132adcd76",
     "regions": {
      "b8223200-f30d-44c0-b41e-0a0db1825253": {
       "attrs": {
        "height": 0.8,
        "width": 0.8,
        "x": 0.1,
        "y": 0.1
       },
       "content": {
        "cell": "a726551f-3724-4de9-87d5-0c0418852da4",
        "part": "whole"
       },
       "id": "b8223200-f30d-44c0-b41e-0a0db1825253"
      }
     }
    },
    "62668528-4383-40d4-8346-55098de21deb": {
     "id": "62668528-4383-40d4-8346-55098de21deb",
     "prev": "c1a57d7c-99c7-4e52-812c-cf2c74664e55",
     "regions": {
      "cd307f23-6a10-474d-a0b2-839f698fa5c6": {
       "attrs": {
        "height": 0.8,
        "width": 0.8,
        "x": 0.1,
        "y": 0.1
       },
       "content": {
        "cell": "ec8066e8-9812-4956-b76a-8a4d0086385c",
        "part": "whole"
       },
       "id": "cd307f23-6a10-474d-a0b2-839f698fa5c6"
      }
     }
    },
    "65d70995-6916-4f25-a4bd-b09969de74ce": {
     "id": "65d70995-6916-4f25-a4bd-b09969de74ce",
     "prev": "3cda56c3-eb5e-48b8-9212-92a62a2a7826",
     "regions": {
      "2637e2e8-d300-488e-8580-f43e05610a39": {
       "attrs": {
        "height": 0.8,
        "width": 0.8,
        "x": 0.1,
        "y": 0.1
       },
       "content": {
        "cell": "21678e5f-ad6c-46d1-8a71-f64bd9483c42",
        "part": "whole"
       },
       "id": "2637e2e8-d300-488e-8580-f43e05610a39"
      }
     }
    },
    "70e3ee2e-bfe6-4f43-af9c-6346661e54c5": {
     "id": "70e3ee2e-bfe6-4f43-af9c-6346661e54c5",
     "prev": "8aec0b7f-1025-41b7-bc0d-aa8c4448ca70",
     "regions": {
      "f9c404d5-84d6-41b9-baa3-f66373330ff2": {
       "attrs": {
        "height": 0.8,
        "width": 0.8,
        "x": 0.1,
        "y": 0.1
       },
       "content": {
        "cell": "bc5ecdb1-c51c-457f-be3f-eee94247f13b",
        "part": "whole"
       },
       "id": "f9c404d5-84d6-41b9-baa3-f66373330ff2"
      }
     }
    },
    "8a4c7762-739d-4b1e-9e82-c1ab40edf5b5": {
     "id": "8a4c7762-739d-4b1e-9e82-c1ab40edf5b5",
     "prev": "565b4230-1376-4e7c-a13e-b4995b8a0bba",
     "regions": {
      "c91c6488-bd1d-4243-bd8b-a5c7b3df186c": {
       "attrs": {
        "height": 0.8,
        "width": 0.8,
        "x": 0.1,
        "y": 0.1
       },
       "content": {
        "cell": "e45a357e-ab67-4d85-80e9-d433714f9798",
        "part": "whole"
       },
       "id": "c91c6488-bd1d-4243-bd8b-a5c7b3df186c"
      }
     }
    },
    "8aec0b7f-1025-41b7-bc0d-aa8c4448ca70": {
     "id": "8aec0b7f-1025-41b7-bc0d-aa8c4448ca70",
     "prev": "30262120-abbd-4411-bd89-1b5a439d5e3f",
     "regions": {
      "8b5fc013-d5ba-4eb4-97d7-8332986ca2d9": {
       "attrs": {
        "height": 0.8,
        "width": 0.8,
        "x": 0.1,
        "y": 0.1
       },
       "content": {
        "cell": "fb58ed5d-85bb-4ab3-9b8e-2d8b79d2df55",
        "part": "whole"
       },
       "id": "8b5fc013-d5ba-4eb4-97d7-8332986ca2d9"
      }
     }
    },
    "91501d8f-6e03-4eda-bc8e-b30ba3dfc5f0": {
     "id": "91501d8f-6e03-4eda-bc8e-b30ba3dfc5f0",
     "prev": "51573f2c-47b4-4e58-8d26-c5a4bd5bad73",
     "regions": {
      "09a4f864-d729-4241-b38e-f177c8dd729e": {
       "attrs": {
        "height": 0.8,
        "width": 0.8,
        "x": 0.1,
        "y": 0.1
       },
       "content": {
        "cell": "c96b2d58-4729-4243-8799-c21dc615fa58",
        "part": "whole"
       },
       "id": "09a4f864-d729-4241-b38e-f177c8dd729e"
      }
     }
    },
    "98743de2-1c1e-48ad-af4c-1f5af339092a": {
     "id": "98743de2-1c1e-48ad-af4c-1f5af339092a",
     "prev": "65d70995-6916-4f25-a4bd-b09969de74ce",
     "regions": {
      "7bf9c7ba-0f21-4335-8e2f-c1167cb2713e": {
       "attrs": {
        "height": 0.8,
        "width": 0.8,
        "x": 0.1,
        "y": 0.1
       },
       "content": {
        "cell": "4ddff9a8-0a31-4889-bedb-b64d10eddcc1",
        "part": "whole"
       },
       "id": "7bf9c7ba-0f21-4335-8e2f-c1167cb2713e"
      }
     }
    },
    "9b722714-7a0c-41fe-a2ea-7a1065f9fcfb": {
     "id": "9b722714-7a0c-41fe-a2ea-7a1065f9fcfb",
     "prev": null,
     "regions": {
      "c2409342-142e-4490-99ab-2bd221db4aba": {
       "attrs": {
        "height": 0.8,
        "width": 0.8,
        "x": 0.1,
        "y": 0.1
       },
       "content": {
        "cell": "31b17f54-6bfd-48da-ade1-d08773cc47f1",
        "part": "whole"
       },
       "id": "c2409342-142e-4490-99ab-2bd221db4aba"
      }
     }
    },
    "a3a6270c-ba38-4a61-9885-cdcefc707993": {
     "id": "a3a6270c-ba38-4a61-9885-cdcefc707993",
     "prev": "a7232942-629c-40bc-a9f6-2843f15aa652",
     "regions": {
      "8c3ed09e-4098-4a54-8d79-f0f3145629b0": {
       "attrs": {
        "height": 0.8,
        "width": 0.8,
        "x": 0.1,
        "y": 0.1
       },
       "content": {
        "cell": "f28084b0-cc2e-4231-842f-5765d92d44f0",
        "part": "whole"
       },
       "id": "8c3ed09e-4098-4a54-8d79-f0f3145629b0"
      }
     }
    },
    "a7232942-629c-40bc-a9f6-2843f15aa652": {
     "id": "a7232942-629c-40bc-a9f6-2843f15aa652",
     "prev": "f4146329-5a8f-4afa-b173-bf72e045d2e2",
     "regions": {
      "cbd01583-9fdc-45aa-86fd-66e5acdc068a": {
       "attrs": {
        "height": 0.8,
        "width": 0.8,
        "x": 0.1,
        "y": 0.1
       },
       "content": {
        "cell": "6244226e-a91b-4767-83da-d41e882399a4",
        "part": "whole"
       },
       "id": "cbd01583-9fdc-45aa-86fd-66e5acdc068a"
      }
     }
    },
    "a8b9740f-17bf-4874-854a-81138b906f1e": {
     "id": "a8b9740f-17bf-4874-854a-81138b906f1e",
     "prev": "ccb90a10-a80d-478d-b925-2bc0c979183e",
     "regions": {
      "9df434d3-a4fe-4d81-8b5f-2711cf8c285e": {
       "attrs": {
        "height": 0.8,
        "width": 0.8,
        "x": 0.1,
        "y": 0.1
       },
       "content": {
        "cell": "bbe5cc20-ad4f-482c-8f94-09de87752d30",
        "part": "whole"
       },
       "id": "9df434d3-a4fe-4d81-8b5f-2711cf8c285e"
      }
     }
    },
    "a8f84401-1564-46ed-9f98-3b5c5587fc2b": {
     "id": "a8f84401-1564-46ed-9f98-3b5c5587fc2b",
     "prev": "70e3ee2e-bfe6-4f43-af9c-6346661e54c5",
     "regions": {
      "0f60d3c1-372d-40d6-b59e-ad867e1c63f6": {
       "attrs": {
        "height": 0.8,
        "width": 0.8,
        "x": 0.1,
        "y": 0.1
       },
       "content": {
        "cell": "8a9b81d1-058f-4a37-acbe-b825045866b4",
        "part": "whole"
       },
       "id": "0f60d3c1-372d-40d6-b59e-ad867e1c63f6"
      }
     }
    },
    "b054cb8c-2fae-45e7-a1ea-5ddf5fafd04b": {
     "id": "b054cb8c-2fae-45e7-a1ea-5ddf5fafd04b",
     "prev": "98743de2-1c1e-48ad-af4c-1f5af339092a",
     "regions": {
      "e21ecc9f-a912-45da-96a2-b4d1f970628e": {
       "attrs": {
        "height": 0.8,
        "width": 0.8,
        "x": 0.1,
        "y": 0.1
       },
       "content": {
        "cell": "177ee67d-3e38-4009-b65e-4d08f79c862b",
        "part": "whole"
       },
       "id": "e21ecc9f-a912-45da-96a2-b4d1f970628e"
      }
     }
    },
    "b6bd6bfd-15ba-42b0-8c9f-0c7da3f2c412": {
     "id": "b6bd6bfd-15ba-42b0-8c9f-0c7da3f2c412",
     "prev": "da843dce-021d-471b-a542-f4b8d2591a62",
     "regions": {
      "6550d1d6-e978-43e5-9e79-6f7d4a718cd4": {
       "attrs": {
        "height": 0.8,
        "width": 0.8,
        "x": 0.1,
        "y": 0.1
       },
       "content": {
        "cell": "6975bd59-2a7c-466c-b248-7dbff82dea79",
        "part": "whole"
       },
       "id": "6550d1d6-e978-43e5-9e79-6f7d4a718cd4"
      }
     }
    },
    "ba74b38b-6de6-4f16-b7b1-bb78365fee8a": {
     "id": "ba74b38b-6de6-4f16-b7b1-bb78365fee8a",
     "prev": "cf0820e2-9708-4c69-96e1-cfaab18170b6",
     "regions": {
      "a109cf38-42d4-49f1-b5c3-e5d95e13a5f3": {
       "attrs": {
        "height": 0.8,
        "width": 0.8,
        "x": 0.1,
        "y": 0.1
       },
       "content": {
        "cell": "5fef2737-5cde-43e2-8c05-04320722da93",
        "part": "whole"
       },
       "id": "a109cf38-42d4-49f1-b5c3-e5d95e13a5f3"
      }
     }
    },
    "bbc708aa-4a8b-4aae-bd36-7dbe87a4172d": {
     "id": "bbc708aa-4a8b-4aae-bd36-7dbe87a4172d",
     "prev": "0e6eef49-e6e3-4a88-81ef-9ca6538de3c7",
     "regions": {
      "306c285e-6439-4773-be85-1d6b90b44dcb": {
       "attrs": {
        "height": 0.8,
        "width": 0.8,
        "x": 0.1,
        "y": 0.1
       },
       "content": {
        "cell": "96008087-cb6e-4ba1-b9c6-b4480835ef0f",
        "part": "whole"
       },
       "id": "306c285e-6439-4773-be85-1d6b90b44dcb"
      }
     }
    },
    "bcf6777e-3eda-47d6-b99d-addd1ee0971d": {
     "id": "bcf6777e-3eda-47d6-b99d-addd1ee0971d",
     "prev": "576b393a-49c9-418c-88c8-d809cf395f9b",
     "regions": {
      "fd7ec647-ff66-4fc9-b026-508f4f73fd73": {
       "attrs": {
        "height": 0.8,
        "width": 0.8,
        "x": 0.1,
        "y": 0.1
       },
       "content": {
        "cell": "bcd1daea-0849-4cd4-9349-a7f52641eb95",
        "part": "whole"
       },
       "id": "fd7ec647-ff66-4fc9-b026-508f4f73fd73"
      }
     }
    },
    "c1a57d7c-99c7-4e52-812c-cf2c74664e55": {
     "id": "c1a57d7c-99c7-4e52-812c-cf2c74664e55",
     "prev": "8a4c7762-739d-4b1e-9e82-c1ab40edf5b5",
     "regions": {
      "1981b742-5951-4860-9e99-bbd9c5ba71a8": {
       "attrs": {
        "height": 0.8,
        "width": 0.8,
        "x": 0.1,
        "y": 0.1
       },
       "content": {
        "cell": "9c6d2ec8-2fd6-43ac-89e7-293228019bb2",
        "part": "whole"
       },
       "id": "1981b742-5951-4860-9e99-bbd9c5ba71a8"
      }
     }
    },
    "c27308f0-bd6b-4b36-8ff1-6ce863894538": {
     "id": "c27308f0-bd6b-4b36-8ff1-6ce863894538",
     "prev": "cb39cf50-e059-426b-b314-52968b249608",
     "regions": {
      "d9d1c211-e2e4-4242-a9ac-6186c72f7fb9": {
       "attrs": {
        "height": 0.8,
        "width": 0.8,
        "x": 0.1,
        "y": 0.1
       },
       "content": {
        "cell": "a9d68eeb-a68b-487f-8fb9-088168cddbda",
        "part": "whole"
       },
       "id": "d9d1c211-e2e4-4242-a9ac-6186c72f7fb9"
      }
     }
    },
    "cb39cf50-e059-426b-b314-52968b249608": {
     "id": "cb39cf50-e059-426b-b314-52968b249608",
     "prev": "a8b9740f-17bf-4874-854a-81138b906f1e",
     "regions": {
      "7d1736b5-d6db-49ea-bb88-d6240a63bf60": {
       "attrs": {
        "height": 0.8,
        "width": 0.8,
        "x": 0.1,
        "y": 0.1
       },
       "content": {
        "cell": "dacd12f0-444b-4759-af58-27d4ba1c4fe5",
        "part": "whole"
       },
       "id": "7d1736b5-d6db-49ea-bb88-d6240a63bf60"
      }
     }
    },
    "cb89c63b-a2fd-4e72-b76c-7fc44dd7b6be": {
     "id": "cb89c63b-a2fd-4e72-b76c-7fc44dd7b6be",
     "prev": "bbc708aa-4a8b-4aae-bd36-7dbe87a4172d",
     "regions": {
      "d012c252-7d7b-4633-985d-873edc19d5bc": {
       "attrs": {
        "height": 0.8,
        "width": 0.8,
        "x": 0.1,
        "y": 0.1
       },
       "content": {
        "cell": "2a72aece-5261-4bad-883b-b21455f957cc",
        "part": "whole"
       },
       "id": "d012c252-7d7b-4633-985d-873edc19d5bc"
      }
     }
    },
    "ccb90a10-a80d-478d-b925-2bc0c979183e": {
     "id": "ccb90a10-a80d-478d-b925-2bc0c979183e",
     "prev": "ba74b38b-6de6-4f16-b7b1-bb78365fee8a",
     "regions": {
      "231f19ab-00e3-47fa-9cd3-cfc74bca54b3": {
       "attrs": {
        "height": 0.8,
        "width": 0.8,
        "x": 0.1,
        "y": 0.1
       },
       "content": {
        "cell": "31b80b11-4918-48ac-a513-974a85830a0a",
        "part": "whole"
       },
       "id": "231f19ab-00e3-47fa-9cd3-cfc74bca54b3"
      }
     }
    },
    "ceb43268-457f-4903-99d1-30e57078a37e": {
     "id": "ceb43268-457f-4903-99d1-30e57078a37e",
     "prev": "331f88b5-9322-49f1-adc5-75ac27be66dd",
     "regions": {
      "f1f8982d-80e7-4081-b787-451ad5a723e7": {
       "attrs": {
        "height": 0.8,
        "width": 0.8,
        "x": 0.1,
        "y": 0.1
       },
       "content": {
        "cell": "1301be86-24d2-45a3-aced-d0b4948e765b",
        "part": "whole"
       },
       "id": "f1f8982d-80e7-4081-b787-451ad5a723e7"
      }
     }
    },
    "cf0820e2-9708-4c69-96e1-cfaab18170b6": {
     "id": "cf0820e2-9708-4c69-96e1-cfaab18170b6",
     "prev": "50e992a5-4a41-4ae5-a900-ef487cd4ae35",
     "regions": {
      "b052b2ed-acc4-491e-a9c1-4c418029bacf": {
       "attrs": {
        "height": 0.8,
        "width": 0.8,
        "x": 0.1,
        "y": 0.1
       },
       "content": {
        "cell": "902f0953-1cc3-465a-a93b-aa08daf2b18b",
        "part": "whole"
       },
       "id": "b052b2ed-acc4-491e-a9c1-4c418029bacf"
      }
     }
    },
    "d41619a3-547d-4c04-be26-a5c33b88d40b": {
     "id": "d41619a3-547d-4c04-be26-a5c33b88d40b",
     "prev": "1e29821d-1c4f-4da7-bbe5-c979e7357e74",
     "regions": {
      "83fa0715-62ef-41ce-a8be-7e7e9f45a4a1": {
       "attrs": {
        "height": 0.8,
        "width": 0.8,
        "x": 0.1,
        "y": 0.1
       },
       "content": {
        "cell": "44f6c13e-aae6-4bcf-97f5-5527bacc0512",
        "part": "whole"
       },
       "id": "83fa0715-62ef-41ce-a8be-7e7e9f45a4a1"
      }
     }
    },
    "da843dce-021d-471b-a542-f4b8d2591a62": {
     "id": "da843dce-021d-471b-a542-f4b8d2591a62",
     "prev": "cb89c63b-a2fd-4e72-b76c-7fc44dd7b6be",
     "regions": {
      "588d63ad-348c-4393-bff0-7983fbc6fb98": {
       "attrs": {
        "height": 0.8,
        "width": 0.8,
        "x": 0.1,
        "y": 0.1
       },
       "content": {
        "cell": "98a57c6a-25fc-4597-9098-5521b9153f5b",
        "part": "whole"
       },
       "id": "588d63ad-348c-4393-bff0-7983fbc6fb98"
      }
     }
    },
    "f352183b-c020-4e8d-b0c5-22bee23dc2fe": {
     "id": "f352183b-c020-4e8d-b0c5-22bee23dc2fe",
     "prev": "57f789db-05dd-4bf0-8526-3c0ad9fe84ef",
     "regions": {
      "e60b3552-f330-4638-8dd6-2641f172504f": {
       "attrs": {
        "height": 0.8,
        "width": 0.8,
        "x": 0.1,
        "y": 0.1
       },
       "content": {
        "cell": "be794056-435f-49e2-b69b-2ca5409710bf",
        "part": "whole"
       },
       "id": "e60b3552-f330-4638-8dd6-2641f172504f"
      }
     }
    },
    "f4146329-5a8f-4afa-b173-bf72e045d2e2": {
     "id": "f4146329-5a8f-4afa-b173-bf72e045d2e2",
     "prev": "5475c970-b6a6-472c-8c50-5a792b6d7239",
     "regions": {
      "71d82122-be41-4ecf-b333-56d798905c13": {
       "attrs": {
        "height": 0.8,
        "width": 0.8,
        "x": 0.1,
        "y": 0.1
       },
       "content": {
        "cell": "1940dcd6-9b8b-4dea-af39-ca75e72062aa",
        "part": "whole"
       },
       "id": "71d82122-be41-4ecf-b333-56d798905c13"
      }
     }
    },
    "f71b51d6-502c-4fed-9f1c-1ca9c7856bab": {
     "id": "f71b51d6-502c-4fed-9f1c-1ca9c7856bab",
     "prev": "9b722714-7a0c-41fe-a2ea-7a1065f9fcfb",
     "regions": {
      "1db50964-9f01-4c97-9d5b-778c2bcdb4bf": {
       "attrs": {
        "height": 0.8,
        "width": 0.8,
        "x": 0.1,
        "y": 0.1
       },
       "content": {
        "cell": "21d8d7fd-501d-4eec-abd4-a827100e5406",
        "part": "whole"
       },
       "id": "1db50964-9f01-4c97-9d5b-778c2bcdb4bf"
      }
     }
    },
    "f7603915-d5b5-4c40-b10a-08bb21bc64bc": {
     "id": "f7603915-d5b5-4c40-b10a-08bb21bc64bc",
     "prev": "54fdedeb-5ba3-4a3b-9434-5848640aec04",
     "regions": {
      "1c520645-43cc-4a54-a8b7-869917f8d407": {
       "attrs": {
        "height": 0.8,
        "width": 0.8,
        "x": 0.1,
        "y": 0.1
       },
       "content": {
        "cell": "65904084-4721-4b58-8ea5-711b7b6388fa",
        "part": "whole"
       },
       "id": "1c520645-43cc-4a54-a8b7-869917f8d407"
      }
     }
    }
   },
   "themes": {}
  }
 },
 "nbformat": 4,
 "nbformat_minor": 1
}
